{
  "nbformat": 4,
  "nbformat_minor": 0,
  "metadata": {
    "colab": {
      "name": "산공데분대회ver1.1.ipynb",
      "provenance": [],
      "collapsed_sections": [],
      "mount_file_id": "1B2BuD4LUJAo0yvqkHaqcXVKtRTc1W66s",
      "authorship_tag": "ABX9TyNgNSBMIoAy+u2zsT1KbBlW",
      "include_colab_link": true
    },
    "kernelspec": {
      "name": "python3",
      "display_name": "Python 3"
    }
  },
  "cells": [
    {
      "cell_type": "markdown",
      "metadata": {
        "id": "view-in-github",
        "colab_type": "text"
      },
      "source": [
        "<a href=\"https://colab.research.google.com/github/HWANG-HOE-SUN/BigSound/blob/master/%EC%82%B0%EA%B3%B5%EB%8D%B0%EB%B6%84%EB%8C%80%ED%9A%8Cver1_1.ipynb\" target=\"_parent\"><img src=\"https://colab.research.google.com/assets/colab-badge.svg\" alt=\"Open In Colab\"/></a>"
      ]
    },
    {
      "cell_type": "code",
      "metadata": {
        "id": "O2be9RR62cwM",
        "outputId": "2c29184f-4901-4485-fc3d-145c55015938",
        "colab": {
          "base_uri": "https://localhost:8080/",
          "height": 52
        }
      },
      "source": [
        "import pandas as pd\n",
        "import matplotlib.pyplot as plt\n",
        "import seaborn as sns"
      ],
      "execution_count": 2,
      "outputs": [
        {
          "output_type": "stream",
          "text": [
            "/usr/local/lib/python3.6/dist-packages/statsmodels/tools/_testing.py:19: FutureWarning: pandas.util.testing is deprecated. Use the functions in the public API at pandas.testing instead.\n",
            "  import pandas.util.testing as tm\n"
          ],
          "name": "stderr"
        }
      ]
    },
    {
      "cell_type": "code",
      "metadata": {
        "id": "39dOmNppNK13"
      },
      "source": [
        "Data = pd.read_excel('/content/drive/My Drive/2020산공데분대회/데이터셋/수도권평생학습/수도권평생학습.xlsx')"
      ],
      "execution_count": 3,
      "outputs": []
    },
    {
      "cell_type": "markdown",
      "metadata": {
        "id": "k0qs0G-A6s0V"
      },
      "source": [
        "# 워딩"
      ]
    },
    {
      "cell_type": "code",
      "metadata": {
        "id": "lGuDu7Wu6ttq"
      },
      "source": [
        "beauty = ['네일','화장품','비누','아로마','향수','피부관리','천연','헤어']\n",
        "cooking = ['요리','음식','차','김치','샌드위치','떡','브런치','제과','제빵','베이커리','베이킹',\n",
        "           '케이크','고추장','한식','양식','가정식','디저트','건강식']\n",
        "cloth = ['옷','의류','재봉','한복','핏','패션','의상','웨어']\n",
        "health = ['구기','헬스','요가','필라테스','무용','에어로빅']\n",
        "it = ['코딩','디지털','4차산업','sns','유튜브','미디어','엑셀','파워포인트','컴퓨터','인터넷','스마트폰','ITQ']\n",
        "language = ['한글','영어','일본어','한국어','외국어','번역','회화','여행','문해','프리토킹','문법','한문']\n",
        "craft = ['꽃','공예','DIY','목공','섬유','의상','꽃꽂이','화훼','도예','자수','퀼트']\n",
        "art = ['미술','일러스트','수채화','기타','드럼','해금','하모니카','오카리나','색소폰','플루트','드로잉','pop','캘리그라피','합창',\n",
        "       '가곡','가요','민요','서양화','수묵화','소묘','그리기','스케치','손글씨','캐리커쳐','노래','댄스','풍물','아트','오케스트라',\n",
        "       '뮤지컬','바이올린','우쿨렐레','도자기','인물화','악기','서예','페인팅','포토','드럼','사군자']"
      ],
      "execution_count": 4,
      "outputs": []
    },
    {
      "cell_type": "code",
      "metadata": {
        "id": "4QICmgOENHvT"
      },
      "source": [
        "small = Data.iloc[0:50]"
      ],
      "execution_count": 5,
      "outputs": []
    },
    {
      "cell_type": "code",
      "metadata": {
        "id": "a1lnwcZzYRBm",
        "outputId": "60f0d3d7-d0b3-4a99-9ea8-50d151ef1bcd",
        "colab": {
          "base_uri": "https://localhost:8080/",
          "height": 1000
        }
      },
      "source": [
        "small['강좌명'],hallo"
      ],
      "execution_count": 17,
      "outputs": [
        {
          "output_type": "execute_result",
          "data": {
            "text/plain": [
              "(0                          사진작품연구반\n",
              " 1                      디지털카메라(초중급)\n",
              " 2                인간 세종대왕, 스토리로 말하다\n",
              " 3                    미디어로 떠나는 역사산책\n",
              " 4                      토론을 위한 고전읽기\n",
              " 5               시를 읽는 사람은 꿈을 색칠합니다\n",
              " 6                      도슨트양성교육(기본)\n",
              " 7                        현장미술 100선\n",
              " 8             3만원부터 투자가능한 현대미술 이야기\n",
              " 9                      브람스를 좋아하세요?\n",
              " 10                         프랑스음식기행\n",
              " 11                        불교미술다시보기\n",
              " 12                      현대미술 완전 정복\n",
              " 13                  클래식으로 떠나는 세계여행\n",
              " 14                          잡학의 쓸모\n",
              " 15               국민연금공단과 함께하는 은퇴학교\n",
              " 16              쉽게보는 동아시아 고전-공자 논어\n",
              " 17                       한국미술 바로보기\n",
              " 18                    배워서떠나자(스페인어)\n",
              " 19                       스크린영어(심화)\n",
              " 20                         프랑스예술기행\n",
              " 21     지중해서양전쟁사에서 배우는 시대통찰과 인생의 지혜\n",
              " 22                         독서코칭지도사\n",
              " 23                    우리들의 행복한 글쓰기\n",
              " 24                      배워서떠나자(영어)\n",
              " 25                     아름다운 우리 고미술\n",
              " 26                      POP와 캘리그라피\n",
              " 27                        어르신 탄탄영어\n",
              " 28                             플루트\n",
              " 29              미술심리상담사 자격증 과정(2급)\n",
              " 30              사진 나도 잘 찍을 수 있다 중급\n",
              " 31              사진 나도 잘 찍을 수 있다 초급\n",
              " 32                   창의과학레고(6~7세반)\n",
              " 33                   창의과학레고(4~5세반)\n",
              " 34                    어르신 기초영어(중급)\n",
              " 35                    어르신 ABC 기초영어\n",
              " 36                          창작보드게임\n",
              " 37                  클레이아트(컬러점토) B반\n",
              " 38                  클레이아트(컬러점토) A반\n",
              " 39                     종이접기(7,8세반)\n",
              " 40                       종이접기(6세반)\n",
              " 41                창작미술 심리교실(7,9세반)\n",
              " 42                창작미술 심리교실(5,6세반)\n",
              " 43    생각과 표현을 자유롭게 저요저요 발표교실(초등A반)\n",
              " 44     생각과 표현을 자유롭게 저요저요 발표교실(유치반)\n",
              " 45                    실용아동 미술(초등반)\n",
              " 46                    실용아동 미술(유치반)\n",
              " 47       노래와 게임으로 배우는 어린이중국어(초등B반)\n",
              " 48       노래와 게임으로 배우는 어린이중국어(초등A반)\n",
              " 49        노래와 게임으로 배우는 어린이중국어(유치반)\n",
              " Name: 강좌명, dtype: object,\n",
              " ['기타',\n",
              "  '컴퓨터',\n",
              "  '기타',\n",
              "  '컴퓨터',\n",
              "  '기타',\n",
              "  '기타',\n",
              "  '기타',\n",
              "  '예술',\n",
              "  '기타',\n",
              "  '기타',\n",
              "  '요리/제과',\n",
              "  '기타',\n",
              "  '예술',\n",
              "  '기타',\n",
              "  '기타',\n",
              "  '기타',\n",
              "  '기타',\n",
              "  '예술',\n",
              "  '기타',\n",
              "  '어학',\n",
              "  '기타',\n",
              "  '기타',\n",
              "  '기타',\n",
              "  '기타',\n",
              "  '어학',\n",
              "  '기타',\n",
              "  '예술',\n",
              "  '기타',\n",
              "  '예술',\n",
              "  '기타',\n",
              "  '기타',\n",
              "  '기타',\n",
              "  '기타',\n",
              "  '기타',\n",
              "  '어학',\n",
              "  '기타',\n",
              "  '기타',\n",
              "  '예술',\n",
              "  '기타',\n",
              "  '기타',\n",
              "  '기타',\n",
              "  '예술',\n",
              "  '기타',\n",
              "  '기타',\n",
              "  '기타',\n",
              "  '예술',\n",
              "  '기타',\n",
              "  '예술',\n",
              "  '기타',\n",
              "  '예술',\n",
              "  '기타'])"
            ]
          },
          "metadata": {
            "tags": []
          },
          "execution_count": 17
        }
      ]
    },
    {
      "cell_type": "code",
      "metadata": {
        "id": "GlNVMpGjFd9-"
      },
      "source": [
        "def to_cat(df):\n",
        "  result = []\n",
        "  i=0\n",
        "  result=[]\n",
        "  while(i<len(df)):\n",
        "    item = small.iloc[i].강좌명\n",
        "    append_count = 0\n",
        "    for a in range(len(beauty)):\n",
        "      if beauty[a] in item:\n",
        "        result.append('미용')\n",
        "        i+=1\n",
        "        append_count+=1\n",
        "        break                         #break시 하위 반복문으로 들어감 append_count가 있어야 '네일컴퓨터교육' 이런게 중첩되서 append되지 않는다.\n",
        "    for b in range(len(cooking)):\n",
        "      if append_count==1:\n",
        "        break\n",
        "      if cooking[b] in item:\n",
        "        result.append('요리/제과')\n",
        "        i+=1\n",
        "        break\n",
        "    for c in range(len(health)):\n",
        "      if append_count==1:\n",
        "        break\n",
        "      if health[c] in item:\n",
        "        result.append('체육')\n",
        "        i+=1\n",
        "        break\n",
        "    for d in range(len(it)):\n",
        "      if append_count==1:\n",
        "        break\n",
        "      if it[d] in item:\n",
        "        result.append('컴퓨터')\n",
        "        i+=1\n",
        "        break \n",
        "    for e in range(len(language)):\n",
        "      if append_count==1:\n",
        "        break\n",
        "      if language[e] in item:\n",
        "        result.append('어학')\n",
        "        i+=1\n",
        "        break\n",
        "    for f in range(len(craft)):\n",
        "      if append_count==1:\n",
        "        break\n",
        "      if craft[f] in item:\n",
        "        result.append('공예')\n",
        "        i+=1\n",
        "        break\n",
        "    for g in range(len(art)):\n",
        "      if append_count==1:\n",
        "        break\n",
        "      if art[g] in item:\n",
        "        result.append('예술')\n",
        "        i+=1\n",
        "        break\n",
        "    result.append('기타')\n",
        "    i+=1\n",
        "  return result"
      ],
      "execution_count": 21,
      "outputs": []
    },
    {
      "cell_type": "code",
      "metadata": {
        "id": "uFnE9kfsqd3b"
      },
      "source": [
        "hallo = to_cat(small)"
      ],
      "execution_count": 22,
      "outputs": []
    },
    {
      "cell_type": "code",
      "metadata": {
        "id": "AR4FMZZr5hEk",
        "outputId": "af0127a2-82e6-4999-8265-8f6621d9d15b",
        "colab": {
          "base_uri": "https://localhost:8080/",
          "height": 35
        }
      },
      "source": [
        "len(hallo)"
      ],
      "execution_count": 23,
      "outputs": [
        {
          "output_type": "execute_result",
          "data": {
            "text/plain": [
              "51"
            ]
          },
          "metadata": {
            "tags": []
          },
          "execution_count": 23
        }
      ]
    },
    {
      "cell_type": "code",
      "metadata": {
        "id": "92_-p49gw8Tz"
      },
      "source": [
        "Data['분류'] = hallo\n",
        "Data.head(3)"
      ],
      "execution_count": null,
      "outputs": []
    },
    {
      "cell_type": "code",
      "metadata": {
        "id": "O8KGebp7xHpx",
        "outputId": "a970de4f-3561-4c27-cfad-18680e0e9a31",
        "colab": {
          "base_uri": "https://localhost:8080/",
          "height": 140
        }
      },
      "source": [
        "Data['분류'].value_counts()"
      ],
      "execution_count": null,
      "outputs": [
        {
          "output_type": "execute_result",
          "data": {
            "text/plain": [
              "기타    6809\n",
              "예술     115\n",
              "체육      19\n",
              "미용       8\n",
              "공예       7\n",
              "어학       5\n",
              "Name: 분류, dtype: int64"
            ]
          },
          "metadata": {
            "tags": []
          },
          "execution_count": 132
        }
      ]
    },
    {
      "cell_type": "code",
      "metadata": {
        "id": "txSquZKbxPc2",
        "outputId": "e29e367a-eaa7-4288-944e-fb84ecc6f522",
        "colab": {
          "base_uri": "https://localhost:8080/",
          "height": 1000
        }
      },
      "source": [
        "Data[Data['분류']=='미용']"
      ],
      "execution_count": null,
      "outputs": [
        {
          "output_type": "execute_result",
          "data": {
            "text/html": [
              "<div>\n",
              "<style scoped>\n",
              "    .dataframe tbody tr th:only-of-type {\n",
              "        vertical-align: middle;\n",
              "    }\n",
              "\n",
              "    .dataframe tbody tr th {\n",
              "        vertical-align: top;\n",
              "    }\n",
              "\n",
              "    .dataframe thead th {\n",
              "        text-align: right;\n",
              "    }\n",
              "</style>\n",
              "<table border=\"1\" class=\"dataframe\">\n",
              "  <thead>\n",
              "    <tr style=\"text-align: right;\">\n",
              "      <th></th>\n",
              "      <th>강좌명</th>\n",
              "      <th>강사명</th>\n",
              "      <th>교육시작일자</th>\n",
              "      <th>교육종료일자</th>\n",
              "      <th>교육시작시각</th>\n",
              "      <th>교육종료시각</th>\n",
              "      <th>강좌내용</th>\n",
              "      <th>교육대상구분</th>\n",
              "      <th>교육방법구분</th>\n",
              "      <th>운영요일</th>\n",
              "      <th>교육장소</th>\n",
              "      <th>강좌정원수</th>\n",
              "      <th>수강료</th>\n",
              "      <th>교육장도로명주소</th>\n",
              "      <th>운영기관명</th>\n",
              "      <th>운영기관전화번호</th>\n",
              "      <th>접수시작일자</th>\n",
              "      <th>접수종료일자</th>\n",
              "      <th>접수방법구분</th>\n",
              "      <th>선정방법구분</th>\n",
              "      <th>홈페이지주소</th>\n",
              "      <th>직업능력개발훈련비지원강좌여부</th>\n",
              "      <th>학점은행제평가(학점)인정여부</th>\n",
              "      <th>평생학습계좌제평가인정여부</th>\n",
              "      <th>데이터기준일자</th>\n",
              "      <th>제공기관코드</th>\n",
              "      <th>제공기관명</th>\n",
              "      <th>분류</th>\n",
              "    </tr>\n",
              "  </thead>\n",
              "  <tbody>\n",
              "    <tr>\n",
              "      <th>5927</th>\n",
              "      <td>피부관리</td>\n",
              "      <td>박종애</td>\n",
              "      <td>2016-04-04</td>\n",
              "      <td>2016-04-27</td>\n",
              "      <td>10:30:00</td>\n",
              "      <td>12:30:00</td>\n",
              "      <td>피부관리</td>\n",
              "      <td>지역주민</td>\n",
              "      <td>오프라인</td>\n",
              "      <td>월요일</td>\n",
              "      <td>철산1동주민센터</td>\n",
              "      <td>20</td>\n",
              "      <td>30000</td>\n",
              "      <td>경기도 광명시 사성로 121</td>\n",
              "      <td>철산1동주민자치센터</td>\n",
              "      <td>02-2680-5160</td>\n",
              "      <td>2016-03-21</td>\n",
              "      <td>2016-03-31</td>\n",
              "      <td>방문접수</td>\n",
              "      <td>선착순</td>\n",
              "      <td>http://ch1.gm.go.kr ?</td>\n",
              "      <td>N</td>\n",
              "      <td>N</td>\n",
              "      <td>N</td>\n",
              "      <td>2019-09-09</td>\n",
              "      <td>3900000</td>\n",
              "      <td>경기도 광명시</td>\n",
              "      <td>미용</td>\n",
              "    </tr>\n",
              "    <tr>\n",
              "      <th>5935</th>\n",
              "      <td>피부관리</td>\n",
              "      <td>박종애</td>\n",
              "      <td>2016-07-04</td>\n",
              "      <td>2016-09-26</td>\n",
              "      <td>10:30:00</td>\n",
              "      <td>12:30:00</td>\n",
              "      <td>피부관리</td>\n",
              "      <td>지역주민</td>\n",
              "      <td>오프라인</td>\n",
              "      <td>월요일</td>\n",
              "      <td>철산1동주민센터</td>\n",
              "      <td>20</td>\n",
              "      <td>30000</td>\n",
              "      <td>경기도 광명시 사성로 121</td>\n",
              "      <td>철산1동주민자치센터</td>\n",
              "      <td>02-2680-5160</td>\n",
              "      <td>2016-06-20</td>\n",
              "      <td>2016-06-30</td>\n",
              "      <td>방문접수</td>\n",
              "      <td>선착순</td>\n",
              "      <td>http://ch1.gm.go.kr ?</td>\n",
              "      <td>N</td>\n",
              "      <td>N</td>\n",
              "      <td>N</td>\n",
              "      <td>2019-09-09</td>\n",
              "      <td>3900000</td>\n",
              "      <td>경기도 광명시</td>\n",
              "      <td>미용</td>\n",
              "    </tr>\n",
              "    <tr>\n",
              "      <th>6095</th>\n",
              "      <td>피부관리</td>\n",
              "      <td>박종애</td>\n",
              "      <td>2017-01-02</td>\n",
              "      <td>2017-03-31</td>\n",
              "      <td>10:30:00</td>\n",
              "      <td>12:30:00</td>\n",
              "      <td>피부관리</td>\n",
              "      <td>지역주민</td>\n",
              "      <td>오프라인</td>\n",
              "      <td>월요일</td>\n",
              "      <td>철산1동주민센터</td>\n",
              "      <td>20</td>\n",
              "      <td>30000</td>\n",
              "      <td>경기도 광명시 사성로 121</td>\n",
              "      <td>철산1동주민자치센터</td>\n",
              "      <td>02-2680-5160</td>\n",
              "      <td>2016-12-19</td>\n",
              "      <td>2016-12-31</td>\n",
              "      <td>방문접수</td>\n",
              "      <td>선착순</td>\n",
              "      <td>http://ch1.gm.go.kr ?</td>\n",
              "      <td>N</td>\n",
              "      <td>N</td>\n",
              "      <td>N</td>\n",
              "      <td>2019-09-09</td>\n",
              "      <td>3900000</td>\n",
              "      <td>경기도 광명시</td>\n",
              "      <td>미용</td>\n",
              "    </tr>\n",
              "    <tr>\n",
              "      <th>6119</th>\n",
              "      <td>피부관리</td>\n",
              "      <td>박종애</td>\n",
              "      <td>2017-04-03</td>\n",
              "      <td>2017-06-30</td>\n",
              "      <td>10:30:00</td>\n",
              "      <td>12:30:00</td>\n",
              "      <td>피부관리</td>\n",
              "      <td>지역주민</td>\n",
              "      <td>오프라인</td>\n",
              "      <td>월요일</td>\n",
              "      <td>철산1동주민센터</td>\n",
              "      <td>20</td>\n",
              "      <td>30000</td>\n",
              "      <td>경기도 광명시 사성로 121</td>\n",
              "      <td>철산1동주민자치센터</td>\n",
              "      <td>02-2680-5160</td>\n",
              "      <td>2017-03-20</td>\n",
              "      <td>2017-03-31</td>\n",
              "      <td>방문접수</td>\n",
              "      <td>선착순</td>\n",
              "      <td>http://ch1.gm.go.kr ?</td>\n",
              "      <td>N</td>\n",
              "      <td>N</td>\n",
              "      <td>N</td>\n",
              "      <td>2019-09-09</td>\n",
              "      <td>3900000</td>\n",
              "      <td>경기도 광명시</td>\n",
              "      <td>미용</td>\n",
              "    </tr>\n",
              "    <tr>\n",
              "      <th>6136</th>\n",
              "      <td>피부관리</td>\n",
              "      <td>박종애</td>\n",
              "      <td>2017-07-01</td>\n",
              "      <td>2017-09-30</td>\n",
              "      <td>10:30:00</td>\n",
              "      <td>12:30:00</td>\n",
              "      <td>피부관리</td>\n",
              "      <td>지역주민</td>\n",
              "      <td>오프라인</td>\n",
              "      <td>월요일</td>\n",
              "      <td>철산1동주민센터</td>\n",
              "      <td>20</td>\n",
              "      <td>30000</td>\n",
              "      <td>경기도 광명시 사성로 121</td>\n",
              "      <td>철산1동주민자치센터</td>\n",
              "      <td>02-2680-5160</td>\n",
              "      <td>2017-06-19</td>\n",
              "      <td>2017-06-30</td>\n",
              "      <td>방문접수</td>\n",
              "      <td>선착순</td>\n",
              "      <td>http://ch1.gm.go.kr ?</td>\n",
              "      <td>N</td>\n",
              "      <td>N</td>\n",
              "      <td>N</td>\n",
              "      <td>2019-09-09</td>\n",
              "      <td>3900000</td>\n",
              "      <td>경기도 광명시</td>\n",
              "      <td>미용</td>\n",
              "    </tr>\n",
              "    <tr>\n",
              "      <th>6146</th>\n",
              "      <td>피부관리</td>\n",
              "      <td>박종애</td>\n",
              "      <td>2017-10-02</td>\n",
              "      <td>2017-12-30</td>\n",
              "      <td>10:30:00</td>\n",
              "      <td>12:30:00</td>\n",
              "      <td>피부관리</td>\n",
              "      <td>지역주민</td>\n",
              "      <td>오프라인</td>\n",
              "      <td>월요일</td>\n",
              "      <td>철산1동주민센터</td>\n",
              "      <td>20</td>\n",
              "      <td>30000</td>\n",
              "      <td>경기도 광명시 사성로 121</td>\n",
              "      <td>철산1동주민자치센터</td>\n",
              "      <td>02-2680-5160</td>\n",
              "      <td>2017-09-18</td>\n",
              "      <td>2017-09-30</td>\n",
              "      <td>방문접수</td>\n",
              "      <td>선착순</td>\n",
              "      <td>http://ch1.gm.go.kr ?</td>\n",
              "      <td>N</td>\n",
              "      <td>N</td>\n",
              "      <td>N</td>\n",
              "      <td>2019-09-09</td>\n",
              "      <td>3900000</td>\n",
              "      <td>경기도 광명시</td>\n",
              "      <td>미용</td>\n",
              "    </tr>\n",
              "    <tr>\n",
              "      <th>6150</th>\n",
              "      <td>피부관리</td>\n",
              "      <td>박종애</td>\n",
              "      <td>2016-10-10</td>\n",
              "      <td>2016-12-26</td>\n",
              "      <td>10:30:00</td>\n",
              "      <td>12:30:00</td>\n",
              "      <td>피부관리</td>\n",
              "      <td>지역주민</td>\n",
              "      <td>오프라인</td>\n",
              "      <td>월요일</td>\n",
              "      <td>철산1동주민센터</td>\n",
              "      <td>20</td>\n",
              "      <td>30000</td>\n",
              "      <td>경기도 광명시 사성로 121</td>\n",
              "      <td>철산1동주민자치센터</td>\n",
              "      <td>02-2680-5160</td>\n",
              "      <td>2016-09-19</td>\n",
              "      <td>2016-09-30</td>\n",
              "      <td>방문접수</td>\n",
              "      <td>선착순</td>\n",
              "      <td>http://ch1.gm.go.kr ?</td>\n",
              "      <td>N</td>\n",
              "      <td>N</td>\n",
              "      <td>N</td>\n",
              "      <td>2019-09-09</td>\n",
              "      <td>3900000</td>\n",
              "      <td>경기도 광명시</td>\n",
              "      <td>미용</td>\n",
              "    </tr>\n",
              "    <tr>\n",
              "      <th>6567</th>\n",
              "      <td>피부관리</td>\n",
              "      <td>박종애</td>\n",
              "      <td>2019-04-01</td>\n",
              "      <td>2019-06-21</td>\n",
              "      <td>10:00:00</td>\n",
              "      <td>12:00:00</td>\n",
              "      <td>피부관리</td>\n",
              "      <td>지역주민</td>\n",
              "      <td>오프라인</td>\n",
              "      <td>월요일</td>\n",
              "      <td>철산1동주민자치센터</td>\n",
              "      <td>20</td>\n",
              "      <td>30000</td>\n",
              "      <td>경기도 광명시 사성로 121</td>\n",
              "      <td>철산1동주민자치센터</td>\n",
              "      <td>02-2680-5160</td>\n",
              "      <td>2019-03-18</td>\n",
              "      <td>2019-03-29</td>\n",
              "      <td>방문접수</td>\n",
              "      <td>선착순</td>\n",
              "      <td>http://lll.gm.go.kr/jachi/</td>\n",
              "      <td>N</td>\n",
              "      <td>N</td>\n",
              "      <td>N</td>\n",
              "      <td>2019-09-09</td>\n",
              "      <td>3900000</td>\n",
              "      <td>경기도 광명시</td>\n",
              "      <td>미용</td>\n",
              "    </tr>\n",
              "  </tbody>\n",
              "</table>\n",
              "</div>"
            ],
            "text/plain": [
              "       강좌명  강사명     교육시작일자     교육종료일자  ...    데이터기준일자   제공기관코드    제공기관명  분류\n",
              "5927  피부관리  박종애 2016-04-04 2016-04-27  ... 2019-09-09  3900000  경기도 광명시  미용\n",
              "5935  피부관리  박종애 2016-07-04 2016-09-26  ... 2019-09-09  3900000  경기도 광명시  미용\n",
              "6095  피부관리  박종애 2017-01-02 2017-03-31  ... 2019-09-09  3900000  경기도 광명시  미용\n",
              "6119  피부관리  박종애 2017-04-03 2017-06-30  ... 2019-09-09  3900000  경기도 광명시  미용\n",
              "6136  피부관리  박종애 2017-07-01 2017-09-30  ... 2019-09-09  3900000  경기도 광명시  미용\n",
              "6146  피부관리  박종애 2017-10-02 2017-12-30  ... 2019-09-09  3900000  경기도 광명시  미용\n",
              "6150  피부관리  박종애 2016-10-10 2016-12-26  ... 2019-09-09  3900000  경기도 광명시  미용\n",
              "6567  피부관리  박종애 2019-04-01 2019-06-21  ... 2019-09-09  3900000  경기도 광명시  미용\n",
              "\n",
              "[8 rows x 28 columns]"
            ]
          },
          "metadata": {
            "tags": []
          },
          "execution_count": 128
        }
      ]
    }
  ]
}