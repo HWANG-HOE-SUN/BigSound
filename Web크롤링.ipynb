{
  "nbformat": 4,
  "nbformat_minor": 0,
  "metadata": {
    "kernelspec": {
      "display_name": "Python 3",
      "language": "python",
      "name": "python3"
    },
    "language_info": {
      "codemirror_mode": {
        "name": "ipython",
        "version": 3
      },
      "file_extension": ".py",
      "mimetype": "text/x-python",
      "name": "python",
      "nbconvert_exporter": "python",
      "pygments_lexer": "ipython3",
      "version": "3.7.4"
    },
    "colab": {
      "name": "Web크롤링.ipynb",
      "provenance": [],
      "collapsed_sections": [],
      "include_colab_link": true
    }
  },
  "cells": [
    {
      "cell_type": "markdown",
      "metadata": {
        "id": "view-in-github",
        "colab_type": "text"
      },
      "source": [
        "<a href=\"https://colab.research.google.com/github/HWANG-HOE-SUN/BigSound/blob/master/Web%ED%81%AC%EB%A1%A4%EB%A7%81.ipynb\" target=\"_parent\"><img src=\"https://colab.research.google.com/assets/colab-badge.svg\" alt=\"Open In Colab\"/></a>"
      ]
    },
    {
      "cell_type": "code",
      "metadata": {
        "id": "P0H48jb3eZ86",
        "outputId": "c895e717-7144-472f-8b68-7c3abb9a795e"
      },
      "source": [
        "pip install Selenium"
      ],
      "execution_count": null,
      "outputs": [
        {
          "output_type": "stream",
          "text": [
            "Requirement already satisfied: Selenium in c:\\users\\administrator\\anaconda3\\lib\\site-packages (3.141.0)\n",
            "Requirement already satisfied: urllib3 in c:\\users\\administrator\\anaconda3\\lib\\site-packages (from Selenium) (1.24.2)\n",
            "Note: you may need to restart the kernel to use updated packages.\n"
          ],
          "name": "stdout"
        },
        {
          "output_type": "stream",
          "text": [
            "WARNING: You are using pip version 21.0.1; however, version 21.1.3 is available.\n",
            "You should consider upgrading via the 'C:\\Users\\Administrator\\Anaconda3\\python.exe -m pip install --upgrade pip' command.\n"
          ],
          "name": "stderr"
        }
      ]
    },
    {
      "cell_type": "code",
      "metadata": {
        "id": "JS9izDSieZ87",
        "outputId": "d0f8df52-86c4-4900-c6ce-0d6314fecf5a"
      },
      "source": [
        "pip install webdriver-manager"
      ],
      "execution_count": null,
      "outputs": [
        {
          "output_type": "stream",
          "text": [
            "Requirement already satisfied: webdriver-manager in c:\\users\\administrator\\anaconda3\\lib\\site-packages (3.4.2)\n",
            "Requirement already satisfied: crayons in c:\\users\\administrator\\anaconda3\\lib\\site-packages (from webdriver-manager) (0.4.0)\n",
            "Requirement already satisfied: requests in c:\\users\\administrator\\anaconda3\\lib\\site-packages (from webdriver-manager) (2.22.0)\n",
            "Requirement already satisfied: configparser in c:\\users\\administrator\\anaconda3\\lib\\site-packages (from webdriver-manager) (5.0.2)\n",
            "Requirement already satisfied: colorama in c:\\users\\administrator\\anaconda3\\lib\\site-packages (from crayons->webdriver-manager) (0.4.1)\n",
            "Requirement already satisfied: chardet<3.1.0,>=3.0.2 in c:\\users\\administrator\\anaconda3\\lib\\site-packages (from requests->webdriver-manager) (3.0.4)\n",
            "Requirement already satisfied: urllib3!=1.25.0,!=1.25.1,<1.26,>=1.21.1 in c:\\users\\administrator\\anaconda3\\lib\\site-packages (from requests->webdriver-manager) (1.24.2)\n",
            "Requirement already satisfied: idna<2.9,>=2.5 in c:\\users\\administrator\\anaconda3\\lib\\site-packages (from requests->webdriver-manager) (2.8)\n",
            "Requirement already satisfied: certifi>=2017.4.17 in c:\\users\\administrator\\anaconda3\\lib\\site-packages (from requests->webdriver-manager) (2019.9.11)\n",
            "Note: you may need to restart the kernel to use updated packages.\n"
          ],
          "name": "stdout"
        },
        {
          "output_type": "stream",
          "text": [
            "WARNING: You are using pip version 21.0.1; however, version 21.1.3 is available.\n",
            "You should consider upgrading via the 'C:\\Users\\Administrator\\Anaconda3\\python.exe -m pip install --upgrade pip' command.\n"
          ],
          "name": "stderr"
        }
      ]
    },
    {
      "cell_type": "code",
      "metadata": {
        "id": "B7nhnSKdeZ88",
        "outputId": "8d8aa1bc-c644-4793-a2f3-511270aeebb0"
      },
      "source": [
        "from selenium import webdriver\n",
        "from webdriver_manager.chrome import ChromeDriverManager\n",
        "\n",
        "driver = webdriver.Chrome(ChromeDriverManager().install())"
      ],
      "execution_count": null,
      "outputs": [
        {
          "output_type": "stream",
          "text": [
            "\n",
            "\n",
            "====== WebDriver manager ======\n",
            "Current google-chrome version is 91.0.4472\n",
            "Get LATEST driver version for 91.0.4472\n",
            "Driver [C:\\Users\\Administrator\\.wdm\\drivers\\chromedriver\\win32\\91.0.4472.101\\chromedriver.exe] found in cache\n"
          ],
          "name": "stderr"
        }
      ]
    },
    {
      "cell_type": "code",
      "metadata": {
        "id": "yLRDvZUSeZ88",
        "outputId": "b6227029-2878-4b71-a0d5-c6493b1c4c65"
      },
      "source": [
        "from selenium import webdriver\n",
        "from webdriver_manager.chrome import ChromeDriverManager\n",
        "from webdriver_manager.utils import ChromeType\n",
        "from selenium import webdriver\n",
        "\n",
        "url = 'https://know.tour.go.kr/ptourknow/knowplus/kcti/list19Re.do?pageIndex=1&searchCondition=&searchKeyword='\n",
        "driver = webdriver.Chrome(ChromeDriverManager(chrome_type=ChromeType.CHROMIUM).install())\n",
        "driver.get(url)\n",
        "print('test')\n",
        "\n",
        "xpath_body = '//*[@id=\"f\"]/table/tbody[1]/'"
      ],
      "execution_count": null,
      "outputs": [
        {
          "output_type": "stream",
          "text": [
            "\n",
            "\n",
            "====== WebDriver manager ======\n",
            "Current chromium version is 91.0.4472\n",
            "Get LATEST driver version for 91.0.4472\n",
            "Driver [C:\\Users\\Administrator\\.wdm\\drivers\\chromedriver\\win32\\91.0.4472.101\\chromedriver.exe] found in cache\n"
          ],
          "name": "stderr"
        },
        {
          "output_type": "stream",
          "text": [
            "test\n"
          ],
          "name": "stdout"
        }
      ]
    },
    {
      "cell_type": "code",
      "metadata": {
        "id": "hN3Cxn6EeZ89",
        "outputId": "acf656cf-80ae-435d-be1f-a8a244f8836e"
      },
      "source": [
        "xpath  =  '//*[@id=\"f\"]/table/tbody[1]/tr[1]/td[2]/a'\n",
        "div_elems = driver.find_element_by_xpath(xpath)\n",
        "div_elems.text"
      ],
      "execution_count": null,
      "outputs": [
        {
          "output_type": "execute_result",
          "data": {
            "text/plain": [
              "'섬 관광정책 진단 및 과제'"
            ]
          },
          "metadata": {
            "tags": []
          },
          "execution_count": 34
        }
      ]
    },
    {
      "cell_type": "code",
      "metadata": {
        "id": "dg2t6aeYeZ8-",
        "outputId": "4ce0288d-31bd-4fca-d2bd-8281556f9ef2"
      },
      "source": [
        "import time\n",
        "text=[]\n",
        "count= 0\n",
        "click_body = '//*[@id=\"f\"]/div[2]/ul/div/'\n",
        "\n",
        "start = time.time()\n",
        "while(count<419):   \n",
        "        for j in range(4,14):\n",
        "            for i in range(1,11):\n",
        "                print(count)\n",
        "                xpath = xpath_body + 'tr[{0}]/td[2]/a'.format(i)\n",
        "                div_elems = driver.find_element_by_xpath(xpath)\n",
        "                text.append(div_elems.text)\n",
        "                count+=1\n",
        "                if(i==10):\n",
        "                    time.sleep(5)\n",
        "                    if(count==418):\n",
        "                        break\n",
        "                    click_path = click_body + 'li[{0}]/a'.format(j) # 다음 페이지 클릭 버튼 주소\n",
        "                    driver.find_element_by_xpath(click_path).click() # 다음 page 버튼 클릭"
      ],
      "execution_count": null,
      "outputs": [
        {
          "output_type": "stream",
          "text": [
            "0\n",
            "1\n",
            "2\n",
            "3\n",
            "4\n",
            "5\n",
            "6\n",
            "7\n",
            "8\n",
            "9\n",
            "10\n",
            "11\n",
            "12\n",
            "13\n",
            "14\n",
            "15\n",
            "16\n",
            "17\n",
            "18\n",
            "19\n",
            "20\n",
            "21\n",
            "22\n",
            "23\n",
            "24\n",
            "25\n",
            "26\n",
            "27\n",
            "28\n",
            "29\n",
            "30\n",
            "31\n",
            "32\n",
            "33\n",
            "34\n",
            "35\n",
            "36\n",
            "37\n",
            "38\n",
            "39\n",
            "40\n",
            "41\n",
            "42\n",
            "43\n",
            "44\n",
            "45\n",
            "46\n",
            "47\n",
            "48\n",
            "49\n",
            "50\n",
            "51\n",
            "52\n",
            "53\n",
            "54\n",
            "55\n",
            "56\n",
            "57\n",
            "58\n",
            "59\n",
            "60\n",
            "61\n",
            "62\n",
            "63\n",
            "64\n",
            "65\n",
            "66\n",
            "67\n",
            "68\n",
            "69\n",
            "70\n",
            "71\n",
            "72\n",
            "73\n",
            "74\n",
            "75\n",
            "76\n",
            "77\n",
            "78\n",
            "79\n"
          ],
          "name": "stdout"
        }
      ]
    },
    {
      "cell_type": "code",
      "metadata": {
        "id": "ABULz9LPeZ8-"
      },
      "source": [
        "text"
      ],
      "execution_count": null,
      "outputs": []
    },
    {
      "cell_type": "code",
      "metadata": {
        "id": "ZuNUH2vOeZ8_"
      },
      "source": [
        "len(text)"
      ],
      "execution_count": null,
      "outputs": []
    },
    {
      "cell_type": "code",
      "metadata": {
        "id": "pHkuZhlZed_R"
      },
      "source": [
        "import pandas as pd\n",
        "Culture_title = pd.DataFrame(text)\n",
        "Culture_title.rename(columns = {'0':'Title'},inplace=True)"
      ],
      "execution_count": null,
      "outputs": []
    },
    {
      "cell_type": "code",
      "metadata": {
        "id": "ioZ_0wyCed86"
      },
      "source": [
        "Culture_title.to_excel('한문관역대정책제안.xlsx')"
      ],
      "execution_count": null,
      "outputs": []
    }
  ]
}