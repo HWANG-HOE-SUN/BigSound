{
  "nbformat": 4,
  "nbformat_minor": 0,
  "metadata": {
    "colab": {
      "name": "산공데분대회ver1.2.ipynb",
      "provenance": [],
      "collapsed_sections": [],
      "include_colab_link": true
    },
    "kernelspec": {
      "name": "python3",
      "display_name": "Python 3"
    }
  },
  "cells": [
    {
      "cell_type": "markdown",
      "metadata": {
        "id": "view-in-github",
        "colab_type": "text"
      },
      "source": [
        "<a href=\"https://colab.research.google.com/github/HWANG-HOE-SUN/BigSound/blob/master/%EC%82%B0%EA%B3%B5%EB%8D%B0%EB%B6%84%EB%8C%80%ED%9A%8Cver1_2.ipynb\" target=\"_parent\"><img src=\"https://colab.research.google.com/assets/colab-badge.svg\" alt=\"Open In Colab\"/></a>"
      ]
    },
    {
      "cell_type": "code",
      "metadata": {
        "id": "_M-1ZtcJqoBp",
        "outputId": "6eac6233-7386-4334-b1a3-a11eb984a1aa",
        "colab": {
          "base_uri": "https://localhost:8080/",
          "height": 71
        }
      },
      "source": [
        "!pip3 install wordcloud"
      ],
      "execution_count": 4,
      "outputs": [
        {
          "output_type": "stream",
          "text": [
            "Requirement already satisfied: wordcloud in /usr/local/lib/python3.6/dist-packages (1.5.0)\n",
            "Requirement already satisfied: numpy>=1.6.1 in /usr/local/lib/python3.6/dist-packages (from wordcloud) (1.18.5)\n",
            "Requirement already satisfied: pillow in /usr/local/lib/python3.6/dist-packages (from wordcloud) (7.0.0)\n"
          ],
          "name": "stdout"
        }
      ]
    },
    {
      "cell_type": "code",
      "metadata": {
        "id": "O2be9RR62cwM"
      },
      "source": [
        "import pandas as pd\n",
        "import matplotlib.pyplot as plt\n",
        "import seaborn as sns\n",
        "import matplotlib as mlp\n",
        "from wordcloud import WordCloud"
      ],
      "execution_count": 29,
      "outputs": []
    },
    {
      "cell_type": "code",
      "metadata": {
        "id": "BWcXXdXotrbx"
      },
      "source": [
        "import matplotlib.font_manager as fm"
      ],
      "execution_count": 25,
      "outputs": []
    },
    {
      "cell_type": "code",
      "metadata": {
        "id": "vmjxdA6ottoh",
        "outputId": "fa22649a-992f-45c0-f235-20c579018c57",
        "colab": {
          "base_uri": "https://localhost:8080/",
          "height": 71
        }
      },
      "source": [
        "%config InlineBackend.figure_format = 'retina'\n",
        "!apt -qq -y install fonts-nanum> /dev/null"
      ],
      "execution_count": 32,
      "outputs": [
        {
          "output_type": "stream",
          "text": [
            "\n",
            "WARNING: apt does not have a stable CLI interface. Use with caution in scripts.\n",
            "\n"
          ],
          "name": "stdout"
        }
      ]
    },
    {
      "cell_type": "code",
      "metadata": {
        "id": "XSI13o8RuoGH"
      },
      "source": [
        "fontpath = 'usr/share/fonts/truetype/nanum/NanumBarunGothic.ttf'\n",
        "font = fm.FontProperties(fname=fontpath, size=9)"
      ],
      "execution_count": 33,
      "outputs": []
    },
    {
      "cell_type": "markdown",
      "metadata": {
        "id": "oaxISR2GZwei"
      },
      "source": [
        "# konlpy환경설정"
      ]
    },
    {
      "cell_type": "code",
      "metadata": {
        "id": "2LB9P32EO7ZE"
      },
      "source": [
        "!apt-get update \n",
        "!apt-get install g++ openjdk-8-jdk python-dev python3-dev \n",
        "!pip3 install JPype1-py3 \n",
        "!pip3 install konlpy \n",
        "!JAVA_HOME=\"E:\\jdk\""
      ],
      "execution_count": null,
      "outputs": []
    },
    {
      "cell_type": "code",
      "metadata": {
        "id": "n7VGoJcrZODK"
      },
      "source": [
        "from konlpy.tag import Okt\n",
        "okt = Okt()"
      ],
      "execution_count": 6,
      "outputs": []
    },
    {
      "cell_type": "code",
      "metadata": {
        "id": "ixNgbPxpjQFt",
        "outputId": "23186823-0a8c-4e97-c177-d78726a80957",
        "colab": {
          "base_uri": "https://localhost:8080/",
          "height": 35
        }
      },
      "source": [
        "from google.colab import drive\n",
        "drive.mount('/content/drive')"
      ],
      "execution_count": 8,
      "outputs": [
        {
          "output_type": "stream",
          "text": [
            "Mounted at /content/drive\n"
          ],
          "name": "stdout"
        }
      ]
    },
    {
      "cell_type": "code",
      "metadata": {
        "id": "39dOmNppNK13"
      },
      "source": [
        "Data = pd.read_excel('/content/drive/My Drive/2020산공데분대회/데이터셋/수도권평생학습/수도권평생학습.xlsx')"
      ],
      "execution_count": 9,
      "outputs": []
    },
    {
      "cell_type": "markdown",
      "metadata": {
        "id": "k0qs0G-A6s0V"
      },
      "source": [
        "# 워딩"
      ]
    },
    {
      "cell_type": "code",
      "metadata": {
        "id": "lGuDu7Wu6ttq"
      },
      "source": [
        "beauty = ['네일','화장품','비누','아로마','향수','피부','천연','헤어'] # 석\n",
        "cooking = ['요리','음식','차','김치','샌드위치','떡','브런치','제과','제빵','베이커리','베이킹',\n",
        "           '케이크','고추장','한식','양식','가정식','디저트','건강식'] #동\n",
        "cloth = ['옷','의류','재봉','한복','핏','패션','의상','웨어'] #동\n",
        "health = ['구기','헬스','요가','필라테스','무용','에어로빅','운동','스트레칭','다이어트']\n",
        "it = ['코딩','디지털','4차산업','sns','유튜브','미디어','엑셀','파워포인트','컴퓨터','인터넷','스마트폰','ITQ','프린터','컴활','카메라','워드프로'] # 민\n",
        "language = ['언어','America','English','스페인어','한글','영어','일본어','독일어','중국어','한국어','외국어','번역','회화','여행','문해','프리토킹','문법','한문','고전','어학','읽기'] # 민\n",
        "craft = ['만들기','꽃','공예','DIY','목공','섬유','의상','꽃꽂이','화훼','도예','자수','퀼트','뜨개','클레이'] #석\n",
        "art = ['예술','미술','일러스트','수채화','기타','드럼','해금','하모니카','오카리나','색소폰','플루트','아코디언','드로잉','pop','캘리그라피','합창',\n",
        "       '가곡','가요','민요','서양화','유화','수묵','소묘','그리기','스케치','손글씨','캐리커쳐','노래','댄스','풍물','아트','오케스트라',\n",
        "       '뮤지컬','바이올린','우쿨렐레','도자기','인물화','악기','서예','페인팅','포토','드럼','사군자','사진','브람스','아티스트','연극','배우','영화']  #황\n",
        "healing = ['치료','상담','힐링','생명','단전호흡'] #황\n",
        "family = ['자녀','양육','부모','아빠','엄마','어머니','아버지','유아','아이들','신생아'] #황"
      ],
      "execution_count": 10,
      "outputs": []
    },
    {
      "cell_type": "code",
      "metadata": {
        "id": "GlNVMpGjFd9-"
      },
      "source": [
        "def to_cat(df):\n",
        "  i=0\n",
        "  result=[]\n",
        "  while(i<len(df)):\n",
        "    item = df.iloc[i].강좌명\n",
        "    append_count = 0\n",
        "    for a in range(len(beauty)):\n",
        "      if append_count==1:\n",
        "        break\n",
        "      if beauty[a] in item:\n",
        "        result.append('미용') \n",
        "        i+=1\n",
        "        append_count+=1\n",
        "        break                         #break시 하위 반복문으로 들어감 append_count가 있어야 '네일컴퓨터교육' 이런게 중첩되서 append되지 않는다.\n",
        "    for b in range(len(cooking)):\n",
        "      if append_count==1:\n",
        "        break\n",
        "      if cooking[b] in item:\n",
        "        result.append('요리/제과')\n",
        "        i+=1\n",
        "        append_count+=1\n",
        "        break\n",
        "    for c in range(len(health)):\n",
        "      if append_count==1:\n",
        "        break\n",
        "      if health[c] in item:\n",
        "        result.append('체육')\n",
        "        i+=1\n",
        "        append_count+=1\n",
        "        break\n",
        "    for d in range(len(it)):\n",
        "      if append_count==1:\n",
        "        break\n",
        "      if it[d] in item:\n",
        "        result.append('컴퓨터')\n",
        "        i+=1\n",
        "        append_count+=1\n",
        "        break \n",
        "    for e in range(len(language)):\n",
        "      if append_count==1:\n",
        "        break\n",
        "      if language[e] in item:\n",
        "        result.append('어학')\n",
        "        i+=1\n",
        "        append_count+=1\n",
        "        break\n",
        "    for f in range(len(craft)):\n",
        "      if append_count==1:\n",
        "        break\n",
        "      if craft[f] in item:\n",
        "        result.append('공예')\n",
        "        i+=1\n",
        "        append_count+=1\n",
        "        break\n",
        "    for g in range(len(art)):\n",
        "      if append_count==1:\n",
        "        break\n",
        "      if art[g] in item:\n",
        "        result.append('예술')\n",
        "        i+=1\n",
        "        append_count+=1\n",
        "        break\n",
        "    for h in range(len(healing)):\n",
        "      if append_count==1:\n",
        "        break\n",
        "      if healing[h] in item:\n",
        "        result.append('힐링')\n",
        "        i+=1\n",
        "        append_count+=1\n",
        "    for j in range(len(family)):\n",
        "      if append_count==1:\n",
        "        break\n",
        "      if family[j] in item:\n",
        "        result.append('가족')\n",
        "        i+=1\n",
        "        append_count+=1    \n",
        "    if append_count!=1:\n",
        "      result.append('기타')\n",
        "      append_count+=1\n",
        "      i+=1\n",
        "  return result"
      ],
      "execution_count": 11,
      "outputs": []
    },
    {
      "cell_type": "code",
      "metadata": {
        "id": "FMWm9akGdxW8"
      },
      "source": [
        "Data['분류'] = to_cat(Data)"
      ],
      "execution_count": 12,
      "outputs": []
    },
    {
      "cell_type": "code",
      "metadata": {
        "id": "AR4FMZZr5hEk",
        "outputId": "6e19e819-4fb7-45c9-c329-fd8fb441cfc6",
        "colab": {
          "base_uri": "https://localhost:8080/",
          "height": 35
        }
      },
      "source": [
        "len(Data['분류'])"
      ],
      "execution_count": 13,
      "outputs": [
        {
          "output_type": "execute_result",
          "data": {
            "text/plain": [
              "6963"
            ]
          },
          "metadata": {
            "tags": []
          },
          "execution_count": 13
        }
      ]
    },
    {
      "cell_type": "code",
      "metadata": {
        "id": "O8KGebp7xHpx",
        "outputId": "9a4b9eaa-ef33-4d9a-9dc4-b10ac58964da",
        "colab": {
          "base_uri": "https://localhost:8080/",
          "height": 215
        }
      },
      "source": [
        "Data['분류'].value_counts()"
      ],
      "execution_count": 14,
      "outputs": [
        {
          "output_type": "execute_result",
          "data": {
            "text/plain": [
              "기타       2671\n",
              "예술       1509\n",
              "어학        829\n",
              "공예        458\n",
              "요리/제과     421\n",
              "체육        333\n",
              "컴퓨터       333\n",
              "미용        157\n",
              "가족        155\n",
              "힐링         97\n",
              "Name: 분류, dtype: int64"
            ]
          },
          "metadata": {
            "tags": []
          },
          "execution_count": 14
        }
      ]
    },
    {
      "cell_type": "code",
      "metadata": {
        "id": "txSquZKbxPc2"
      },
      "source": [
        "Data[Data['분류']=='어학'].tail(50)"
      ],
      "execution_count": null,
      "outputs": []
    },
    {
      "cell_type": "markdown",
      "metadata": {
        "id": "DOlWxVVbhCVs"
      },
      "source": [
        "# konlpy 이용, 강좌명 처리"
      ]
    },
    {
      "cell_type": "code",
      "metadata": {
        "id": "0ZmNd-NfbAco",
        "outputId": "4c5d735a-53d4-4004-f991-3b7836a9cd61",
        "colab": {
          "base_uri": "https://localhost:8080/",
          "height": 35
        }
      },
      "source": [
        "Data.iloc[0]['강좌명']"
      ],
      "execution_count": 16,
      "outputs": [
        {
          "output_type": "execute_result",
          "data": {
            "application/vnd.google.colaboratory.intrinsic+json": {
              "type": "string"
            },
            "text/plain": [
              "'사진작품연구반'"
            ]
          },
          "metadata": {
            "tags": []
          },
          "execution_count": 16
        }
      ]
    },
    {
      "cell_type": "code",
      "metadata": {
        "id": "1mKf-A3fatq9",
        "outputId": "080ea9c0-be01-4118-8857-b0c97ad40989",
        "colab": {
          "base_uri": "https://localhost:8080/",
          "height": 35
        }
      },
      "source": [
        "okt.nouns(Data.iloc[0]['강좌명'])"
      ],
      "execution_count": 17,
      "outputs": [
        {
          "output_type": "execute_result",
          "data": {
            "text/plain": [
              "['사진', '작품', '연구', '반']"
            ]
          },
          "metadata": {
            "tags": []
          },
          "execution_count": 17
        }
      ]
    },
    {
      "cell_type": "code",
      "metadata": {
        "id": "zgGjREo1rGlL"
      },
      "source": [
        "#잘 연구해 보자\n",
        "wordcloud = WordCloud(font_path=fontpath, background_color='white').generate(Data.iloc[0]['강좌명'])\n"
      ],
      "execution_count": 36,
      "outputs": []
    }
  ]
}