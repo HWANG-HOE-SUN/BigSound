{
  "nbformat": 4,
  "nbformat_minor": 0,
  "metadata": {
    "colab": {
      "name": "개인분류종합(ver2)",
      "provenance": [],
      "collapsed_sections": [],
      "authorship_tag": "ABX9TyPJqL90E8EFThhcwWrjoTJ6",
      "include_colab_link": true
    },
    "kernelspec": {
      "name": "python3",
      "display_name": "Python 3"
    }
  },
  "cells": [
    {
      "cell_type": "markdown",
      "metadata": {
        "id": "view-in-github",
        "colab_type": "text"
      },
      "source": [
        "<a href=\"https://colab.research.google.com/github/HWANG-HOE-SUN/BigSound/blob/master/%EA%B0%9C%EC%9D%B8%EB%B6%84%EB%A5%98%EC%A2%85%ED%95%A9(ver2).ipynb\" target=\"_parent\"><img src=\"https://colab.research.google.com/assets/colab-badge.svg\" alt=\"Open In Colab\"/></a>"
      ]
    },
    {
      "cell_type": "code",
      "metadata": {
        "id": "dcLo25FKLNhm"
      },
      "source": [
        "import pandas as pd"
      ],
      "execution_count": 1,
      "outputs": []
    },
    {
      "cell_type": "code",
      "metadata": {
        "id": "cxsUtvab5ZYW",
        "outputId": "c3b1b047-fc21-416b-cd5e-26e1ec4195d2",
        "colab": {
          "base_uri": "https://localhost:8080/"
        }
      },
      "source": [
        "from google.colab import drive\n",
        "drive.mount('/content/drive')"
      ],
      "execution_count": 2,
      "outputs": [
        {
          "output_type": "stream",
          "text": [
            "Mounted at /content/drive\n"
          ],
          "name": "stdout"
        }
      ]
    },
    {
      "cell_type": "code",
      "metadata": {
        "id": "roXLAV9eLRFE"
      },
      "source": [
        "Data = pd.read_excel('/content/drive/My Drive/2020산공데분대회/데이터셋/수도권평생학습/수도권전체분류(11-09).xlsx') #전체  Data set\n",
        "data = pd.read_excel('/content/drive/My Drive/2020산공데분대회/데이터셋/수도권평생학습/개인분류결과/개인분류결과종합.xlsx') #처음 샘플 분류결과"
      ],
      "execution_count": 108,
      "outputs": []
    },
    {
      "cell_type": "code",
      "metadata": {
        "id": "b4349vEnLYKo",
        "outputId": "e1ee10d5-11ec-4360-fd59-f9b8f26e773c",
        "colab": {
          "base_uri": "https://localhost:8080/"
        }
      },
      "source": [
        "Data.head(), data.head()"
      ],
      "execution_count": 4,
      "outputs": [
        {
          "output_type": "execute_result",
          "data": {
            "text/plain": [
              "(                    강좌명  강사명     교육시작일자  ...   제공기관코드    분류      제공기관명\n",
              " 0               사진작품연구반  문제민 2020-01-01  ...  3140000  문화예술  서울특별시 양천구\n",
              " 1     인간 세종대왕, 스토리로 말하다  이상주 2019-04-03  ...  3210000  인문교양  서울특별시 서초구\n",
              " 2         미디어로 떠나는 역사산책  박진아 2019-04-02  ...  3210000  인문교양  서울특별시 서초구\n",
              " 3             현장미술 100선  김은영 2019-04-05  ...  3210000  문화예술  서울특별시 서초구\n",
              " 4  3만원부터 투자가능한 현대미술 이야기  허유림 2019-04-05  ...  3210000  문화예술  서울특별시 서초구\n",
              " \n",
              " [5 rows x 28 columns],\n",
              "    Unnamed: 0                            강좌명  강사명  ...  정인분류      제공기관명 혼합도\n",
              " 0           9                         잡학의 쓸모  공강일  ...    기타  서울특별시 서초구   1\n",
              " 1         151  Let''s play ABC - A반(13~14년생)  이예랑  ...  학력보완  서울특별시 금천구   1\n",
              " 2         152  Let''s play ABC - B반(13~14년생)  이예랑  ...  학력보완  서울특별시 금천구   1\n",
              " 3         153     호기심 과학실험교실(초2~3년, 10~11년생)  홍은정  ...  학력보완  서울특별시 금천구   1\n",
              " 4         154     호기심 과학실험교실(초2~3년, 10~11년생)  최애진  ...  학력보완  서울특별시 금천구   1\n",
              " \n",
              " [5 rows x 10 columns])"
            ]
          },
          "metadata": {
            "tags": []
          },
          "execution_count": 4
        }
      ]
    },
    {
      "cell_type": "code",
      "metadata": {
        "id": "6bfnnIdhB7e9"
      },
      "source": [
        "def make_fusion_level(df): #혼합도 만드는 함수\n",
        "    target = df[df.columns[4:8]] # 개인분류열만 모은 DataFrame\n",
        "    fusion_col = [] # 혼합도를 담을 결과리스트\n",
        "    for i in range(len(target)):\n",
        "      max_cat = max(target.iloc[i].value_counts()) # 최빈 관찰값(가장 선택을 많이받은 분류)\n",
        "      branch_cat = len(target.iloc[i].unique()) # 카테고리 분류 가짓 수\n",
        "      if max_cat==4 and branch_cat==1:\n",
        "        fusion_col.append(0)\n",
        "      if max_cat==3 and branch_cat==2:\n",
        "        fusion_col.append(1)\n",
        "      if max_cat==2 and branch_cat==2:\n",
        "        fusion_col.append(2)\n",
        "      if max_cat==2 and branch_cat==3:\n",
        "        fusion_col.append(3)\n",
        "      if max_cat==1 and branch_cat==4:\n",
        "        fusion_col.append(4)\n",
        "    return fusion_col   "
      ],
      "execution_count": 5,
      "outputs": []
    },
    {
      "cell_type": "code",
      "metadata": {
        "id": "ojF3cJNYB9qC"
      },
      "source": [
        "def to_cat(df, category): #기초문해, 학력보완, 시민참여, 직업교육, 인문교양, 문화예술\n",
        "    i=0\n",
        "    result=[]\n",
        "    while(i<len(df)):\n",
        "      item_name = df.iloc[i].강좌명\n",
        "      item_contents = df.iloc[i].강좌내용\n",
        "      append_count = 0\n",
        "      for a in range(len(globals()[category[0]])):\n",
        "        if append_count==1:\n",
        "          break\n",
        "        if globals()[category[0]][a] in item_name or globals()[category[0]][a] in item_contents:\n",
        "          result.append(category[0])\n",
        "          i+=1\n",
        "          append_count+=1\n",
        "          break\n",
        "      for b in range(len(globals()[category[1]])):\n",
        "        if append_count==1:\n",
        "          break\n",
        "        if globals()[category[1]][b] in item_name or globals()[category[1]][b] in item_contents:\n",
        "          result.append(category[1])\n",
        "          i+=1\n",
        "          append_count+=1\n",
        "          break\n",
        "      for c in range(len(globals()[category[2]])):\n",
        "        if append_count==1:\n",
        "          break\n",
        "        if globals()[category[2]][c] in item_name or globals()[category[2]][c] in item_contents:\n",
        "          result.append(category[2])\n",
        "          i+=1\n",
        "          append_count+=1\n",
        "          break\n",
        "      for d in range(len(globals()[category[3]])):\n",
        "        if append_count==1:\n",
        "          break\n",
        "        if globals()[category[3]][d] in item_name or globals()[category[3]][d] in item_contents:\n",
        "          result.append(category[3])\n",
        "          i+=1\n",
        "          append_count+=1\n",
        "          break                          #break시 하위 반복문으로 들어감 append_count가 있어야 '네일컴퓨터교육' 이런게 중첩되서 append되지 않는다.\n",
        "      for e in range(len(globals()[category[4]])):\n",
        "        if append_count==1:\n",
        "          break\n",
        "        if globals()[category[4]][e] in item_name or globals()[category[4]][e] in item_contents:\n",
        "          result.append(category[4])\n",
        "          i+=1\n",
        "          append_count+=1\n",
        "          break\n",
        "      for f in range(len(globals()[category[5]])):\n",
        "        if append_count==1:\n",
        "          break\n",
        "        if globals()[category[5]][f] in item_name or globals()[category[5]][f] in item_contents: #강좌명이나 내용에 위의 키워드가 포함되어 있다면 분류추가\n",
        "          result.append(category[5]) \n",
        "          i+=1\n",
        "          append_count+=1\n",
        "          break   \n",
        "      if append_count!=1:\n",
        "        result.append('기타')\n",
        "        append_count+=1\n",
        "        i+=1\n",
        "    return result"
      ],
      "execution_count": 6,
      "outputs": []
    },
    {
      "cell_type": "code",
      "metadata": {
        "id": "HNRxSN2wSXZl"
      },
      "source": [
        "import random\n",
        "Category = ['기초문해','학력보완','시민참여','직업교육','인문교양','문화예술'] #이놈의 순서 조절!"
      ],
      "execution_count": 7,
      "outputs": []
    },
    {
      "cell_type": "code",
      "metadata": {
        "id": "yzV9o6mQR4vp",
        "outputId": "2e3f969b-f30c-42a2-c241-6aebb437fab1",
        "colab": {
          "base_uri": "https://localhost:8080/"
        }
      },
      "source": [
        "ang = ['기초문해','시민참여','직업교육'] # 어느 키워드가 앞에 오는것이 전반적으로 혼합도가 낮은지 실험을 통해 발견! (10에포크실험을 여러번 실행시킨 결과)\n",
        "cat= ['학력보완','인문교양','문화예술'] \n",
        "ho = ang+cat\n",
        "ho"
      ],
      "execution_count": 8,
      "outputs": [
        {
          "output_type": "execute_result",
          "data": {
            "text/plain": [
              "['기초문해', '시민참여', '직업교육', '학력보완', '인문교양', '문화예술']"
            ]
          },
          "metadata": {
            "tags": []
          },
          "execution_count": 8
        }
      ]
    },
    {
      "cell_type": "code",
      "metadata": {
        "id": "VnHRiU5U9tRZ",
        "outputId": "89889c93-8a55-4640-d667-2a6f88bdf3cd",
        "colab": {
          "base_uri": "https://localhost:8080/",
          "height": 1000
        }
      },
      "source": [
        "for i in range(10):\n",
        "  random.shuffle(cat) #카테고리 순서를 섞는다(전체 경우의수 6Factorial, 즉 720가지임)  \n",
        "  epoch = 10 # 각 순서에 대해 Fusion_level 얻는 실험(반복문) loop 횟수\n",
        "  fusion_level = []\n",
        "  Category = ang+cat\n",
        "  for j in range(epoch):\n",
        "    df1 = Data[Data['분류']=='학력보완']\n",
        "    df2 = Data[Data['분류']!='학력보완'].sample(n=272,random_state=epoch) #학력보완 아닌것중 272개, random_state계속 변화시키겠다.(epoch수만큼 변화)\n",
        "\n",
        "    DF = pd.concat([df1,df2]) #합쳐서 300개 \n",
        "    \n",
        "    # 각자 키워드로 분류\n",
        "    Result_df = DF[DF.columns[[0,1,8,-1]]]\n",
        "    Result = [] # 분류결과 갯수만 담을 것\n",
        "    #회선\n",
        "    직업교육 = ['코딩','자격증','직업교육','직업 교육','직업','취업','직장','자격','ITQ','itq','엑셀','창업','직무','기술사','기능사','전문가','토익']\n",
        "    인문교양 = ['소양','상담','종교','예절','영어','한자','과학','독서','책','인터넷','역사','생활','기독교','불교','천주교','이슬람','힌두교',\n",
        "            '문학','철학','보건','인문','교양','인문교양','인문학','고전','문학','풍수지리']\n",
        "    문화예술 = ['수영','테니스','축구','배드민턴','야구','체조','사진','아트','미술','공예','만들기'\n",
        "            '도자기','댄스','춤','놀이','음악','플롯','기타','베이스','드럼','서예','연극','영화','감상',\n",
        "            '뮤지컬','공연','극장','요가','문화','예술','문화예술','만화','그림','노래','연주','체육','오락',\n",
        "            '예체능','구보','헬스','악기','운동','스포츠']\n",
        "    기초문해 = ['한국어','기초문해','기초 문해','기초 한글','기초 한국어','문자 해독','문해','한글 교실']\n",
        "    학력보완 = ['검정고시','검정 고시','학력 보완','학력보완','기초 교육','기초교육','학점','학력','학년','석사','박사','학사','초등학','고등학']\n",
        "    시민참여 = ['인권','주민','자치','지역공동체','지역자치','양성평등','지역리더','평생학습','평생 학습', '기본권','시민 리더'\n",
        "    '시민참여','시민 참여']\n",
        "\n",
        "    Result_df['회선분류'] = to_cat(DF,Category) # 300개에대한 회선 분류결과\n",
        "    Result.append(Result_df['회선분류'].value_counts())\n",
        "\n",
        "    #정인\n",
        "    직업교육 = ['기능사', '파워포인트', 'ppt', '엑셀', '워드', '바리스타', '자격', '직업', '전문', '토익', 'JLPT', 'HSK', '1급', '2급', '3급', 'TOEIC', '회계', '취업', '창업', '부동산', '취업연계', '산업기사', '기사', 'JPT', '면접', '적성', '진로', '서류', '요령', '토플', '직무', '양성', '연수']\n",
        "    인문교양 = ['문학', '서양사', '한국사', '세계사', '독서', '토론', '영어', '일본어', '중국어', '외국어', '회화', '인터넷', '스마트폰', 'IT', '컴퓨터', '여행', '상담', '한자', '고전', '과학', '역사', '전통', '경제', '종교', '한문', '교양', '프랑스어', '인문학', '보건', '가정']\n",
        "    문화예술 = ['미술', '서양화', '동양화', '체육', '요가', '필라테스', '스포츠', '레저', '수영', '서예', '줌바', '성악', '기타', '오페라', '뮤지컬', '관람', '전시', '레저', '미술사', '영화', '연극', '무용', '댄스', '노래', '악기', '공예', '농장', '만들기', '수채화', '유화', '그림', '작곡', '방송', '편집', '염색']\n",
        "    기초문해 = ['한국어', '한국말', '국어', '문해', '한글']\n",
        "    학력보완 = ['검정고시', '중등', '고등', '기초', '대입', '고입', '독학사', '학력', '학점은행', '교과연계', 'EBS']\n",
        "    시민참여 = ['시민', '환경', '다문화', '주민', '자치', '지역리더']\n",
        "\n",
        "    Result_df['정인분류'] = to_cat(DF,Category) # 300개\n",
        "    Result.append(Result_df['정인분류'].value_counts())\n",
        "\n",
        "    #동현\n",
        "    직업교육 = ['코딩','자격증','직업교육','2급','3급','1급','창업','직업연수','강사','직업 교육','직업','취업','직장','자격']\n",
        "    인문교양 = ['외국어','상담','종교','커피','차','한식','중식','양식','일식','샌드위치','다이어트','국수','예절','영어','한자','간체',\n",
        "            '과학','서점','웰빙','독서','책','인터넷','역사','생활','부모','기독교','불교','천주교','이슬람','힌두교','문학','철학',\n",
        "            '김치','마늘','양파','요리','음식','보건','인터넷','온라인','베이커리','컴퓨터']\n",
        "    문화예술 = ['창작','수영','테니스','축구','배드민턴','야구','체조','탁구','게이트볼','사진','아트','미술','공예',\n",
        "            '도자기','댄스','음악','플롯','오카리나','기타','베이스','드럼','서예','연극','영화',\n",
        "            '뮤지컬','공연','요가','문화','예술','카페','만화','그림','노래','체육','오락','예체능','구보','헬스','악기','운동']\n",
        "    기초문해 = ['한국어','기초문해','기초 문해']\n",
        "    학력보완 = ['검정고시','검정 고시','학력 보완','학력보완','기초 교육','기초교육','학점','학력']\n",
        "    시민참여 = ['인권','주민','자치','지역공동체','다문화','양성평등','지역리더','평생학습','평생 학습', '시민리더','시민 리더'\n",
        "    '시민참여','시민 참여']\n",
        "\n",
        "    Result_df['동현분류'] = to_cat(DF,Category) # 300개\n",
        "    Result.append(Result_df['동현분류'].value_counts())\n",
        "\n",
        "    #석진\n",
        "    직업교육 = ['컴퓨터','엑셀','프로그래밍','코딩','C언어','자격증','TOEIC','HSK','JLPT','상담사','지도사','시험','능력','관리사','강사','실무','전문가','전직지원',\n",
        "    '플로리스트','행동교정사','바리스타','인터넷','스마트폰','ITQ','활용',]\n",
        "    인문교양 = ['역사','과학','상식','한국사','서양사','동양사','건강','체육','배드민턴','테니스','게이트볼','체조','요리','제빵','제과','푸드','간식','스포츠','와인',\n",
        "            '레시피','커뮤니케이션','수납정리','글쓰기','소설','커피','한식','양식','요가','스트레칭','필라테스','호신술','정리','발레','주산','암산','에어로빅','가정식',\n",
        "            '디저트','웰빙','영어','중국어','일본어','수영','골프','밸리댄스','회화','에세이','근력','다이어트','근현대사','인문','철학','맥주']\n",
        "    문화예술 = ['그림','서예','공예','목공','바이올린','클래식','기타','조각','감상','예술','무용','춤','하모니카','오카리나','색소폰','플루트','드로잉','pop','캘리그라피','합창',\n",
        "          '가곡','가요','민요','서양화','수묵화','리폼','뜨개질','사진','풍경','도자기','점토','양초','조각']\n",
        "    기초문해 = ['한글','한국말','한국어']\n",
        "    학력보완 = ['검정고시','학점']\n",
        "    시민참여 = ['가족','다문화','부모','시민']\n",
        "\n",
        "    Result_df['석진분류'] = to_cat(DF,Category) # 300개\n",
        "    Result.append(Result_df['석진분류'].value_counts())\n",
        "\n",
        "    from sklearn.preprocessing import LabelEncoder\n",
        "    le = LabelEncoder()\n",
        "\n",
        "    Result_df[Result_df.columns[4:8]] = Result_df[Result_df.columns[4:8]].apply(le.fit_transform) # 라벨인코더로 문자형->숫자형으로 변환\n",
        "          \n",
        "    Result_df['혼합도'] = make_fusion_level(Result_df)\n",
        "    fusion_level.append(Result_df['혼합도'].mean())\n",
        "    if(j==epoch-1):\n",
        "      print(Category)\n",
        "      print(sum(fusion_level)/10) # 해당 카테고리 순서의 평균 혼합도(epoch만큼 실험한 기준)"
      ],
      "execution_count": 109,
      "outputs": [
        {
          "output_type": "stream",
          "text": [
            "/usr/local/lib/python3.6/dist-packages/ipykernel_launcher.py:28: SettingWithCopyWarning: \n",
            "A value is trying to be set on a copy of a slice from a DataFrame.\n",
            "Try using .loc[row_indexer,col_indexer] = value instead\n",
            "\n",
            "See the caveats in the documentation: https://pandas.pydata.org/pandas-docs/stable/user_guide/indexing.html#returning-a-view-versus-a-copy\n",
            "/usr/local/lib/python3.6/dist-packages/ipykernel_launcher.py:39: SettingWithCopyWarning: \n",
            "A value is trying to be set on a copy of a slice from a DataFrame.\n",
            "Try using .loc[row_indexer,col_indexer] = value instead\n",
            "\n",
            "See the caveats in the documentation: https://pandas.pydata.org/pandas-docs/stable/user_guide/indexing.html#returning-a-view-versus-a-copy\n",
            "/usr/local/lib/python3.6/dist-packages/ipykernel_launcher.py:55: SettingWithCopyWarning: \n",
            "A value is trying to be set on a copy of a slice from a DataFrame.\n",
            "Try using .loc[row_indexer,col_indexer] = value instead\n",
            "\n",
            "See the caveats in the documentation: https://pandas.pydata.org/pandas-docs/stable/user_guide/indexing.html#returning-a-view-versus-a-copy\n",
            "/usr/local/lib/python3.6/dist-packages/ipykernel_launcher.py:70: SettingWithCopyWarning: \n",
            "A value is trying to be set on a copy of a slice from a DataFrame.\n",
            "Try using .loc[row_indexer,col_indexer] = value instead\n",
            "\n",
            "See the caveats in the documentation: https://pandas.pydata.org/pandas-docs/stable/user_guide/indexing.html#returning-a-view-versus-a-copy\n",
            "/usr/local/lib/python3.6/dist-packages/pandas/core/frame.py:3069: SettingWithCopyWarning: \n",
            "A value is trying to be set on a copy of a slice from a DataFrame.\n",
            "Try using .loc[row_indexer,col_indexer] = value instead\n",
            "\n",
            "See the caveats in the documentation: https://pandas.pydata.org/pandas-docs/stable/user_guide/indexing.html#returning-a-view-versus-a-copy\n",
            "  self[k1] = value[k2]\n",
            "/usr/local/lib/python3.6/dist-packages/ipykernel_launcher.py:78: SettingWithCopyWarning: \n",
            "A value is trying to be set on a copy of a slice from a DataFrame.\n",
            "Try using .loc[row_indexer,col_indexer] = value instead\n",
            "\n",
            "See the caveats in the documentation: https://pandas.pydata.org/pandas-docs/stable/user_guide/indexing.html#returning-a-view-versus-a-copy\n"
          ],
          "name": "stderr"
        },
        {
          "output_type": "stream",
          "text": [
            "['기초문해', '시민참여', '직업교육', '문화예술', '인문교양', '학력보완']\n",
            "0.9533333333333334\n"
          ],
          "name": "stdout"
        },
        {
          "output_type": "error",
          "ename": "KeyboardInterrupt",
          "evalue": "ignored",
          "traceback": [
            "\u001b[0;31m---------------------------------------------------------------------------\u001b[0m",
            "\u001b[0;31mKeyboardInterrupt\u001b[0m                         Traceback (most recent call last)",
            "\u001b[0;32m<ipython-input-109-7fad08b3bd36>\u001b[0m in \u001b[0;36m<module>\u001b[0;34m()\u001b[0m\n\u001b[1;32m     37\u001b[0m     \u001b[0m시민참여\u001b[0m \u001b[0;34m=\u001b[0m \u001b[0;34m[\u001b[0m\u001b[0;34m'시민'\u001b[0m\u001b[0;34m,\u001b[0m \u001b[0;34m'환경'\u001b[0m\u001b[0;34m,\u001b[0m \u001b[0;34m'다문화'\u001b[0m\u001b[0;34m,\u001b[0m \u001b[0;34m'주민'\u001b[0m\u001b[0;34m,\u001b[0m \u001b[0;34m'자치'\u001b[0m\u001b[0;34m,\u001b[0m \u001b[0;34m'지역리더'\u001b[0m\u001b[0;34m]\u001b[0m\u001b[0;34m\u001b[0m\u001b[0;34m\u001b[0m\u001b[0m\n\u001b[1;32m     38\u001b[0m \u001b[0;34m\u001b[0m\u001b[0m\n\u001b[0;32m---> 39\u001b[0;31m     \u001b[0mResult_df\u001b[0m\u001b[0;34m[\u001b[0m\u001b[0;34m'정인분류'\u001b[0m\u001b[0;34m]\u001b[0m \u001b[0;34m=\u001b[0m \u001b[0mto_cat\u001b[0m\u001b[0;34m(\u001b[0m\u001b[0mDF\u001b[0m\u001b[0;34m,\u001b[0m\u001b[0mCategory\u001b[0m\u001b[0;34m)\u001b[0m \u001b[0;31m# 300개\u001b[0m\u001b[0;34m\u001b[0m\u001b[0;34m\u001b[0m\u001b[0m\n\u001b[0m\u001b[1;32m     40\u001b[0m     \u001b[0mResult\u001b[0m\u001b[0;34m.\u001b[0m\u001b[0mappend\u001b[0m\u001b[0;34m(\u001b[0m\u001b[0mResult_df\u001b[0m\u001b[0;34m[\u001b[0m\u001b[0;34m'정인분류'\u001b[0m\u001b[0;34m]\u001b[0m\u001b[0;34m.\u001b[0m\u001b[0mvalue_counts\u001b[0m\u001b[0;34m(\u001b[0m\u001b[0;34m)\u001b[0m\u001b[0;34m)\u001b[0m\u001b[0;34m\u001b[0m\u001b[0;34m\u001b[0m\u001b[0m\n\u001b[1;32m     41\u001b[0m \u001b[0;34m\u001b[0m\u001b[0m\n",
            "\u001b[0;32m<ipython-input-6-d61772923978>\u001b[0m in \u001b[0;36mto_cat\u001b[0;34m(df, category)\u001b[0m\n\u001b[1;32m      3\u001b[0m     \u001b[0mresult\u001b[0m\u001b[0;34m=\u001b[0m\u001b[0;34m[\u001b[0m\u001b[0;34m]\u001b[0m\u001b[0;34m\u001b[0m\u001b[0;34m\u001b[0m\u001b[0m\n\u001b[1;32m      4\u001b[0m     \u001b[0;32mwhile\u001b[0m\u001b[0;34m(\u001b[0m\u001b[0mi\u001b[0m\u001b[0;34m<\u001b[0m\u001b[0mlen\u001b[0m\u001b[0;34m(\u001b[0m\u001b[0mdf\u001b[0m\u001b[0;34m)\u001b[0m\u001b[0;34m)\u001b[0m\u001b[0;34m:\u001b[0m\u001b[0;34m\u001b[0m\u001b[0;34m\u001b[0m\u001b[0m\n\u001b[0;32m----> 5\u001b[0;31m       \u001b[0mitem_name\u001b[0m \u001b[0;34m=\u001b[0m \u001b[0mdf\u001b[0m\u001b[0;34m.\u001b[0m\u001b[0miloc\u001b[0m\u001b[0;34m[\u001b[0m\u001b[0mi\u001b[0m\u001b[0;34m]\u001b[0m\u001b[0;34m.\u001b[0m\u001b[0m강좌명\u001b[0m\u001b[0;34m\u001b[0m\u001b[0;34m\u001b[0m\u001b[0m\n\u001b[0m\u001b[1;32m      6\u001b[0m       \u001b[0mitem_contents\u001b[0m \u001b[0;34m=\u001b[0m \u001b[0mdf\u001b[0m\u001b[0;34m.\u001b[0m\u001b[0miloc\u001b[0m\u001b[0;34m[\u001b[0m\u001b[0mi\u001b[0m\u001b[0;34m]\u001b[0m\u001b[0;34m.\u001b[0m\u001b[0m강좌내용\u001b[0m\u001b[0;34m\u001b[0m\u001b[0;34m\u001b[0m\u001b[0m\n\u001b[1;32m      7\u001b[0m       \u001b[0mappend_count\u001b[0m \u001b[0;34m=\u001b[0m \u001b[0;36m0\u001b[0m\u001b[0;34m\u001b[0m\u001b[0;34m\u001b[0m\u001b[0m\n",
            "\u001b[0;32m/usr/local/lib/python3.6/dist-packages/pandas/core/indexing.py\u001b[0m in \u001b[0;36m__getitem__\u001b[0;34m(self, key)\u001b[0m\n\u001b[1;32m    877\u001b[0m \u001b[0;34m\u001b[0m\u001b[0m\n\u001b[1;32m    878\u001b[0m             \u001b[0mmaybe_callable\u001b[0m \u001b[0;34m=\u001b[0m \u001b[0mcom\u001b[0m\u001b[0;34m.\u001b[0m\u001b[0mapply_if_callable\u001b[0m\u001b[0;34m(\u001b[0m\u001b[0mkey\u001b[0m\u001b[0;34m,\u001b[0m \u001b[0mself\u001b[0m\u001b[0;34m.\u001b[0m\u001b[0mobj\u001b[0m\u001b[0;34m)\u001b[0m\u001b[0;34m\u001b[0m\u001b[0;34m\u001b[0m\u001b[0m\n\u001b[0;32m--> 879\u001b[0;31m             \u001b[0;32mreturn\u001b[0m \u001b[0mself\u001b[0m\u001b[0;34m.\u001b[0m\u001b[0m_getitem_axis\u001b[0m\u001b[0;34m(\u001b[0m\u001b[0mmaybe_callable\u001b[0m\u001b[0;34m,\u001b[0m \u001b[0maxis\u001b[0m\u001b[0;34m=\u001b[0m\u001b[0maxis\u001b[0m\u001b[0;34m)\u001b[0m\u001b[0;34m\u001b[0m\u001b[0;34m\u001b[0m\u001b[0m\n\u001b[0m\u001b[1;32m    880\u001b[0m \u001b[0;34m\u001b[0m\u001b[0m\n\u001b[1;32m    881\u001b[0m     \u001b[0;32mdef\u001b[0m \u001b[0m_is_scalar_access\u001b[0m\u001b[0;34m(\u001b[0m\u001b[0mself\u001b[0m\u001b[0;34m,\u001b[0m \u001b[0mkey\u001b[0m\u001b[0;34m:\u001b[0m \u001b[0mTuple\u001b[0m\u001b[0;34m)\u001b[0m\u001b[0;34m:\u001b[0m\u001b[0;34m\u001b[0m\u001b[0;34m\u001b[0m\u001b[0m\n",
            "\u001b[0;32m/usr/local/lib/python3.6/dist-packages/pandas/core/indexing.py\u001b[0m in \u001b[0;36m_getitem_axis\u001b[0;34m(self, key, axis)\u001b[0m\n\u001b[1;32m   1496\u001b[0m             \u001b[0mself\u001b[0m\u001b[0;34m.\u001b[0m\u001b[0m_validate_integer\u001b[0m\u001b[0;34m(\u001b[0m\u001b[0mkey\u001b[0m\u001b[0;34m,\u001b[0m \u001b[0maxis\u001b[0m\u001b[0;34m)\u001b[0m\u001b[0;34m\u001b[0m\u001b[0;34m\u001b[0m\u001b[0m\n\u001b[1;32m   1497\u001b[0m \u001b[0;34m\u001b[0m\u001b[0m\n\u001b[0;32m-> 1498\u001b[0;31m             \u001b[0;32mreturn\u001b[0m \u001b[0mself\u001b[0m\u001b[0;34m.\u001b[0m\u001b[0mobj\u001b[0m\u001b[0;34m.\u001b[0m\u001b[0m_ixs\u001b[0m\u001b[0;34m(\u001b[0m\u001b[0mkey\u001b[0m\u001b[0;34m,\u001b[0m \u001b[0maxis\u001b[0m\u001b[0;34m=\u001b[0m\u001b[0maxis\u001b[0m\u001b[0;34m)\u001b[0m\u001b[0;34m\u001b[0m\u001b[0;34m\u001b[0m\u001b[0m\n\u001b[0m\u001b[1;32m   1499\u001b[0m \u001b[0;34m\u001b[0m\u001b[0m\n\u001b[1;32m   1500\u001b[0m     \u001b[0;32mdef\u001b[0m \u001b[0m_get_slice_axis\u001b[0m\u001b[0;34m(\u001b[0m\u001b[0mself\u001b[0m\u001b[0;34m,\u001b[0m \u001b[0mslice_obj\u001b[0m\u001b[0;34m:\u001b[0m \u001b[0mslice\u001b[0m\u001b[0;34m,\u001b[0m \u001b[0maxis\u001b[0m\u001b[0;34m:\u001b[0m \u001b[0mint\u001b[0m\u001b[0;34m)\u001b[0m\u001b[0;34m:\u001b[0m\u001b[0;34m\u001b[0m\u001b[0;34m\u001b[0m\u001b[0m\n",
            "\u001b[0;32m/usr/local/lib/python3.6/dist-packages/pandas/core/frame.py\u001b[0m in \u001b[0;36m_ixs\u001b[0;34m(self, i, axis)\u001b[0m\n\u001b[1;32m   2827\u001b[0m         \u001b[0;31m# irow\u001b[0m\u001b[0;34m\u001b[0m\u001b[0;34m\u001b[0m\u001b[0;34m\u001b[0m\u001b[0m\n\u001b[1;32m   2828\u001b[0m         \u001b[0;32mif\u001b[0m \u001b[0maxis\u001b[0m \u001b[0;34m==\u001b[0m \u001b[0;36m0\u001b[0m\u001b[0;34m:\u001b[0m\u001b[0;34m\u001b[0m\u001b[0;34m\u001b[0m\u001b[0m\n\u001b[0;32m-> 2829\u001b[0;31m             \u001b[0mnew_values\u001b[0m \u001b[0;34m=\u001b[0m \u001b[0mself\u001b[0m\u001b[0;34m.\u001b[0m\u001b[0m_mgr\u001b[0m\u001b[0;34m.\u001b[0m\u001b[0mfast_xs\u001b[0m\u001b[0;34m(\u001b[0m\u001b[0mi\u001b[0m\u001b[0;34m)\u001b[0m\u001b[0;34m\u001b[0m\u001b[0;34m\u001b[0m\u001b[0m\n\u001b[0m\u001b[1;32m   2830\u001b[0m \u001b[0;34m\u001b[0m\u001b[0m\n\u001b[1;32m   2831\u001b[0m             \u001b[0;31m# if we are a copy, mark as such\u001b[0m\u001b[0;34m\u001b[0m\u001b[0;34m\u001b[0m\u001b[0;34m\u001b[0m\u001b[0m\n",
            "\u001b[0;32m/usr/local/lib/python3.6/dist-packages/pandas/core/internals/managers.py\u001b[0m in \u001b[0;36mfast_xs\u001b[0;34m(self, loc)\u001b[0m\n\u001b[1;32m    952\u001b[0m             \u001b[0;31m# result[blk.mgr_locs] = blk._slice((slice(None), loc))\u001b[0m\u001b[0;34m\u001b[0m\u001b[0;34m\u001b[0m\u001b[0;34m\u001b[0m\u001b[0m\n\u001b[1;32m    953\u001b[0m             \u001b[0;32mfor\u001b[0m \u001b[0mi\u001b[0m\u001b[0;34m,\u001b[0m \u001b[0mrl\u001b[0m \u001b[0;32min\u001b[0m \u001b[0menumerate\u001b[0m\u001b[0;34m(\u001b[0m\u001b[0mblk\u001b[0m\u001b[0;34m.\u001b[0m\u001b[0mmgr_locs\u001b[0m\u001b[0;34m)\u001b[0m\u001b[0;34m:\u001b[0m\u001b[0;34m\u001b[0m\u001b[0;34m\u001b[0m\u001b[0m\n\u001b[0;32m--> 954\u001b[0;31m                 \u001b[0mresult\u001b[0m\u001b[0;34m[\u001b[0m\u001b[0mrl\u001b[0m\u001b[0;34m]\u001b[0m \u001b[0;34m=\u001b[0m \u001b[0mblk\u001b[0m\u001b[0;34m.\u001b[0m\u001b[0miget\u001b[0m\u001b[0;34m(\u001b[0m\u001b[0;34m(\u001b[0m\u001b[0mi\u001b[0m\u001b[0;34m,\u001b[0m \u001b[0mloc\u001b[0m\u001b[0;34m)\u001b[0m\u001b[0;34m)\u001b[0m\u001b[0;34m\u001b[0m\u001b[0;34m\u001b[0m\u001b[0m\n\u001b[0m\u001b[1;32m    955\u001b[0m \u001b[0;34m\u001b[0m\u001b[0m\n\u001b[1;32m    956\u001b[0m         \u001b[0;32mif\u001b[0m \u001b[0misinstance\u001b[0m\u001b[0;34m(\u001b[0m\u001b[0mdtype\u001b[0m\u001b[0;34m,\u001b[0m \u001b[0mExtensionDtype\u001b[0m\u001b[0;34m)\u001b[0m\u001b[0;34m:\u001b[0m\u001b[0;34m\u001b[0m\u001b[0;34m\u001b[0m\u001b[0m\n",
            "\u001b[0;32m/usr/local/lib/python3.6/dist-packages/pandas/core/internals/blocks.py\u001b[0m in \u001b[0;36miget\u001b[0;34m(self, key)\u001b[0m\n\u001b[1;32m   2033\u001b[0m         \u001b[0;31m# GH#31649 we need to wrap scalars in Timestamp/Timedelta\u001b[0m\u001b[0;34m\u001b[0m\u001b[0;34m\u001b[0m\u001b[0;34m\u001b[0m\u001b[0m\n\u001b[1;32m   2034\u001b[0m         \u001b[0;31m# TODO(EA2D): this can be removed if we ever have 2D EA\u001b[0m\u001b[0;34m\u001b[0m\u001b[0;34m\u001b[0m\u001b[0;34m\u001b[0m\u001b[0m\n\u001b[0;32m-> 2035\u001b[0;31m         \u001b[0;32mreturn\u001b[0m \u001b[0mself\u001b[0m\u001b[0;34m.\u001b[0m\u001b[0marray_values\u001b[0m\u001b[0;34m(\u001b[0m\u001b[0;34m)\u001b[0m\u001b[0;34m.\u001b[0m\u001b[0mreshape\u001b[0m\u001b[0;34m(\u001b[0m\u001b[0mself\u001b[0m\u001b[0;34m.\u001b[0m\u001b[0mshape\u001b[0m\u001b[0;34m)\u001b[0m\u001b[0;34m[\u001b[0m\u001b[0mkey\u001b[0m\u001b[0;34m]\u001b[0m\u001b[0;34m\u001b[0m\u001b[0;34m\u001b[0m\u001b[0m\n\u001b[0m\u001b[1;32m   2036\u001b[0m \u001b[0;34m\u001b[0m\u001b[0m\n\u001b[1;32m   2037\u001b[0m     \u001b[0;32mdef\u001b[0m \u001b[0mshift\u001b[0m\u001b[0;34m(\u001b[0m\u001b[0mself\u001b[0m\u001b[0;34m,\u001b[0m \u001b[0mperiods\u001b[0m\u001b[0;34m,\u001b[0m \u001b[0maxis\u001b[0m\u001b[0;34m=\u001b[0m\u001b[0;36m0\u001b[0m\u001b[0;34m,\u001b[0m \u001b[0mfill_value\u001b[0m\u001b[0;34m=\u001b[0m\u001b[0;32mNone\u001b[0m\u001b[0;34m)\u001b[0m\u001b[0;34m:\u001b[0m\u001b[0;34m\u001b[0m\u001b[0;34m\u001b[0m\u001b[0m\n",
            "\u001b[0;32m/usr/local/lib/python3.6/dist-packages/pandas/core/arrays/_mixins.py\u001b[0m in \u001b[0;36mreshape\u001b[0;34m(self, *args, **kwargs)\u001b[0m\n\u001b[1;32m     89\u001b[0m     \u001b[0;32mdef\u001b[0m \u001b[0mreshape\u001b[0m\u001b[0;34m(\u001b[0m\u001b[0mself\u001b[0m\u001b[0;34m:\u001b[0m \u001b[0m_T\u001b[0m\u001b[0;34m,\u001b[0m \u001b[0;34m*\u001b[0m\u001b[0margs\u001b[0m\u001b[0;34m,\u001b[0m \u001b[0;34m**\u001b[0m\u001b[0mkwargs\u001b[0m\u001b[0;34m)\u001b[0m \u001b[0;34m->\u001b[0m \u001b[0m_T\u001b[0m\u001b[0;34m:\u001b[0m\u001b[0;34m\u001b[0m\u001b[0;34m\u001b[0m\u001b[0m\n\u001b[1;32m     90\u001b[0m         \u001b[0mnew_data\u001b[0m \u001b[0;34m=\u001b[0m \u001b[0mself\u001b[0m\u001b[0;34m.\u001b[0m\u001b[0m_ndarray\u001b[0m\u001b[0;34m.\u001b[0m\u001b[0mreshape\u001b[0m\u001b[0;34m(\u001b[0m\u001b[0;34m*\u001b[0m\u001b[0margs\u001b[0m\u001b[0;34m,\u001b[0m \u001b[0;34m**\u001b[0m\u001b[0mkwargs\u001b[0m\u001b[0;34m)\u001b[0m\u001b[0;34m\u001b[0m\u001b[0;34m\u001b[0m\u001b[0m\n\u001b[0;32m---> 91\u001b[0;31m         \u001b[0;32mreturn\u001b[0m \u001b[0mself\u001b[0m\u001b[0;34m.\u001b[0m\u001b[0m_from_backing_data\u001b[0m\u001b[0;34m(\u001b[0m\u001b[0mnew_data\u001b[0m\u001b[0;34m)\u001b[0m\u001b[0;34m\u001b[0m\u001b[0;34m\u001b[0m\u001b[0m\n\u001b[0m\u001b[1;32m     92\u001b[0m \u001b[0;34m\u001b[0m\u001b[0m\n\u001b[1;32m     93\u001b[0m     \u001b[0;32mdef\u001b[0m \u001b[0mravel\u001b[0m\u001b[0;34m(\u001b[0m\u001b[0mself\u001b[0m\u001b[0;34m:\u001b[0m \u001b[0m_T\u001b[0m\u001b[0;34m,\u001b[0m \u001b[0;34m*\u001b[0m\u001b[0margs\u001b[0m\u001b[0;34m,\u001b[0m \u001b[0;34m**\u001b[0m\u001b[0mkwargs\u001b[0m\u001b[0;34m)\u001b[0m \u001b[0;34m->\u001b[0m \u001b[0m_T\u001b[0m\u001b[0;34m:\u001b[0m\u001b[0;34m\u001b[0m\u001b[0;34m\u001b[0m\u001b[0m\n",
            "\u001b[0;32m/usr/local/lib/python3.6/dist-packages/pandas/core/arrays/datetimelike.py\u001b[0m in \u001b[0;36m_from_backing_data\u001b[0;34m(self, arr)\u001b[0m\n\u001b[1;32m    469\u001b[0m     \u001b[0;32mdef\u001b[0m \u001b[0m_from_backing_data\u001b[0m\u001b[0;34m(\u001b[0m\u001b[0mself\u001b[0m\u001b[0;34m:\u001b[0m \u001b[0m_T\u001b[0m\u001b[0;34m,\u001b[0m \u001b[0marr\u001b[0m\u001b[0;34m:\u001b[0m \u001b[0mnp\u001b[0m\u001b[0;34m.\u001b[0m\u001b[0mndarray\u001b[0m\u001b[0;34m)\u001b[0m \u001b[0;34m->\u001b[0m \u001b[0m_T\u001b[0m\u001b[0;34m:\u001b[0m\u001b[0;34m\u001b[0m\u001b[0;34m\u001b[0m\u001b[0m\n\u001b[1;32m    470\u001b[0m         \u001b[0;31m# Note: we do not retain `freq`\u001b[0m\u001b[0;34m\u001b[0m\u001b[0;34m\u001b[0m\u001b[0;34m\u001b[0m\u001b[0m\n\u001b[0;32m--> 471\u001b[0;31m         \u001b[0;32mreturn\u001b[0m \u001b[0mtype\u001b[0m\u001b[0;34m(\u001b[0m\u001b[0mself\u001b[0m\u001b[0;34m)\u001b[0m\u001b[0;34m(\u001b[0m\u001b[0marr\u001b[0m\u001b[0;34m,\u001b[0m \u001b[0mdtype\u001b[0m\u001b[0;34m=\u001b[0m\u001b[0mself\u001b[0m\u001b[0;34m.\u001b[0m\u001b[0mdtype\u001b[0m\u001b[0;34m)\u001b[0m  \u001b[0;31m# type: ignore\u001b[0m\u001b[0;34m\u001b[0m\u001b[0;34m\u001b[0m\u001b[0m\n\u001b[0m\u001b[1;32m    472\u001b[0m \u001b[0;34m\u001b[0m\u001b[0m\n\u001b[1;32m    473\u001b[0m     \u001b[0;31m# ------------------------------------------------------------------\u001b[0m\u001b[0;34m\u001b[0m\u001b[0;34m\u001b[0m\u001b[0;34m\u001b[0m\u001b[0m\n",
            "\u001b[0;32m/usr/local/lib/python3.6/dist-packages/pandas/core/arrays/datetimes.py\u001b[0m in \u001b[0;36m__init__\u001b[0;34m(self, values, dtype, freq, copy)\u001b[0m\n\u001b[1;32m    218\u001b[0m         \u001b[0minferred_freq\u001b[0m \u001b[0;34m=\u001b[0m \u001b[0mgetattr\u001b[0m\u001b[0;34m(\u001b[0m\u001b[0mvalues\u001b[0m\u001b[0;34m,\u001b[0m \u001b[0;34m\"_freq\"\u001b[0m\u001b[0;34m,\u001b[0m \u001b[0;32mNone\u001b[0m\u001b[0;34m)\u001b[0m\u001b[0;34m\u001b[0m\u001b[0;34m\u001b[0m\u001b[0m\n\u001b[1;32m    219\u001b[0m \u001b[0;34m\u001b[0m\u001b[0m\n\u001b[0;32m--> 220\u001b[0;31m         \u001b[0;32mif\u001b[0m \u001b[0misinstance\u001b[0m\u001b[0;34m(\u001b[0m\u001b[0mvalues\u001b[0m\u001b[0;34m,\u001b[0m \u001b[0mtype\u001b[0m\u001b[0;34m(\u001b[0m\u001b[0mself\u001b[0m\u001b[0;34m)\u001b[0m\u001b[0;34m)\u001b[0m\u001b[0;34m:\u001b[0m\u001b[0;34m\u001b[0m\u001b[0;34m\u001b[0m\u001b[0m\n\u001b[0m\u001b[1;32m    221\u001b[0m             \u001b[0;31m# validation\u001b[0m\u001b[0;34m\u001b[0m\u001b[0;34m\u001b[0m\u001b[0;34m\u001b[0m\u001b[0m\n\u001b[1;32m    222\u001b[0m             \u001b[0mdtz\u001b[0m \u001b[0;34m=\u001b[0m \u001b[0mgetattr\u001b[0m\u001b[0;34m(\u001b[0m\u001b[0mdtype\u001b[0m\u001b[0;34m,\u001b[0m \u001b[0;34m\"tz\"\u001b[0m\u001b[0;34m,\u001b[0m \u001b[0;32mNone\u001b[0m\u001b[0;34m)\u001b[0m\u001b[0;34m\u001b[0m\u001b[0;34m\u001b[0m\u001b[0m\n",
            "\u001b[0;31mKeyboardInterrupt\u001b[0m: "
          ]
        }
      ]
    },
    {
      "cell_type": "markdown",
      "metadata": {
        "id": "T02FEYXEc629"
      },
      "source": [
        "# ML구현"
      ]
    },
    {
      "cell_type": "code",
      "metadata": {
        "id": "3f-wRa6_dUWh",
        "outputId": "09db25a9-c1d0-4a9c-9ced-ff175f6aba2b",
        "colab": {
          "base_uri": "https://localhost:8080/"
        }
      },
      "source": [
        "!apt-get update \n",
        "!apt-get install g++ openjdk-8-jdk python-dev python3-dev \n",
        "!pip3 install JPype1-py3 \n",
        "!pip3 install konlpy \n",
        "!JAVA_HOME=\"E:\\jdk\""
      ],
      "execution_count": 12,
      "outputs": [
        {
          "output_type": "stream",
          "text": [
            "\r0% [Working]\r            \rGet:1 http://security.ubuntu.com/ubuntu bionic-security InRelease [88.7 kB]\n",
            "\r0% [Connecting to archive.ubuntu.com (91.189.88.142)] [1 InRelease 14.2 kB/88.7\r0% [Waiting for headers] [Waiting for headers] [Waiting for headers] [Waiting f\r                                                                               \rGet:2 https://cloud.r-project.org/bin/linux/ubuntu bionic-cran40/ InRelease [3,626 B]\n",
            "\r                                                                               \rIgn:3 https://developer.download.nvidia.com/compute/cuda/repos/ubuntu1804/x86_64  InRelease\n",
            "\r                                                                               \r0% [Waiting for headers] [Waiting for headers] [Waiting for headers]\r0% [1 InRelease gpgv 88.7 kB] [Waiting for headers] [Waiting for headers] [Wait\r                                                                               \rGet:4 http://ppa.launchpad.net/c2d4u.team/c2d4u4.0+/ubuntu bionic InRelease [15.9 kB]\n",
            "\r0% [1 InRelease gpgv 88.7 kB] [Waiting for headers] [4 InRelease 14.2 kB/15.9 k\r                                                                               \rHit:5 http://archive.ubuntu.com/ubuntu bionic InRelease\n",
            "\r0% [1 InRelease gpgv 88.7 kB] [Waiting for headers] [4 InRelease 14.2 kB/15.9 k\r                                                                               \rIgn:6 https://developer.download.nvidia.com/compute/machine-learning/repos/ubuntu1804/x86_64  InRelease\n",
            "\r0% [1 InRelease gpgv 88.7 kB] [Waiting for headers] [4 InRelease 14.2 kB/15.9 k\r                                                                               \rGet:7 https://developer.download.nvidia.com/compute/cuda/repos/ubuntu1804/x86_64  Release [697 B]\n",
            "\r0% [1 InRelease gpgv 88.7 kB] [Waiting for headers] [4 InRelease 14.2 kB/15.9 k\r0% [1 InRelease gpgv 88.7 kB] [Waiting for headers] [4 InRelease 14.2 kB/15.9 k\r                                                                               \rGet:8 https://developer.download.nvidia.com/compute/machine-learning/repos/ubuntu1804/x86_64  Release [564 B]\n",
            "\r0% [1 InRelease gpgv 88.7 kB] [Waiting for headers] [4 InRelease 14.2 kB/15.9 k\r0% [1 InRelease gpgv 88.7 kB] [Waiting for headers] [4 InRelease 14.2 kB/15.9 k\r                                                                               \rGet:9 https://developer.download.nvidia.com/compute/cuda/repos/ubuntu1804/x86_64  Release.gpg [836 B]\n",
            "Get:10 https://developer.download.nvidia.com/compute/machine-learning/repos/ubuntu1804/x86_64  Release.gpg [833 B]\n",
            "Get:11 http://archive.ubuntu.com/ubuntu bionic-updates InRelease [88.7 kB]\n",
            "Get:12 http://security.ubuntu.com/ubuntu bionic-security/restricted amd64 Packages [222 kB]\n",
            "Get:13 http://ppa.launchpad.net/graphics-drivers/ppa/ubuntu bionic InRelease [21.3 kB]\n",
            "Get:14 http://security.ubuntu.com/ubuntu bionic-security/universe amd64 Packages [1,365 kB]\n",
            "Get:15 http://archive.ubuntu.com/ubuntu bionic-backports InRelease [74.6 kB]\n",
            "Get:16 http://security.ubuntu.com/ubuntu bionic-security/multiverse amd64 Packages [15.8 kB]\n",
            "Get:17 http://security.ubuntu.com/ubuntu bionic-security/main amd64 Packages [1,781 kB]\n",
            "Ign:18 https://developer.download.nvidia.com/compute/cuda/repos/ubuntu1804/x86_64  Packages\n",
            "Get:18 https://developer.download.nvidia.com/compute/cuda/repos/ubuntu1804/x86_64  Packages [407 kB]\n",
            "Get:19 https://developer.download.nvidia.com/compute/machine-learning/repos/ubuntu1804/x86_64  Packages [58.5 kB]\n",
            "Get:20 http://ppa.launchpad.net/c2d4u.team/c2d4u4.0+/ubuntu bionic/main Sources [1,688 kB]\n",
            "Get:21 http://archive.ubuntu.com/ubuntu bionic-updates/main amd64 Packages [2,198 kB]\n",
            "Get:22 http://archive.ubuntu.com/ubuntu bionic-updates/universe amd64 Packages [2,129 kB]\n",
            "Get:23 http://archive.ubuntu.com/ubuntu bionic-updates/restricted amd64 Packages [247 kB]\n",
            "Get:24 http://archive.ubuntu.com/ubuntu bionic-updates/multiverse amd64 Packages [46.3 kB]\n",
            "Get:25 http://ppa.launchpad.net/c2d4u.team/c2d4u4.0+/ubuntu bionic/main amd64 Packages [864 kB]\n",
            "Get:26 http://ppa.launchpad.net/graphics-drivers/ppa/ubuntu bionic/main amd64 Packages [46.6 kB]\n",
            "Fetched 11.4 MB in 3s (3,339 kB/s)\n",
            "Reading package lists... Done\n",
            "Reading package lists... Done\n",
            "Building dependency tree       \n",
            "Reading state information... Done\n",
            "python-dev is already the newest version (2.7.15~rc1-1).\n",
            "g++ is already the newest version (4:7.4.0-1ubuntu2.3).\n",
            "g++ set to manually installed.\n",
            "python3-dev is already the newest version (3.6.7-1~18.04).\n",
            "The following additional packages will be installed:\n",
            "  fonts-dejavu-core fonts-dejavu-extra libatk-wrapper-java\n",
            "  libatk-wrapper-java-jni libgail-common libgail18 libgtk2.0-0 libgtk2.0-bin\n",
            "  libgtk2.0-common libxxf86dga1 openjdk-8-jdk-headless openjdk-8-jre\n",
            "  openjdk-8-jre-headless x11-utils\n",
            "Suggested packages:\n",
            "  gvfs openjdk-8-demo openjdk-8-source visualvm icedtea-8-plugin libnss-mdns\n",
            "  fonts-ipafont-gothic fonts-ipafont-mincho fonts-wqy-microhei\n",
            "  fonts-wqy-zenhei fonts-indic mesa-utils\n",
            "The following NEW packages will be installed:\n",
            "  fonts-dejavu-core fonts-dejavu-extra libatk-wrapper-java\n",
            "  libatk-wrapper-java-jni libgail-common libgail18 libgtk2.0-0 libgtk2.0-bin\n",
            "  libgtk2.0-common libxxf86dga1 openjdk-8-jdk openjdk-8-jdk-headless\n",
            "  openjdk-8-jre openjdk-8-jre-headless x11-utils\n",
            "0 upgraded, 15 newly installed, 0 to remove and 41 not upgraded.\n",
            "Need to get 43.4 MB of archives.\n",
            "After this operation, 163 MB of additional disk space will be used.\n",
            "Get:1 http://archive.ubuntu.com/ubuntu bionic/main amd64 libxxf86dga1 amd64 2:1.1.4-1 [13.7 kB]\n",
            "Get:2 http://archive.ubuntu.com/ubuntu bionic/main amd64 fonts-dejavu-core all 2.37-1 [1,041 kB]\n",
            "Get:3 http://archive.ubuntu.com/ubuntu bionic/main amd64 fonts-dejavu-extra all 2.37-1 [1,953 kB]\n",
            "Get:4 http://archive.ubuntu.com/ubuntu bionic/main amd64 x11-utils amd64 7.7+3build1 [196 kB]\n",
            "Get:5 http://archive.ubuntu.com/ubuntu bionic/main amd64 libatk-wrapper-java all 0.33.3-20ubuntu0.1 [34.7 kB]\n",
            "Get:6 http://archive.ubuntu.com/ubuntu bionic/main amd64 libatk-wrapper-java-jni amd64 0.33.3-20ubuntu0.1 [28.3 kB]\n",
            "Get:7 http://archive.ubuntu.com/ubuntu bionic/main amd64 libgtk2.0-common all 2.24.32-1ubuntu1 [125 kB]\n",
            "Get:8 http://archive.ubuntu.com/ubuntu bionic/main amd64 libgtk2.0-0 amd64 2.24.32-1ubuntu1 [1,769 kB]\n",
            "Get:9 http://archive.ubuntu.com/ubuntu bionic/main amd64 libgail18 amd64 2.24.32-1ubuntu1 [14.2 kB]\n",
            "Get:10 http://archive.ubuntu.com/ubuntu bionic/main amd64 libgail-common amd64 2.24.32-1ubuntu1 [112 kB]\n",
            "Get:11 http://archive.ubuntu.com/ubuntu bionic/main amd64 libgtk2.0-bin amd64 2.24.32-1ubuntu1 [7,536 B]\n",
            "Get:12 http://archive.ubuntu.com/ubuntu bionic-updates/universe amd64 openjdk-8-jre-headless amd64 8u275-b01-0ubuntu1~18.04 [28.2 MB]\n",
            "Get:13 http://archive.ubuntu.com/ubuntu bionic-updates/universe amd64 openjdk-8-jre amd64 8u275-b01-0ubuntu1~18.04 [69.7 kB]\n",
            "Get:14 http://archive.ubuntu.com/ubuntu bionic-updates/universe amd64 openjdk-8-jdk-headless amd64 8u275-b01-0ubuntu1~18.04 [8,269 kB]\n",
            "Get:15 http://archive.ubuntu.com/ubuntu bionic-updates/universe amd64 openjdk-8-jdk amd64 8u275-b01-0ubuntu1~18.04 [1,600 kB]\n",
            "Fetched 43.4 MB in 2s (21.1 MB/s)\n",
            "Selecting previously unselected package libxxf86dga1:amd64.\n",
            "(Reading database ... 144786 files and directories currently installed.)\n",
            "Preparing to unpack .../00-libxxf86dga1_2%3a1.1.4-1_amd64.deb ...\n",
            "Unpacking libxxf86dga1:amd64 (2:1.1.4-1) ...\n",
            "Selecting previously unselected package fonts-dejavu-core.\n",
            "Preparing to unpack .../01-fonts-dejavu-core_2.37-1_all.deb ...\n",
            "Unpacking fonts-dejavu-core (2.37-1) ...\n",
            "Selecting previously unselected package fonts-dejavu-extra.\n",
            "Preparing to unpack .../02-fonts-dejavu-extra_2.37-1_all.deb ...\n",
            "Unpacking fonts-dejavu-extra (2.37-1) ...\n",
            "Selecting previously unselected package x11-utils.\n",
            "Preparing to unpack .../03-x11-utils_7.7+3build1_amd64.deb ...\n",
            "Unpacking x11-utils (7.7+3build1) ...\n",
            "Selecting previously unselected package libatk-wrapper-java.\n",
            "Preparing to unpack .../04-libatk-wrapper-java_0.33.3-20ubuntu0.1_all.deb ...\n",
            "Unpacking libatk-wrapper-java (0.33.3-20ubuntu0.1) ...\n",
            "Selecting previously unselected package libatk-wrapper-java-jni:amd64.\n",
            "Preparing to unpack .../05-libatk-wrapper-java-jni_0.33.3-20ubuntu0.1_amd64.deb ...\n",
            "Unpacking libatk-wrapper-java-jni:amd64 (0.33.3-20ubuntu0.1) ...\n",
            "Selecting previously unselected package libgtk2.0-common.\n",
            "Preparing to unpack .../06-libgtk2.0-common_2.24.32-1ubuntu1_all.deb ...\n",
            "Unpacking libgtk2.0-common (2.24.32-1ubuntu1) ...\n",
            "Selecting previously unselected package libgtk2.0-0:amd64.\n",
            "Preparing to unpack .../07-libgtk2.0-0_2.24.32-1ubuntu1_amd64.deb ...\n",
            "Unpacking libgtk2.0-0:amd64 (2.24.32-1ubuntu1) ...\n",
            "Selecting previously unselected package libgail18:amd64.\n",
            "Preparing to unpack .../08-libgail18_2.24.32-1ubuntu1_amd64.deb ...\n",
            "Unpacking libgail18:amd64 (2.24.32-1ubuntu1) ...\n",
            "Selecting previously unselected package libgail-common:amd64.\n",
            "Preparing to unpack .../09-libgail-common_2.24.32-1ubuntu1_amd64.deb ...\n",
            "Unpacking libgail-common:amd64 (2.24.32-1ubuntu1) ...\n",
            "Selecting previously unselected package libgtk2.0-bin.\n",
            "Preparing to unpack .../10-libgtk2.0-bin_2.24.32-1ubuntu1_amd64.deb ...\n",
            "Unpacking libgtk2.0-bin (2.24.32-1ubuntu1) ...\n",
            "Selecting previously unselected package openjdk-8-jre-headless:amd64.\n",
            "Preparing to unpack .../11-openjdk-8-jre-headless_8u275-b01-0ubuntu1~18.04_amd64.deb ...\n",
            "Unpacking openjdk-8-jre-headless:amd64 (8u275-b01-0ubuntu1~18.04) ...\n",
            "Selecting previously unselected package openjdk-8-jre:amd64.\n",
            "Preparing to unpack .../12-openjdk-8-jre_8u275-b01-0ubuntu1~18.04_amd64.deb ...\n",
            "Unpacking openjdk-8-jre:amd64 (8u275-b01-0ubuntu1~18.04) ...\n",
            "Selecting previously unselected package openjdk-8-jdk-headless:amd64.\n",
            "Preparing to unpack .../13-openjdk-8-jdk-headless_8u275-b01-0ubuntu1~18.04_amd64.deb ...\n",
            "Unpacking openjdk-8-jdk-headless:amd64 (8u275-b01-0ubuntu1~18.04) ...\n",
            "Selecting previously unselected package openjdk-8-jdk:amd64.\n",
            "Preparing to unpack .../14-openjdk-8-jdk_8u275-b01-0ubuntu1~18.04_amd64.deb ...\n",
            "Unpacking openjdk-8-jdk:amd64 (8u275-b01-0ubuntu1~18.04) ...\n",
            "Setting up libgtk2.0-common (2.24.32-1ubuntu1) ...\n",
            "Setting up fonts-dejavu-core (2.37-1) ...\n",
            "Setting up libxxf86dga1:amd64 (2:1.1.4-1) ...\n",
            "Setting up fonts-dejavu-extra (2.37-1) ...\n",
            "Setting up openjdk-8-jre-headless:amd64 (8u275-b01-0ubuntu1~18.04) ...\n",
            "update-alternatives: using /usr/lib/jvm/java-8-openjdk-amd64/jre/bin/orbd to provide /usr/bin/orbd (orbd) in auto mode\n",
            "update-alternatives: using /usr/lib/jvm/java-8-openjdk-amd64/jre/bin/servertool to provide /usr/bin/servertool (servertool) in auto mode\n",
            "update-alternatives: using /usr/lib/jvm/java-8-openjdk-amd64/jre/bin/tnameserv to provide /usr/bin/tnameserv (tnameserv) in auto mode\n",
            "Setting up libgtk2.0-0:amd64 (2.24.32-1ubuntu1) ...\n",
            "Setting up libgail18:amd64 (2.24.32-1ubuntu1) ...\n",
            "Setting up openjdk-8-jdk-headless:amd64 (8u275-b01-0ubuntu1~18.04) ...\n",
            "update-alternatives: using /usr/lib/jvm/java-8-openjdk-amd64/bin/idlj to provide /usr/bin/idlj (idlj) in auto mode\n",
            "update-alternatives: using /usr/lib/jvm/java-8-openjdk-amd64/bin/wsimport to provide /usr/bin/wsimport (wsimport) in auto mode\n",
            "update-alternatives: using /usr/lib/jvm/java-8-openjdk-amd64/bin/jsadebugd to provide /usr/bin/jsadebugd (jsadebugd) in auto mode\n",
            "update-alternatives: using /usr/lib/jvm/java-8-openjdk-amd64/bin/native2ascii to provide /usr/bin/native2ascii (native2ascii) in auto mode\n",
            "update-alternatives: using /usr/lib/jvm/java-8-openjdk-amd64/bin/javah to provide /usr/bin/javah (javah) in auto mode\n",
            "update-alternatives: using /usr/lib/jvm/java-8-openjdk-amd64/bin/clhsdb to provide /usr/bin/clhsdb (clhsdb) in auto mode\n",
            "update-alternatives: using /usr/lib/jvm/java-8-openjdk-amd64/bin/xjc to provide /usr/bin/xjc (xjc) in auto mode\n",
            "update-alternatives: using /usr/lib/jvm/java-8-openjdk-amd64/bin/hsdb to provide /usr/bin/hsdb (hsdb) in auto mode\n",
            "update-alternatives: using /usr/lib/jvm/java-8-openjdk-amd64/bin/schemagen to provide /usr/bin/schemagen (schemagen) in auto mode\n",
            "update-alternatives: using /usr/lib/jvm/java-8-openjdk-amd64/bin/extcheck to provide /usr/bin/extcheck (extcheck) in auto mode\n",
            "update-alternatives: using /usr/lib/jvm/java-8-openjdk-amd64/bin/jhat to provide /usr/bin/jhat (jhat) in auto mode\n",
            "update-alternatives: using /usr/lib/jvm/java-8-openjdk-amd64/bin/wsgen to provide /usr/bin/wsgen (wsgen) in auto mode\n",
            "Setting up x11-utils (7.7+3build1) ...\n",
            "Setting up libgail-common:amd64 (2.24.32-1ubuntu1) ...\n",
            "Setting up libatk-wrapper-java (0.33.3-20ubuntu0.1) ...\n",
            "Setting up libgtk2.0-bin (2.24.32-1ubuntu1) ...\n",
            "Setting up libatk-wrapper-java-jni:amd64 (0.33.3-20ubuntu0.1) ...\n",
            "Setting up openjdk-8-jre:amd64 (8u275-b01-0ubuntu1~18.04) ...\n",
            "update-alternatives: using /usr/lib/jvm/java-8-openjdk-amd64/jre/bin/policytool to provide /usr/bin/policytool (policytool) in auto mode\n",
            "Setting up openjdk-8-jdk:amd64 (8u275-b01-0ubuntu1~18.04) ...\n",
            "update-alternatives: using /usr/lib/jvm/java-8-openjdk-amd64/bin/appletviewer to provide /usr/bin/appletviewer (appletviewer) in auto mode\n",
            "update-alternatives: using /usr/lib/jvm/java-8-openjdk-amd64/bin/jconsole to provide /usr/bin/jconsole (jconsole) in auto mode\n",
            "Processing triggers for man-db (2.8.3-2ubuntu0.1) ...\n",
            "Processing triggers for hicolor-icon-theme (0.17-2) ...\n",
            "Processing triggers for fontconfig (2.12.6-0ubuntu2) ...\n",
            "Processing triggers for mime-support (3.60ubuntu1) ...\n",
            "Processing triggers for libc-bin (2.27-3ubuntu1.2) ...\n",
            "/sbin/ldconfig.real: /usr/local/lib/python3.6/dist-packages/ideep4py/lib/libmkldnn.so.0 is not a symbolic link\n",
            "\n",
            "Collecting JPype1-py3\n",
            "\u001b[?25l  Downloading https://files.pythonhosted.org/packages/9b/81/63f5e4202c598f362ee4684b41890f993d6e58309c5d90703f570ab85f62/JPype1-py3-0.5.5.4.tar.gz (88kB)\n",
            "\u001b[K     |████████████████████████████████| 92kB 4.0MB/s \n",
            "\u001b[?25hBuilding wheels for collected packages: JPype1-py3\n",
            "  Building wheel for JPype1-py3 (setup.py) ... \u001b[?25l\u001b[?25hdone\n",
            "  Created wheel for JPype1-py3: filename=JPype1_py3-0.5.5.4-cp36-cp36m-linux_x86_64.whl size=2667677 sha256=103fd64f08d60125070dd34cf7fc5d7a02143b4042757b72ecda116e78df5e6f\n",
            "  Stored in directory: /root/.cache/pip/wheels/52/37/1f/1015d908d12a0e9b239543d031fda0cded9823aa1306939541\n",
            "Successfully built JPype1-py3\n",
            "Installing collected packages: JPype1-py3\n",
            "Successfully installed JPype1-py3-0.5.5.4\n",
            "Collecting konlpy\n",
            "\u001b[?25l  Downloading https://files.pythonhosted.org/packages/85/0e/f385566fec837c0b83f216b2da65db9997b35dd675e107752005b7d392b1/konlpy-0.5.2-py2.py3-none-any.whl (19.4MB)\n",
            "\u001b[K     |████████████████████████████████| 19.4MB 7.3MB/s \n",
            "\u001b[?25hRequirement already satisfied: numpy>=1.6 in /usr/local/lib/python3.6/dist-packages (from konlpy) (1.18.5)\n",
            "Collecting beautifulsoup4==4.6.0\n",
            "\u001b[?25l  Downloading https://files.pythonhosted.org/packages/9e/d4/10f46e5cfac773e22707237bfcd51bbffeaf0a576b0a847ec7ab15bd7ace/beautifulsoup4-4.6.0-py3-none-any.whl (86kB)\n",
            "\u001b[K     |████████████████████████████████| 92kB 8.8MB/s \n",
            "\u001b[?25hCollecting JPype1>=0.7.0\n",
            "\u001b[?25l  Downloading https://files.pythonhosted.org/packages/fd/96/1030895dea70855a2e1078e3fe0d6a63dcb7c212309e07dc9ee39d33af54/JPype1-1.1.2-cp36-cp36m-manylinux2010_x86_64.whl (450kB)\n",
            "\u001b[K     |████████████████████████████████| 460kB 43.5MB/s \n",
            "\u001b[?25hCollecting colorama\n",
            "  Downloading https://files.pythonhosted.org/packages/44/98/5b86278fbbf250d239ae0ecb724f8572af1c91f4a11edf4d36a206189440/colorama-0.4.4-py2.py3-none-any.whl\n",
            "Collecting tweepy>=3.7.0\n",
            "  Downloading https://files.pythonhosted.org/packages/bb/7c/99d51f80f3b77b107ebae2634108717362c059a41384a1810d13e2429a81/tweepy-3.9.0-py2.py3-none-any.whl\n",
            "Requirement already satisfied: lxml>=4.1.0 in /usr/local/lib/python3.6/dist-packages (from konlpy) (4.2.6)\n",
            "Requirement already satisfied: typing-extensions; python_version < \"3.8\" in /usr/local/lib/python3.6/dist-packages (from JPype1>=0.7.0->konlpy) (3.7.4.3)\n",
            "Requirement already satisfied: six>=1.10.0 in /usr/local/lib/python3.6/dist-packages (from tweepy>=3.7.0->konlpy) (1.15.0)\n",
            "Requirement already satisfied: requests[socks]>=2.11.1 in /usr/local/lib/python3.6/dist-packages (from tweepy>=3.7.0->konlpy) (2.23.0)\n",
            "Requirement already satisfied: requests-oauthlib>=0.7.0 in /usr/local/lib/python3.6/dist-packages (from tweepy>=3.7.0->konlpy) (1.3.0)\n",
            "Requirement already satisfied: certifi>=2017.4.17 in /usr/local/lib/python3.6/dist-packages (from requests[socks]>=2.11.1->tweepy>=3.7.0->konlpy) (2020.6.20)\n",
            "Requirement already satisfied: chardet<4,>=3.0.2 in /usr/local/lib/python3.6/dist-packages (from requests[socks]>=2.11.1->tweepy>=3.7.0->konlpy) (3.0.4)\n",
            "Requirement already satisfied: urllib3!=1.25.0,!=1.25.1,<1.26,>=1.21.1 in /usr/local/lib/python3.6/dist-packages (from requests[socks]>=2.11.1->tweepy>=3.7.0->konlpy) (1.24.3)\n",
            "Requirement already satisfied: idna<3,>=2.5 in /usr/local/lib/python3.6/dist-packages (from requests[socks]>=2.11.1->tweepy>=3.7.0->konlpy) (2.10)\n",
            "Requirement already satisfied: PySocks!=1.5.7,>=1.5.6; extra == \"socks\" in /usr/local/lib/python3.6/dist-packages (from requests[socks]>=2.11.1->tweepy>=3.7.0->konlpy) (1.7.1)\n",
            "Requirement already satisfied: oauthlib>=3.0.0 in /usr/local/lib/python3.6/dist-packages (from requests-oauthlib>=0.7.0->tweepy>=3.7.0->konlpy) (3.1.0)\n",
            "Installing collected packages: beautifulsoup4, JPype1, colorama, tweepy, konlpy\n",
            "  Found existing installation: beautifulsoup4 4.6.3\n",
            "    Uninstalling beautifulsoup4-4.6.3:\n",
            "      Successfully uninstalled beautifulsoup4-4.6.3\n",
            "  Found existing installation: tweepy 3.6.0\n",
            "    Uninstalling tweepy-3.6.0:\n",
            "      Successfully uninstalled tweepy-3.6.0\n",
            "Successfully installed JPype1-1.1.2 beautifulsoup4-4.6.0 colorama-0.4.4 konlpy-0.5.2 tweepy-3.9.0\n"
          ],
          "name": "stdout"
        }
      ]
    },
    {
      "cell_type": "code",
      "metadata": {
        "id": "b_gr4YredDAh"
      },
      "source": [
        "from konlpy.tag import Okt\n",
        "okt = Okt()"
      ],
      "execution_count": 13,
      "outputs": []
    },
    {
      "cell_type": "code",
      "metadata": {
        "id": "b6OzKVxvdb-a",
        "outputId": "b2adf4c7-0bc4-4f52-cbb0-a98919172863",
        "colab": {
          "base_uri": "https://localhost:8080/"
        }
      },
      "source": [
        "for i in range(15):\n",
        "  print(okt.nouns(DF.iloc[i]['강좌명']))"
      ],
      "execution_count": 14,
      "outputs": [
        {
          "output_type": "stream",
          "text": [
            "['잡학', '쓸모']\n",
            "['반']\n",
            "['반']\n",
            "['호기심', '과학', '실험', '교실', '초']\n",
            "['호기심', '과학', '실험', '교실', '초']\n",
            "['반']\n",
            "['반']\n",
            "['호기심', '과학', '실험', '교실', '초']\n",
            "['호기심', '과학', '실험', '교실', '초']\n",
            "['반']\n",
            "['반']\n",
            "['호기심', '과학', '실험', '교실', '초']\n",
            "['호기심', '과학', '실험', '교실', '초']\n",
            "['반']\n",
            "['반']\n"
          ],
          "name": "stdout"
        }
      ]
    },
    {
      "cell_type": "code",
      "metadata": {
        "id": "vFP2XTf1dtZN",
        "outputId": "8d6fd571-42b9-4f21-eb83-809b7af3094c",
        "colab": {
          "base_uri": "https://localhost:8080/",
          "height": 1000
        }
      },
      "source": [
        "DF.head(10)"
      ],
      "execution_count": 110,
      "outputs": [
        {
          "output_type": "execute_result",
          "data": {
            "text/html": [
              "<div>\n",
              "<style scoped>\n",
              "    .dataframe tbody tr th:only-of-type {\n",
              "        vertical-align: middle;\n",
              "    }\n",
              "\n",
              "    .dataframe tbody tr th {\n",
              "        vertical-align: top;\n",
              "    }\n",
              "\n",
              "    .dataframe thead th {\n",
              "        text-align: right;\n",
              "    }\n",
              "</style>\n",
              "<table border=\"1\" class=\"dataframe\">\n",
              "  <thead>\n",
              "    <tr style=\"text-align: right;\">\n",
              "      <th></th>\n",
              "      <th>강좌명</th>\n",
              "      <th>강사명</th>\n",
              "      <th>교육시작일자</th>\n",
              "      <th>교육종료일자</th>\n",
              "      <th>교육기간</th>\n",
              "      <th>교육시작시각</th>\n",
              "      <th>교육종료시각</th>\n",
              "      <th>교육시간</th>\n",
              "      <th>강좌내용</th>\n",
              "      <th>교육대상구분</th>\n",
              "      <th>교육방법구분</th>\n",
              "      <th>운영요일</th>\n",
              "      <th>교육장소</th>\n",
              "      <th>강좌정원수</th>\n",
              "      <th>수강료</th>\n",
              "      <th>교육장도로명주소</th>\n",
              "      <th>운영기관명</th>\n",
              "      <th>접수시작일자</th>\n",
              "      <th>접수종료일자</th>\n",
              "      <th>접수기간</th>\n",
              "      <th>접수방법구분</th>\n",
              "      <th>선정방법구분</th>\n",
              "      <th>학점은행제평가(학점)인정여부</th>\n",
              "      <th>평생학습계좌제평가인정여부</th>\n",
              "      <th>데이터기준일자</th>\n",
              "      <th>제공기관코드</th>\n",
              "      <th>분류</th>\n",
              "      <th>제공기관명</th>\n",
              "    </tr>\n",
              "  </thead>\n",
              "  <tbody>\n",
              "    <tr>\n",
              "      <th>9</th>\n",
              "      <td>잡학의 쓸모</td>\n",
              "      <td>공강일</td>\n",
              "      <td>2018-10-23</td>\n",
              "      <td>2018-11-27</td>\n",
              "      <td>35.0</td>\n",
              "      <td>14:00:00</td>\n",
              "      <td>16:00:00</td>\n",
              "      <td>02:00:00</td>\n",
              "      <td>물리학, 철학 등 엄선된 책을 중심으로 인학점 소양을 함양하는 과정</td>\n",
              "      <td>서초구민</td>\n",
              "      <td>오프라인</td>\n",
              "      <td>화</td>\n",
              "      <td>서초구 평생학습관</td>\n",
              "      <td>30</td>\n",
              "      <td>20000</td>\n",
              "      <td>서울특별시 서초구 방배로 173</td>\n",
              "      <td>서초구 평생학습관</td>\n",
              "      <td>NaT</td>\n",
              "      <td>NaT</td>\n",
              "      <td>NaN</td>\n",
              "      <td>온라인</td>\n",
              "      <td>선착순</td>\n",
              "      <td>N</td>\n",
              "      <td>N</td>\n",
              "      <td>2019-07-23</td>\n",
              "      <td>3210000</td>\n",
              "      <td>학력보완</td>\n",
              "      <td>서울특별시 서초구</td>\n",
              "    </tr>\n",
              "    <tr>\n",
              "      <th>151</th>\n",
              "      <td>Let''s play ABC - A반(13~14년생)</td>\n",
              "      <td>이예랑</td>\n",
              "      <td>2019-01-12</td>\n",
              "      <td>2019-03-30</td>\n",
              "      <td>77.0</td>\n",
              "      <td>10:30:00</td>\n",
              "      <td>11:30:00</td>\n",
              "      <td>01:00:00</td>\n",
              "      <td>학력보완</td>\n",
              "      <td>유아</td>\n",
              "      <td>오프라인</td>\n",
              "      <td>토</td>\n",
              "      <td>평생학습관 3강의실</td>\n",
              "      <td>12</td>\n",
              "      <td>16000</td>\n",
              "      <td>서울특별시 금천구 시흥대로73길 70</td>\n",
              "      <td>서울특별시 금천구청</td>\n",
              "      <td>2019-01-07</td>\n",
              "      <td>2019-01-12</td>\n",
              "      <td>5</td>\n",
              "      <td>온라인,방문</td>\n",
              "      <td>선착순</td>\n",
              "      <td>N</td>\n",
              "      <td>N</td>\n",
              "      <td>2020-06-10</td>\n",
              "      <td>3170000</td>\n",
              "      <td>학력보완</td>\n",
              "      <td>서울특별시 금천구</td>\n",
              "    </tr>\n",
              "    <tr>\n",
              "      <th>152</th>\n",
              "      <td>Let''s play ABC - B반(13~14년생)</td>\n",
              "      <td>이예랑</td>\n",
              "      <td>2019-01-12</td>\n",
              "      <td>2019-03-30</td>\n",
              "      <td>77.0</td>\n",
              "      <td>11:30:00</td>\n",
              "      <td>12:30:00</td>\n",
              "      <td>01:00:00</td>\n",
              "      <td>학력보완</td>\n",
              "      <td>유아</td>\n",
              "      <td>오프라인</td>\n",
              "      <td>토</td>\n",
              "      <td>평생학습관 3강의실</td>\n",
              "      <td>12</td>\n",
              "      <td>16000</td>\n",
              "      <td>서울특별시 금천구 시흥대로73길 70</td>\n",
              "      <td>서울특별시 금천구청</td>\n",
              "      <td>2019-01-07</td>\n",
              "      <td>2019-01-12</td>\n",
              "      <td>5</td>\n",
              "      <td>온라인,방문</td>\n",
              "      <td>선착순</td>\n",
              "      <td>N</td>\n",
              "      <td>N</td>\n",
              "      <td>2020-06-10</td>\n",
              "      <td>3170000</td>\n",
              "      <td>학력보완</td>\n",
              "      <td>서울특별시 금천구</td>\n",
              "    </tr>\n",
              "    <tr>\n",
              "      <th>153</th>\n",
              "      <td>호기심 과학실험교실(초2~3년, 10~11년생)</td>\n",
              "      <td>홍은정</td>\n",
              "      <td>2019-01-15</td>\n",
              "      <td>2019-03-26</td>\n",
              "      <td>70.0</td>\n",
              "      <td>18:30:00</td>\n",
              "      <td>20:00:00</td>\n",
              "      <td>01:30:00</td>\n",
              "      <td>학력보완</td>\n",
              "      <td>초등</td>\n",
              "      <td>오프라인</td>\n",
              "      <td>화</td>\n",
              "      <td>평생학습관 3강의실</td>\n",
              "      <td>20</td>\n",
              "      <td>64000</td>\n",
              "      <td>서울특별시 금천구 시흥대로73길 70</td>\n",
              "      <td>서울특별시 금천구청</td>\n",
              "      <td>2019-01-07</td>\n",
              "      <td>2019-01-15</td>\n",
              "      <td>8</td>\n",
              "      <td>온라인,방문</td>\n",
              "      <td>선착순</td>\n",
              "      <td>N</td>\n",
              "      <td>N</td>\n",
              "      <td>2020-06-10</td>\n",
              "      <td>3170000</td>\n",
              "      <td>학력보완</td>\n",
              "      <td>서울특별시 금천구</td>\n",
              "    </tr>\n",
              "    <tr>\n",
              "      <th>154</th>\n",
              "      <td>호기심 과학실험교실(초2~3년, 10~11년생)</td>\n",
              "      <td>최애진</td>\n",
              "      <td>2019-01-17</td>\n",
              "      <td>2019-03-21</td>\n",
              "      <td>63.0</td>\n",
              "      <td>18:30:00</td>\n",
              "      <td>20:00:00</td>\n",
              "      <td>01:30:00</td>\n",
              "      <td>학력보완</td>\n",
              "      <td>초등</td>\n",
              "      <td>오프라인</td>\n",
              "      <td>목</td>\n",
              "      <td>평생학습관 3강의실</td>\n",
              "      <td>20</td>\n",
              "      <td>64000</td>\n",
              "      <td>서울특별시 금천구 시흥대로73길 70</td>\n",
              "      <td>서울특별시 금천구청</td>\n",
              "      <td>2019-01-07</td>\n",
              "      <td>2019-01-17</td>\n",
              "      <td>10</td>\n",
              "      <td>온라인,방문</td>\n",
              "      <td>선착순</td>\n",
              "      <td>N</td>\n",
              "      <td>N</td>\n",
              "      <td>2020-06-10</td>\n",
              "      <td>3170000</td>\n",
              "      <td>학력보완</td>\n",
              "      <td>서울특별시 금천구</td>\n",
              "    </tr>\n",
              "    <tr>\n",
              "      <th>171</th>\n",
              "      <td>Let''s play ABC - A반(13~14년생)</td>\n",
              "      <td>이예랑</td>\n",
              "      <td>2019-04-13</td>\n",
              "      <td>2019-06-29</td>\n",
              "      <td>77.0</td>\n",
              "      <td>10:30:00</td>\n",
              "      <td>11:30:00</td>\n",
              "      <td>01:00:00</td>\n",
              "      <td>학력보완</td>\n",
              "      <td>유아</td>\n",
              "      <td>오프라인</td>\n",
              "      <td>토</td>\n",
              "      <td>평생학습관 3강의실</td>\n",
              "      <td>12</td>\n",
              "      <td>16000</td>\n",
              "      <td>서울특별시 금천구 시흥대로73길 70</td>\n",
              "      <td>서울특별시 금천구청</td>\n",
              "      <td>2019-04-01</td>\n",
              "      <td>2019-04-13</td>\n",
              "      <td>12</td>\n",
              "      <td>온라인,방문</td>\n",
              "      <td>선착순</td>\n",
              "      <td>N</td>\n",
              "      <td>N</td>\n",
              "      <td>2020-06-10</td>\n",
              "      <td>3170000</td>\n",
              "      <td>학력보완</td>\n",
              "      <td>서울특별시 금천구</td>\n",
              "    </tr>\n",
              "    <tr>\n",
              "      <th>172</th>\n",
              "      <td>Let''s play ABC - B반(13~14년생)</td>\n",
              "      <td>이예랑</td>\n",
              "      <td>2019-04-13</td>\n",
              "      <td>2019-06-29</td>\n",
              "      <td>77.0</td>\n",
              "      <td>11:30:00</td>\n",
              "      <td>12:30:00</td>\n",
              "      <td>01:00:00</td>\n",
              "      <td>학력보완</td>\n",
              "      <td>유아</td>\n",
              "      <td>오프라인</td>\n",
              "      <td>토</td>\n",
              "      <td>평생학습관 3강의실</td>\n",
              "      <td>12</td>\n",
              "      <td>16000</td>\n",
              "      <td>서울특별시 금천구 시흥대로73길 70</td>\n",
              "      <td>서울특별시 금천구청</td>\n",
              "      <td>2019-04-01</td>\n",
              "      <td>2019-04-13</td>\n",
              "      <td>12</td>\n",
              "      <td>온라인,방문</td>\n",
              "      <td>선착순</td>\n",
              "      <td>N</td>\n",
              "      <td>N</td>\n",
              "      <td>2020-06-10</td>\n",
              "      <td>3170000</td>\n",
              "      <td>학력보완</td>\n",
              "      <td>서울특별시 금천구</td>\n",
              "    </tr>\n",
              "    <tr>\n",
              "      <th>173</th>\n",
              "      <td>호기심 과학실험교실(초2~3년, 10~11년생)</td>\n",
              "      <td>홍은정</td>\n",
              "      <td>2019-04-09</td>\n",
              "      <td>2019-06-11</td>\n",
              "      <td>63.0</td>\n",
              "      <td>18:30:00</td>\n",
              "      <td>20:00:00</td>\n",
              "      <td>01:30:00</td>\n",
              "      <td>학력보완</td>\n",
              "      <td>초등</td>\n",
              "      <td>오프라인</td>\n",
              "      <td>화</td>\n",
              "      <td>평생학습관 3강의실</td>\n",
              "      <td>18</td>\n",
              "      <td>62000</td>\n",
              "      <td>서울특별시 금천구 시흥대로73길 70</td>\n",
              "      <td>서울특별시 금천구청</td>\n",
              "      <td>2019-04-01</td>\n",
              "      <td>2019-04-09</td>\n",
              "      <td>8</td>\n",
              "      <td>온라인,방문</td>\n",
              "      <td>선착순</td>\n",
              "      <td>N</td>\n",
              "      <td>N</td>\n",
              "      <td>2020-06-10</td>\n",
              "      <td>3170000</td>\n",
              "      <td>학력보완</td>\n",
              "      <td>서울특별시 금천구</td>\n",
              "    </tr>\n",
              "    <tr>\n",
              "      <th>174</th>\n",
              "      <td>호기심 과학실험교실(초2~3년, 10~11년생)</td>\n",
              "      <td>최애진</td>\n",
              "      <td>2019-04-11</td>\n",
              "      <td>2019-06-20</td>\n",
              "      <td>70.0</td>\n",
              "      <td>18:30:00</td>\n",
              "      <td>20:00:00</td>\n",
              "      <td>01:30:00</td>\n",
              "      <td>학력보완</td>\n",
              "      <td>초등</td>\n",
              "      <td>오프라인</td>\n",
              "      <td>목</td>\n",
              "      <td>평생학습관 3강의실</td>\n",
              "      <td>19</td>\n",
              "      <td>62000</td>\n",
              "      <td>서울특별시 금천구 시흥대로73길 70</td>\n",
              "      <td>서울특별시 금천구청</td>\n",
              "      <td>2019-04-01</td>\n",
              "      <td>2019-04-11</td>\n",
              "      <td>10</td>\n",
              "      <td>온라인,방문</td>\n",
              "      <td>선착순</td>\n",
              "      <td>N</td>\n",
              "      <td>N</td>\n",
              "      <td>2020-06-10</td>\n",
              "      <td>3170000</td>\n",
              "      <td>학력보완</td>\n",
              "      <td>서울특별시 금천구</td>\n",
              "    </tr>\n",
              "    <tr>\n",
              "      <th>190</th>\n",
              "      <td>Let''s play ABC - A반(13~14년생)</td>\n",
              "      <td>이예랑</td>\n",
              "      <td>2019-07-06</td>\n",
              "      <td>2019-09-28</td>\n",
              "      <td>84.0</td>\n",
              "      <td>10:30:00</td>\n",
              "      <td>11:30:00</td>\n",
              "      <td>01:00:00</td>\n",
              "      <td>학력보완</td>\n",
              "      <td>유아</td>\n",
              "      <td>오프라인</td>\n",
              "      <td>토</td>\n",
              "      <td>평생학습관 3강의실</td>\n",
              "      <td>12</td>\n",
              "      <td>16000</td>\n",
              "      <td>서울특별시 금천구 시흥대로73길 70</td>\n",
              "      <td>서울특별시 금천구청</td>\n",
              "      <td>2019-07-01</td>\n",
              "      <td>2019-07-06</td>\n",
              "      <td>5</td>\n",
              "      <td>온라인,방문</td>\n",
              "      <td>선착순</td>\n",
              "      <td>N</td>\n",
              "      <td>N</td>\n",
              "      <td>2020-06-10</td>\n",
              "      <td>3170000</td>\n",
              "      <td>학력보완</td>\n",
              "      <td>서울특별시 금천구</td>\n",
              "    </tr>\n",
              "  </tbody>\n",
              "</table>\n",
              "</div>"
            ],
            "text/plain": [
              "                               강좌명  강사명     교육시작일자  ...   제공기관코드    분류      제공기관명\n",
              "9                           잡학의 쓸모  공강일 2018-10-23  ...  3210000  학력보완  서울특별시 서초구\n",
              "151  Let''s play ABC - A반(13~14년생)  이예랑 2019-01-12  ...  3170000  학력보완  서울특별시 금천구\n",
              "152  Let''s play ABC - B반(13~14년생)  이예랑 2019-01-12  ...  3170000  학력보완  서울특별시 금천구\n",
              "153     호기심 과학실험교실(초2~3년, 10~11년생)  홍은정 2019-01-15  ...  3170000  학력보완  서울특별시 금천구\n",
              "154     호기심 과학실험교실(초2~3년, 10~11년생)  최애진 2019-01-17  ...  3170000  학력보완  서울특별시 금천구\n",
              "171  Let''s play ABC - A반(13~14년생)  이예랑 2019-04-13  ...  3170000  학력보완  서울특별시 금천구\n",
              "172  Let''s play ABC - B반(13~14년생)  이예랑 2019-04-13  ...  3170000  학력보완  서울특별시 금천구\n",
              "173     호기심 과학실험교실(초2~3년, 10~11년생)  홍은정 2019-04-09  ...  3170000  학력보완  서울특별시 금천구\n",
              "174     호기심 과학실험교실(초2~3년, 10~11년생)  최애진 2019-04-11  ...  3170000  학력보완  서울특별시 금천구\n",
              "190  Let''s play ABC - A반(13~14년생)  이예랑 2019-07-06  ...  3170000  학력보완  서울특별시 금천구\n",
              "\n",
              "[10 rows x 28 columns]"
            ]
          },
          "metadata": {
            "tags": []
          },
          "execution_count": 110
        }
      ]
    },
    {
      "cell_type": "code",
      "metadata": {
        "id": "pWg-7y1jcV0c",
        "outputId": "6d77160d-f706-4442-aeb7-48f4836049fb",
        "colab": {
          "base_uri": "https://localhost:8080/"
        }
      },
      "source": [
        "from sklearn.tree import DecisionTreeClassifier\n",
        "\n",
        "model = DecisionTreeClassifier(max_depth=5)\n",
        "model"
      ],
      "execution_count": 10,
      "outputs": [
        {
          "output_type": "execute_result",
          "data": {
            "text/plain": [
              "DecisionTreeClassifier(ccp_alpha=0.0, class_weight=None, criterion='gini',\n",
              "                       max_depth=5, max_features=None, max_leaf_nodes=None,\n",
              "                       min_impurity_decrease=0.0, min_impurity_split=None,\n",
              "                       min_samples_leaf=1, min_samples_split=2,\n",
              "                       min_weight_fraction_leaf=0.0, presort='deprecated',\n",
              "                       random_state=None, splitter='best')"
            ]
          },
          "metadata": {
            "tags": []
          },
          "execution_count": 10
        }
      ]
    },
    {
      "cell_type": "code",
      "metadata": {
        "id": "vpeM_ppOcy6T"
      },
      "source": [
        "feature_names=['강사명','수강료','교육대상구분','교육기간']\n",
        "label = '분류'"
      ],
      "execution_count": 129,
      "outputs": []
    },
    {
      "cell_type": "code",
      "metadata": {
        "id": "TyAlECjpf0bJ"
      },
      "source": [
        "import numpy as np\n",
        "np.random.seed(0)\n",
        "def split_train_test(data, test_ratio):\n",
        "    shuffled_indices = np.random.permutation(len(data)) # 0~수-1 까지의 수를 랜덤으로 배치한 배열 생성\n",
        "    # ex) np.random.permutaion(5) -> 0, 4, 1, 2, 3\n",
        "    test_set_size = int(len(data) * test_ratio) # test set 개수\n",
        "    test_indices = shuffled_indices[:test_set_size] # test set index\n",
        "    train_indices = shuffled_indices[test_set_size:] # train set index\n",
        "    return data.iloc[train_indices], data.iloc[test_indices]"
      ],
      "execution_count": 114,
      "outputs": []
    },
    {
      "cell_type": "code",
      "metadata": {
        "id": "Ba4iJrM6gKFY",
        "outputId": "a9fb9c2c-55de-45ad-92e0-0c6609cead7a",
        "colab": {
          "base_uri": "https://localhost:8080/"
        }
      },
      "source": [
        "train_set, test_set = split_train_test(DF, 0.2)\n",
        "print(len(train_set), len(test_set))"
      ],
      "execution_count": 130,
      "outputs": [
        {
          "output_type": "stream",
          "text": [
            "240 60\n"
          ],
          "name": "stdout"
        }
      ]
    },
    {
      "cell_type": "code",
      "metadata": {
        "id": "bQqvS6zmgvK7"
      },
      "source": [
        "X_train=train_set[feature_names]\n",
        "y_train=train_set[label]\n",
        "\n",
        "X_test=test_set[feature_names]\n",
        "y_test=test_set[label]"
      ],
      "execution_count": 131,
      "outputs": []
    },
    {
      "cell_type": "code",
      "metadata": {
        "id": "MCr9qvgSg5KX",
        "outputId": "abdaeda4-347b-4843-a078-369ec6ae71ca",
        "colab": {
          "base_uri": "https://localhost:8080/",
          "height": 191
        }
      },
      "source": [
        "X_train.head()"
      ],
      "execution_count": 132,
      "outputs": [
        {
          "output_type": "execute_result",
          "data": {
            "text/html": [
              "<div>\n",
              "<style scoped>\n",
              "    .dataframe tbody tr th:only-of-type {\n",
              "        vertical-align: middle;\n",
              "    }\n",
              "\n",
              "    .dataframe tbody tr th {\n",
              "        vertical-align: top;\n",
              "    }\n",
              "\n",
              "    .dataframe thead th {\n",
              "        text-align: right;\n",
              "    }\n",
              "</style>\n",
              "<table border=\"1\" class=\"dataframe\">\n",
              "  <thead>\n",
              "    <tr style=\"text-align: right;\">\n",
              "      <th></th>\n",
              "      <th>강사명</th>\n",
              "      <th>수강료</th>\n",
              "      <th>교육대상구분</th>\n",
              "      <th>교육기간</th>\n",
              "    </tr>\n",
              "  </thead>\n",
              "  <tbody>\n",
              "    <tr>\n",
              "      <th>216</th>\n",
              "      <td>홍은정</td>\n",
              "      <td>60000</td>\n",
              "      <td>초등</td>\n",
              "      <td>63.0</td>\n",
              "    </tr>\n",
              "    <tr>\n",
              "      <th>193</th>\n",
              "      <td>최애진</td>\n",
              "      <td>61000</td>\n",
              "      <td>초등</td>\n",
              "      <td>77.0</td>\n",
              "    </tr>\n",
              "    <tr>\n",
              "      <th>978</th>\n",
              "      <td>안응자</td>\n",
              "      <td>35000</td>\n",
              "      <td>성인</td>\n",
              "      <td>42.0</td>\n",
              "    </tr>\n",
              "    <tr>\n",
              "      <th>2801</th>\n",
              "      <td>김유화</td>\n",
              "      <td>0</td>\n",
              "      <td>성인</td>\n",
              "      <td>161.0</td>\n",
              "    </tr>\n",
              "    <tr>\n",
              "      <th>4672</th>\n",
              "      <td>임리나</td>\n",
              "      <td>0</td>\n",
              "      <td>성인</td>\n",
              "      <td>NaN</td>\n",
              "    </tr>\n",
              "  </tbody>\n",
              "</table>\n",
              "</div>"
            ],
            "text/plain": [
              "      강사명    수강료 교육대상구분   교육기간\n",
              "216   홍은정  60000     초등   63.0\n",
              "193   최애진  61000     초등   77.0\n",
              "978   안응자  35000     성인   42.0\n",
              "2801  김유화      0     성인  161.0\n",
              "4672  임리나      0     성인    NaN"
            ]
          },
          "metadata": {
            "tags": []
          },
          "execution_count": 132
        }
      ]
    },
    {
      "cell_type": "code",
      "metadata": {
        "id": "qb0atBH5g-d3",
        "outputId": "002e1b73-aa57-4c5a-faf7-b385817dd09b",
        "colab": {
          "base_uri": "https://localhost:8080/"
        }
      },
      "source": [
        "X_train['fill_교육기간'] = X_train['교육기간'].fillna(0)\n",
        "X_test['fill_교육기간'] = X_test['교육기간'].fillna(0)\n"
      ],
      "execution_count": 133,
      "outputs": [
        {
          "output_type": "stream",
          "text": [
            "/usr/local/lib/python3.6/dist-packages/ipykernel_launcher.py:1: SettingWithCopyWarning: \n",
            "A value is trying to be set on a copy of a slice from a DataFrame.\n",
            "Try using .loc[row_indexer,col_indexer] = value instead\n",
            "\n",
            "See the caveats in the documentation: https://pandas.pydata.org/pandas-docs/stable/user_guide/indexing.html#returning-a-view-versus-a-copy\n",
            "  \"\"\"Entry point for launching an IPython kernel.\n",
            "/usr/local/lib/python3.6/dist-packages/ipykernel_launcher.py:2: SettingWithCopyWarning: \n",
            "A value is trying to be set on a copy of a slice from a DataFrame.\n",
            "Try using .loc[row_indexer,col_indexer] = value instead\n",
            "\n",
            "See the caveats in the documentation: https://pandas.pydata.org/pandas-docs/stable/user_guide/indexing.html#returning-a-view-versus-a-copy\n",
            "  \n"
          ],
          "name": "stderr"
        }
      ]
    },
    {
      "cell_type": "code",
      "metadata": {
        "id": "GO40l41weWSR"
      },
      "source": [
        "from sklearn.preprocessing import LabelEncoder\n",
        "le = LabelEncoder()"
      ],
      "execution_count": 119,
      "outputs": []
    },
    {
      "cell_type": "code",
      "metadata": {
        "id": "eNmDi3Yaiash",
        "outputId": "66a9d443-a6ee-4526-ef08-b39a07e81ed6",
        "colab": {
          "base_uri": "https://localhost:8080/"
        }
      },
      "source": [
        "X_train['num강사명'] = le.fit_transform(X_train[['강사명']]) # fit 과 transform 을 동시에 해줌\n",
        "X_test['num강사명'] = le.fit_transform(X_test[['강사명']]) # fit 과 transform 을 동시에 해줌\n",
        "X_train['num교육대상구분'] = le.fit_transform(X_train[['교육대상구분']])\n",
        "X_test['num교육대상구분'] = le.fit_transform(X_test[['교육대상구분']])"
      ],
      "execution_count": 134,
      "outputs": [
        {
          "output_type": "stream",
          "text": [
            "/usr/local/lib/python3.6/dist-packages/sklearn/preprocessing/_label.py:251: DataConversionWarning: A column-vector y was passed when a 1d array was expected. Please change the shape of y to (n_samples, ), for example using ravel().\n",
            "  y = column_or_1d(y, warn=True)\n",
            "/usr/local/lib/python3.6/dist-packages/ipykernel_launcher.py:1: SettingWithCopyWarning: \n",
            "A value is trying to be set on a copy of a slice from a DataFrame.\n",
            "Try using .loc[row_indexer,col_indexer] = value instead\n",
            "\n",
            "See the caveats in the documentation: https://pandas.pydata.org/pandas-docs/stable/user_guide/indexing.html#returning-a-view-versus-a-copy\n",
            "  \"\"\"Entry point for launching an IPython kernel.\n",
            "/usr/local/lib/python3.6/dist-packages/ipykernel_launcher.py:2: SettingWithCopyWarning: \n",
            "A value is trying to be set on a copy of a slice from a DataFrame.\n",
            "Try using .loc[row_indexer,col_indexer] = value instead\n",
            "\n",
            "See the caveats in the documentation: https://pandas.pydata.org/pandas-docs/stable/user_guide/indexing.html#returning-a-view-versus-a-copy\n",
            "  \n",
            "/usr/local/lib/python3.6/dist-packages/ipykernel_launcher.py:3: SettingWithCopyWarning: \n",
            "A value is trying to be set on a copy of a slice from a DataFrame.\n",
            "Try using .loc[row_indexer,col_indexer] = value instead\n",
            "\n",
            "See the caveats in the documentation: https://pandas.pydata.org/pandas-docs/stable/user_guide/indexing.html#returning-a-view-versus-a-copy\n",
            "  This is separate from the ipykernel package so we can avoid doing imports until\n",
            "/usr/local/lib/python3.6/dist-packages/ipykernel_launcher.py:4: SettingWithCopyWarning: \n",
            "A value is trying to be set on a copy of a slice from a DataFrame.\n",
            "Try using .loc[row_indexer,col_indexer] = value instead\n",
            "\n",
            "See the caveats in the documentation: https://pandas.pydata.org/pandas-docs/stable/user_guide/indexing.html#returning-a-view-versus-a-copy\n",
            "  after removing the cwd from sys.path.\n"
          ],
          "name": "stderr"
        }
      ]
    },
    {
      "cell_type": "code",
      "metadata": {
        "id": "6O92dukgjKFA",
        "outputId": "5f41821c-5fc1-4484-893f-7e29847eb66e",
        "colab": {
          "base_uri": "https://localhost:8080/"
        }
      },
      "source": [
        "feature_names=['num강사명','수강료','num교육대상구분','fill_교육기간']\n",
        "X_train=X_train[feature_names]\n",
        "X_test=X_test[feature_names]\n",
        "\n",
        "X_train.head() , print(\"\\n\"), X_test.head()"
      ],
      "execution_count": 135,
      "outputs": [
        {
          "output_type": "stream",
          "text": [
            "\n",
            "\n"
          ],
          "name": "stdout"
        },
        {
          "output_type": "execute_result",
          "data": {
            "text/plain": [
              "(      num강사명    수강료  num교육대상구분  fill_교육기간\n",
              " 216      193  60000         36       63.0\n",
              " 193      177  61000         36       77.0\n",
              " 978      101  35000         14       42.0\n",
              " 2801      41      0         14      161.0\n",
              " 4672     145      0         14        0.0,\n",
              " None,\n",
              "       num강사명    수강료  num교육대상구분  fill_교육기간\n",
              " 5513      31      0         11        0.0\n",
              " 724       42  30000         14        1.0\n",
              " 2645       2  45000          4      102.0\n",
              " 1484      21      0          5      123.0\n",
              " 1482       3      0          5      123.0)"
            ]
          },
          "metadata": {
            "tags": []
          },
          "execution_count": 135
        }
      ]
    },
    {
      "cell_type": "code",
      "metadata": {
        "id": "NFRWL6-Opcji",
        "outputId": "d6996830-2a24-4434-bd89-fe09090dc9b6",
        "colab": {
          "base_uri": "https://localhost:8080/",
          "height": 335
        }
      },
      "source": [
        "X_train.head(10)"
      ],
      "execution_count": 136,
      "outputs": [
        {
          "output_type": "execute_result",
          "data": {
            "text/html": [
              "<div>\n",
              "<style scoped>\n",
              "    .dataframe tbody tr th:only-of-type {\n",
              "        vertical-align: middle;\n",
              "    }\n",
              "\n",
              "    .dataframe tbody tr th {\n",
              "        vertical-align: top;\n",
              "    }\n",
              "\n",
              "    .dataframe thead th {\n",
              "        text-align: right;\n",
              "    }\n",
              "</style>\n",
              "<table border=\"1\" class=\"dataframe\">\n",
              "  <thead>\n",
              "    <tr style=\"text-align: right;\">\n",
              "      <th></th>\n",
              "      <th>num강사명</th>\n",
              "      <th>수강료</th>\n",
              "      <th>num교육대상구분</th>\n",
              "      <th>fill_교육기간</th>\n",
              "    </tr>\n",
              "  </thead>\n",
              "  <tbody>\n",
              "    <tr>\n",
              "      <th>216</th>\n",
              "      <td>193</td>\n",
              "      <td>60000</td>\n",
              "      <td>36</td>\n",
              "      <td>63.0</td>\n",
              "    </tr>\n",
              "    <tr>\n",
              "      <th>193</th>\n",
              "      <td>177</td>\n",
              "      <td>61000</td>\n",
              "      <td>36</td>\n",
              "      <td>77.0</td>\n",
              "    </tr>\n",
              "    <tr>\n",
              "      <th>978</th>\n",
              "      <td>101</td>\n",
              "      <td>35000</td>\n",
              "      <td>14</td>\n",
              "      <td>42.0</td>\n",
              "    </tr>\n",
              "    <tr>\n",
              "      <th>2801</th>\n",
              "      <td>41</td>\n",
              "      <td>0</td>\n",
              "      <td>14</td>\n",
              "      <td>161.0</td>\n",
              "    </tr>\n",
              "    <tr>\n",
              "      <th>4672</th>\n",
              "      <td>145</td>\n",
              "      <td>0</td>\n",
              "      <td>14</td>\n",
              "      <td>0.0</td>\n",
              "    </tr>\n",
              "    <tr>\n",
              "      <th>6295</th>\n",
              "      <td>140</td>\n",
              "      <td>30000</td>\n",
              "      <td>33</td>\n",
              "      <td>0.0</td>\n",
              "    </tr>\n",
              "    <tr>\n",
              "      <th>4603</th>\n",
              "      <td>44</td>\n",
              "      <td>90000</td>\n",
              "      <td>19</td>\n",
              "      <td>0.0</td>\n",
              "    </tr>\n",
              "    <tr>\n",
              "      <th>4885</th>\n",
              "      <td>135</td>\n",
              "      <td>50000</td>\n",
              "      <td>33</td>\n",
              "      <td>0.0</td>\n",
              "    </tr>\n",
              "    <tr>\n",
              "      <th>5286</th>\n",
              "      <td>49</td>\n",
              "      <td>45000</td>\n",
              "      <td>33</td>\n",
              "      <td>0.0</td>\n",
              "    </tr>\n",
              "    <tr>\n",
              "      <th>3515</th>\n",
              "      <td>126</td>\n",
              "      <td>0</td>\n",
              "      <td>14</td>\n",
              "      <td>0.0</td>\n",
              "    </tr>\n",
              "  </tbody>\n",
              "</table>\n",
              "</div>"
            ],
            "text/plain": [
              "      num강사명    수강료  num교육대상구분  fill_교육기간\n",
              "216      193  60000         36       63.0\n",
              "193      177  61000         36       77.0\n",
              "978      101  35000         14       42.0\n",
              "2801      41      0         14      161.0\n",
              "4672     145      0         14        0.0\n",
              "6295     140  30000         33        0.0\n",
              "4603      44  90000         19        0.0\n",
              "4885     135  50000         33        0.0\n",
              "5286      49  45000         33        0.0\n",
              "3515     126      0         14        0.0"
            ]
          },
          "metadata": {
            "tags": []
          },
          "execution_count": 136
        }
      ]
    },
    {
      "cell_type": "code",
      "metadata": {
        "id": "DNw2ipQNi5Sj",
        "outputId": "12c37e0f-8e85-477b-a9f7-710de0476ca3",
        "colab": {
          "base_uri": "https://localhost:8080/"
        }
      },
      "source": [
        "model.fit(X_train,y_train) #model에 디시젼트리클래시파이어 들어있는상태임. ()안엔 X,y에 뭘 넣어 학습시킬지 넣는것임."
      ],
      "execution_count": 137,
      "outputs": [
        {
          "output_type": "execute_result",
          "data": {
            "text/plain": [
              "DecisionTreeClassifier(ccp_alpha=0.0, class_weight=None, criterion='gini',\n",
              "                       max_depth=5, max_features=None, max_leaf_nodes=None,\n",
              "                       min_impurity_decrease=0.0, min_impurity_split=None,\n",
              "                       min_samples_leaf=1, min_samples_split=2,\n",
              "                       min_weight_fraction_leaf=0.0, presort='deprecated',\n",
              "                       random_state=None, splitter='best')"
            ]
          },
          "metadata": {
            "tags": []
          },
          "execution_count": 137
        }
      ]
    },
    {
      "cell_type": "code",
      "metadata": {
        "id": "omNTJ06NtTIO"
      },
      "source": [
        "from sklearn.tree import export_graphviz\n",
        "import graphviz"
      ],
      "execution_count": 138,
      "outputs": []
    },
    {
      "cell_type": "code",
      "metadata": {
        "id": "E7JxPm-1tTKm"
      },
      "source": [
        "dot_tree=export_graphviz(model,feature_names=feature_names,out_file=None)"
      ],
      "execution_count": 140,
      "outputs": []
    },
    {
      "cell_type": "code",
      "metadata": {
        "id": "-ipdu-MUtd1o",
        "outputId": "16870614-3d86-40fa-f008-f5a6a14b635f",
        "colab": {
          "base_uri": "https://localhost:8080/",
          "height": 813
        }
      },
      "source": [
        "graphviz.Source(dot_tree)"
      ],
      "execution_count": 141,
      "outputs": [
        {
          "output_type": "execute_result",
          "data": {
            "text/plain": [
              "<graphviz.files.Source at 0x7f8381eb52e8>"
            ],
            "image/svg+xml": "<?xml version=\"1.0\" encoding=\"UTF-8\" standalone=\"no\"?>\n<!DOCTYPE svg PUBLIC \"-//W3C//DTD SVG 1.1//EN\"\n \"http://www.w3.org/Graphics/SVG/1.1/DTD/svg11.dtd\">\n<!-- Generated by graphviz version 2.40.1 (20161225.0304)\n -->\n<!-- Title: Tree Pages: 1 -->\n<svg width=\"2033pt\" height=\"581pt\"\n viewBox=\"0.00 0.00 2033.00 581.00\" xmlns=\"http://www.w3.org/2000/svg\" xmlns:xlink=\"http://www.w3.org/1999/xlink\">\n<g id=\"graph0\" class=\"graph\" transform=\"scale(1 1) rotate(0) translate(4 577)\">\n<title>Tree</title>\n<polygon fill=\"#ffffff\" stroke=\"transparent\" points=\"-4,4 -4,-577 2029,-577 2029,4 -4,4\"/>\n<!-- 0 -->\n<g id=\"node1\" class=\"node\">\n<title>0</title>\n<polygon fill=\"none\" stroke=\"#000000\" points=\"1704.5,-573 1456.5,-573 1456.5,-505 1704.5,-505 1704.5,-573\"/>\n<text text-anchor=\"middle\" x=\"1580.5\" y=\"-557.8\" font-family=\"Times,serif\" font-size=\"14.00\" fill=\"#000000\">num교육대상구분 &lt;= 35.5</text>\n<text text-anchor=\"middle\" x=\"1580.5\" y=\"-542.8\" font-family=\"Times,serif\" font-size=\"14.00\" fill=\"#000000\">gini = 0.77</text>\n<text text-anchor=\"middle\" x=\"1580.5\" y=\"-527.8\" font-family=\"Times,serif\" font-size=\"14.00\" fill=\"#000000\">samples = 240</text>\n<text text-anchor=\"middle\" x=\"1580.5\" y=\"-512.8\" font-family=\"Times,serif\" font-size=\"14.00\" fill=\"#000000\">value = [6, 20, 71, 4, 70, 50, 19]</text>\n</g>\n<!-- 1 -->\n<g id=\"node2\" class=\"node\">\n<title>1</title>\n<polygon fill=\"none\" stroke=\"#000000\" points=\"1460.5,-469 1212.5,-469 1212.5,-401 1460.5,-401 1460.5,-469\"/>\n<text text-anchor=\"middle\" x=\"1336.5\" y=\"-453.8\" font-family=\"Times,serif\" font-size=\"14.00\" fill=\"#000000\">num교육대상구분 &lt;= 7.5</text>\n<text text-anchor=\"middle\" x=\"1336.5\" y=\"-438.8\" font-family=\"Times,serif\" font-size=\"14.00\" fill=\"#000000\">gini = 0.76</text>\n<text text-anchor=\"middle\" x=\"1336.5\" y=\"-423.8\" font-family=\"Times,serif\" font-size=\"14.00\" fill=\"#000000\">samples = 228</text>\n<text text-anchor=\"middle\" x=\"1336.5\" y=\"-408.8\" font-family=\"Times,serif\" font-size=\"14.00\" fill=\"#000000\">value = [6, 20, 69, 4, 68, 50, 11]</text>\n</g>\n<!-- 0&#45;&gt;1 -->\n<g id=\"edge1\" class=\"edge\">\n<title>0&#45;&gt;1</title>\n<path fill=\"none\" stroke=\"#000000\" d=\"M1500.6053,-504.9465C1476.6965,-494.7559 1450.3286,-483.5171 1425.853,-473.0849\"/>\n<polygon fill=\"#000000\" stroke=\"#000000\" points=\"1427.1458,-469.8313 1416.5742,-469.13 1424.4011,-476.2708 1427.1458,-469.8313\"/>\n<text text-anchor=\"middle\" x=\"1425.9049\" y=\"-488.6235\" font-family=\"Times,serif\" font-size=\"14.00\" fill=\"#000000\">True</text>\n</g>\n<!-- 22 -->\n<g id=\"node23\" class=\"node\">\n<title>22</title>\n<polygon fill=\"none\" stroke=\"#000000\" points=\"1804,-469 1601,-469 1601,-401 1804,-401 1804,-469\"/>\n<text text-anchor=\"middle\" x=\"1702.5\" y=\"-453.8\" font-family=\"Times,serif\" font-size=\"14.00\" fill=\"#000000\">num강사명 &lt;= 173.5</text>\n<text text-anchor=\"middle\" x=\"1702.5\" y=\"-438.8\" font-family=\"Times,serif\" font-size=\"14.00\" fill=\"#000000\">gini = 0.5</text>\n<text text-anchor=\"middle\" x=\"1702.5\" y=\"-423.8\" font-family=\"Times,serif\" font-size=\"14.00\" fill=\"#000000\">samples = 12</text>\n<text text-anchor=\"middle\" x=\"1702.5\" y=\"-408.8\" font-family=\"Times,serif\" font-size=\"14.00\" fill=\"#000000\">value = [0, 0, 2, 0, 2, 0, 8]</text>\n</g>\n<!-- 0&#45;&gt;22 -->\n<g id=\"edge22\" class=\"edge\">\n<title>0&#45;&gt;22</title>\n<path fill=\"none\" stroke=\"#000000\" d=\"M1620.4474,-504.9465C1631.4012,-495.6088 1643.3873,-485.3911 1654.732,-475.7203\"/>\n<polygon fill=\"#000000\" stroke=\"#000000\" points=\"1657.1233,-478.2809 1662.4629,-469.13 1652.5821,-472.9538 1657.1233,-478.2809\"/>\n<text text-anchor=\"middle\" x=\"1660.478\" y=\"-490.3511\" font-family=\"Times,serif\" font-size=\"14.00\" fill=\"#000000\">False</text>\n</g>\n<!-- 2 -->\n<g id=\"node3\" class=\"node\">\n<title>2</title>\n<polygon fill=\"none\" stroke=\"#000000\" points=\"755.5,-365 543.5,-365 543.5,-297 755.5,-297 755.5,-365\"/>\n<text text-anchor=\"middle\" x=\"649.5\" y=\"-349.8\" font-family=\"Times,serif\" font-size=\"14.00\" fill=\"#000000\">num교육대상구분 &lt;= 1.5</text>\n<text text-anchor=\"middle\" x=\"649.5\" y=\"-334.8\" font-family=\"Times,serif\" font-size=\"14.00\" fill=\"#000000\">gini = 0.516</text>\n<text text-anchor=\"middle\" x=\"649.5\" y=\"-319.8\" font-family=\"Times,serif\" font-size=\"14.00\" fill=\"#000000\">samples = 15</text>\n<text text-anchor=\"middle\" x=\"649.5\" y=\"-304.8\" font-family=\"Times,serif\" font-size=\"14.00\" fill=\"#000000\">value = [0, 2, 1, 0, 2, 10, 0]</text>\n</g>\n<!-- 1&#45;&gt;2 -->\n<g id=\"edge2\" class=\"edge\">\n<title>1&#45;&gt;2</title>\n<path fill=\"none\" stroke=\"#000000\" d=\"M1212.4873,-416.2266C1085.4859,-397.0008 889.6055,-367.3478 765.5716,-348.5712\"/>\n<polygon fill=\"#000000\" stroke=\"#000000\" points=\"766.0667,-345.1064 755.6555,-347.0701 765.0189,-352.0275 766.0667,-345.1064\"/>\n</g>\n<!-- 11 -->\n<g id=\"node12\" class=\"node\">\n<title>11</title>\n<polygon fill=\"none\" stroke=\"#000000\" points=\"1460.5,-365 1212.5,-365 1212.5,-297 1460.5,-297 1460.5,-365\"/>\n<text text-anchor=\"middle\" x=\"1336.5\" y=\"-349.8\" font-family=\"Times,serif\" font-size=\"14.00\" fill=\"#000000\">수강료 &lt;= 24500.0</text>\n<text text-anchor=\"middle\" x=\"1336.5\" y=\"-334.8\" font-family=\"Times,serif\" font-size=\"14.00\" fill=\"#000000\">gini = 0.756</text>\n<text text-anchor=\"middle\" x=\"1336.5\" y=\"-319.8\" font-family=\"Times,serif\" font-size=\"14.00\" fill=\"#000000\">samples = 213</text>\n<text text-anchor=\"middle\" x=\"1336.5\" y=\"-304.8\" font-family=\"Times,serif\" font-size=\"14.00\" fill=\"#000000\">value = [6, 18, 68, 4, 66, 40, 11]</text>\n</g>\n<!-- 1&#45;&gt;11 -->\n<g id=\"edge11\" class=\"edge\">\n<title>1&#45;&gt;11</title>\n<path fill=\"none\" stroke=\"#000000\" d=\"M1336.5,-400.9465C1336.5,-392.776 1336.5,-383.9318 1336.5,-375.3697\"/>\n<polygon fill=\"#000000\" stroke=\"#000000\" points=\"1340.0001,-375.13 1336.5,-365.13 1333.0001,-375.13 1340.0001,-375.13\"/>\n</g>\n<!-- 3 -->\n<g id=\"node4\" class=\"node\">\n<title>3</title>\n<polygon fill=\"none\" stroke=\"#000000\" points=\"526,-253.5 323,-253.5 323,-200.5 526,-200.5 526,-253.5\"/>\n<text text-anchor=\"middle\" x=\"424.5\" y=\"-238.3\" font-family=\"Times,serif\" font-size=\"14.00\" fill=\"#000000\">gini = 0.0</text>\n<text text-anchor=\"middle\" x=\"424.5\" y=\"-223.3\" font-family=\"Times,serif\" font-size=\"14.00\" fill=\"#000000\">samples = 2</text>\n<text text-anchor=\"middle\" x=\"424.5\" y=\"-208.3\" font-family=\"Times,serif\" font-size=\"14.00\" fill=\"#000000\">value = [0, 0, 0, 0, 2, 0, 0]</text>\n</g>\n<!-- 2&#45;&gt;3 -->\n<g id=\"edge3\" class=\"edge\">\n<title>2&#45;&gt;3</title>\n<path fill=\"none\" stroke=\"#000000\" d=\"M575.8266,-296.9465C548.5409,-284.3344 517.7819,-270.117 491.156,-257.8099\"/>\n<polygon fill=\"#000000\" stroke=\"#000000\" points=\"492.4687,-254.5609 481.923,-253.5422 489.5317,-260.915 492.4687,-254.5609\"/>\n</g>\n<!-- 4 -->\n<g id=\"node5\" class=\"node\">\n<title>4</title>\n<polygon fill=\"none\" stroke=\"#000000\" points=\"755.5,-261 543.5,-261 543.5,-193 755.5,-193 755.5,-261\"/>\n<text text-anchor=\"middle\" x=\"649.5\" y=\"-245.8\" font-family=\"Times,serif\" font-size=\"14.00\" fill=\"#000000\">num강사명 &lt;= 63.5</text>\n<text text-anchor=\"middle\" x=\"649.5\" y=\"-230.8\" font-family=\"Times,serif\" font-size=\"14.00\" fill=\"#000000\">gini = 0.379</text>\n<text text-anchor=\"middle\" x=\"649.5\" y=\"-215.8\" font-family=\"Times,serif\" font-size=\"14.00\" fill=\"#000000\">samples = 13</text>\n<text text-anchor=\"middle\" x=\"649.5\" y=\"-200.8\" font-family=\"Times,serif\" font-size=\"14.00\" fill=\"#000000\">value = [0, 2, 1, 0, 0, 10, 0]</text>\n</g>\n<!-- 2&#45;&gt;4 -->\n<g id=\"edge4\" class=\"edge\">\n<title>2&#45;&gt;4</title>\n<path fill=\"none\" stroke=\"#000000\" d=\"M649.5,-296.9465C649.5,-288.776 649.5,-279.9318 649.5,-271.3697\"/>\n<polygon fill=\"#000000\" stroke=\"#000000\" points=\"653.0001,-271.13 649.5,-261.13 646.0001,-271.13 653.0001,-271.13\"/>\n</g>\n<!-- 5 -->\n<g id=\"node6\" class=\"node\">\n<title>5</title>\n<polygon fill=\"none\" stroke=\"#000000\" points=\"424,-157 221,-157 221,-89 424,-89 424,-157\"/>\n<text text-anchor=\"middle\" x=\"322.5\" y=\"-141.8\" font-family=\"Times,serif\" font-size=\"14.00\" fill=\"#000000\">num강사명 &lt;= 28.5</text>\n<text text-anchor=\"middle\" x=\"322.5\" y=\"-126.8\" font-family=\"Times,serif\" font-size=\"14.00\" fill=\"#000000\">gini = 0.667</text>\n<text text-anchor=\"middle\" x=\"322.5\" y=\"-111.8\" font-family=\"Times,serif\" font-size=\"14.00\" fill=\"#000000\">samples = 3</text>\n<text text-anchor=\"middle\" x=\"322.5\" y=\"-96.8\" font-family=\"Times,serif\" font-size=\"14.00\" fill=\"#000000\">value = [0, 1, 1, 0, 0, 1, 0]</text>\n</g>\n<!-- 4&#45;&gt;5 -->\n<g id=\"edge5\" class=\"edge\">\n<title>4&#45;&gt;5</title>\n<path fill=\"none\" stroke=\"#000000\" d=\"M543.3325,-193.2342C508.3878,-182.1203 469.4425,-169.734 434.1054,-158.4953\"/>\n<polygon fill=\"#000000\" stroke=\"#000000\" points=\"434.8309,-155.0534 424.2405,-155.3578 432.7093,-161.7241 434.8309,-155.0534\"/>\n</g>\n<!-- 8 -->\n<g id=\"node9\" class=\"node\">\n<title>8</title>\n<polygon fill=\"none\" stroke=\"#000000\" points=\"751,-157 548,-157 548,-89 751,-89 751,-157\"/>\n<text text-anchor=\"middle\" x=\"649.5\" y=\"-141.8\" font-family=\"Times,serif\" font-size=\"14.00\" fill=\"#000000\">수강료 &lt;= 55000.0</text>\n<text text-anchor=\"middle\" x=\"649.5\" y=\"-126.8\" font-family=\"Times,serif\" font-size=\"14.00\" fill=\"#000000\">gini = 0.18</text>\n<text text-anchor=\"middle\" x=\"649.5\" y=\"-111.8\" font-family=\"Times,serif\" font-size=\"14.00\" fill=\"#000000\">samples = 10</text>\n<text text-anchor=\"middle\" x=\"649.5\" y=\"-96.8\" font-family=\"Times,serif\" font-size=\"14.00\" fill=\"#000000\">value = [0, 1, 0, 0, 0, 9, 0]</text>\n</g>\n<!-- 4&#45;&gt;8 -->\n<g id=\"edge8\" class=\"edge\">\n<title>4&#45;&gt;8</title>\n<path fill=\"none\" stroke=\"#000000\" d=\"M649.5,-192.9465C649.5,-184.776 649.5,-175.9318 649.5,-167.3697\"/>\n<polygon fill=\"#000000\" stroke=\"#000000\" points=\"653.0001,-167.13 649.5,-157.13 646.0001,-167.13 653.0001,-167.13\"/>\n</g>\n<!-- 6 -->\n<g id=\"node7\" class=\"node\">\n<title>6</title>\n<polygon fill=\"none\" stroke=\"#000000\" points=\"203,-53 0,-53 0,0 203,0 203,-53\"/>\n<text text-anchor=\"middle\" x=\"101.5\" y=\"-37.8\" font-family=\"Times,serif\" font-size=\"14.00\" fill=\"#000000\">gini = 0.0</text>\n<text text-anchor=\"middle\" x=\"101.5\" y=\"-22.8\" font-family=\"Times,serif\" font-size=\"14.00\" fill=\"#000000\">samples = 1</text>\n<text text-anchor=\"middle\" x=\"101.5\" y=\"-7.8\" font-family=\"Times,serif\" font-size=\"14.00\" fill=\"#000000\">value = [0, 0, 0, 0, 0, 1, 0]</text>\n</g>\n<!-- 5&#45;&gt;6 -->\n<g id=\"edge6\" class=\"edge\">\n<title>5&#45;&gt;6</title>\n<path fill=\"none\" stroke=\"#000000\" d=\"M244.5837,-88.9777C220.8822,-78.6284 194.9843,-67.32 171.8151,-57.2032\"/>\n<polygon fill=\"#000000\" stroke=\"#000000\" points=\"172.9718,-53.8892 162.4067,-53.095 170.1706,-60.3043 172.9718,-53.8892\"/>\n</g>\n<!-- 7 -->\n<g id=\"node8\" class=\"node\">\n<title>7</title>\n<polygon fill=\"none\" stroke=\"#000000\" points=\"424,-53 221,-53 221,0 424,0 424,-53\"/>\n<text text-anchor=\"middle\" x=\"322.5\" y=\"-37.8\" font-family=\"Times,serif\" font-size=\"14.00\" fill=\"#000000\">gini = 0.5</text>\n<text text-anchor=\"middle\" x=\"322.5\" y=\"-22.8\" font-family=\"Times,serif\" font-size=\"14.00\" fill=\"#000000\">samples = 2</text>\n<text text-anchor=\"middle\" x=\"322.5\" y=\"-7.8\" font-family=\"Times,serif\" font-size=\"14.00\" fill=\"#000000\">value = [0, 1, 1, 0, 0, 0, 0]</text>\n</g>\n<!-- 5&#45;&gt;7 -->\n<g id=\"edge7\" class=\"edge\">\n<title>5&#45;&gt;7</title>\n<path fill=\"none\" stroke=\"#000000\" d=\"M322.5,-88.9777C322.5,-80.7364 322.5,-71.887 322.5,-63.5153\"/>\n<polygon fill=\"#000000\" stroke=\"#000000\" points=\"326.0001,-63.2484 322.5,-53.2485 319.0001,-63.2485 326.0001,-63.2484\"/>\n</g>\n<!-- 9 -->\n<g id=\"node10\" class=\"node\">\n<title>9</title>\n<polygon fill=\"none\" stroke=\"#000000\" points=\"645,-53 442,-53 442,0 645,0 645,-53\"/>\n<text text-anchor=\"middle\" x=\"543.5\" y=\"-37.8\" font-family=\"Times,serif\" font-size=\"14.00\" fill=\"#000000\">gini = 0.0</text>\n<text text-anchor=\"middle\" x=\"543.5\" y=\"-22.8\" font-family=\"Times,serif\" font-size=\"14.00\" fill=\"#000000\">samples = 8</text>\n<text text-anchor=\"middle\" x=\"543.5\" y=\"-7.8\" font-family=\"Times,serif\" font-size=\"14.00\" fill=\"#000000\">value = [0, 0, 0, 0, 0, 8, 0]</text>\n</g>\n<!-- 8&#45;&gt;9 -->\n<g id=\"edge9\" class=\"edge\">\n<title>8&#45;&gt;9</title>\n<path fill=\"none\" stroke=\"#000000\" d=\"M612.1284,-88.9777C601.8688,-79.6376 590.7511,-69.5163 580.5118,-60.1947\"/>\n<polygon fill=\"#000000\" stroke=\"#000000\" points=\"582.6326,-57.3923 572.8817,-53.2485 577.9202,-62.5686 582.6326,-57.3923\"/>\n</g>\n<!-- 10 -->\n<g id=\"node11\" class=\"node\">\n<title>10</title>\n<polygon fill=\"none\" stroke=\"#000000\" points=\"866,-53 663,-53 663,0 866,0 866,-53\"/>\n<text text-anchor=\"middle\" x=\"764.5\" y=\"-37.8\" font-family=\"Times,serif\" font-size=\"14.00\" fill=\"#000000\">gini = 0.5</text>\n<text text-anchor=\"middle\" x=\"764.5\" y=\"-22.8\" font-family=\"Times,serif\" font-size=\"14.00\" fill=\"#000000\">samples = 2</text>\n<text text-anchor=\"middle\" x=\"764.5\" y=\"-7.8\" font-family=\"Times,serif\" font-size=\"14.00\" fill=\"#000000\">value = [0, 1, 0, 0, 0, 1, 0]</text>\n</g>\n<!-- 8&#45;&gt;10 -->\n<g id=\"edge10\" class=\"edge\">\n<title>8&#45;&gt;10</title>\n<path fill=\"none\" stroke=\"#000000\" d=\"M690.0447,-88.9777C701.2845,-79.546 713.4736,-69.3178 724.6721,-59.9208\"/>\n<polygon fill=\"#000000\" stroke=\"#000000\" points=\"727.213,-62.3576 732.6236,-53.2485 722.7134,-56.9954 727.213,-62.3576\"/>\n</g>\n<!-- 12 -->\n<g id=\"node13\" class=\"node\">\n<title>12</title>\n<polygon fill=\"none\" stroke=\"#000000\" points=\"1334,-261 1095,-261 1095,-193 1334,-193 1334,-261\"/>\n<text text-anchor=\"middle\" x=\"1214.5\" y=\"-245.8\" font-family=\"Times,serif\" font-size=\"14.00\" fill=\"#000000\">수강료 &lt;= 23250.0</text>\n<text text-anchor=\"middle\" x=\"1214.5\" y=\"-230.8\" font-family=\"Times,serif\" font-size=\"14.00\" fill=\"#000000\">gini = 0.8</text>\n<text text-anchor=\"middle\" x=\"1214.5\" y=\"-215.8\" font-family=\"Times,serif\" font-size=\"14.00\" fill=\"#000000\">samples = 89</text>\n<text text-anchor=\"middle\" x=\"1214.5\" y=\"-200.8\" font-family=\"Times,serif\" font-size=\"14.00\" fill=\"#000000\">value = [6, 13, 25, 3, 24, 7, 11]</text>\n</g>\n<!-- 11&#45;&gt;12 -->\n<g id=\"edge12\" class=\"edge\">\n<title>11&#45;&gt;12</title>\n<path fill=\"none\" stroke=\"#000000\" d=\"M1296.5526,-296.9465C1285.5988,-287.6088 1273.6127,-277.3911 1262.268,-267.7203\"/>\n<polygon fill=\"#000000\" stroke=\"#000000\" points=\"1264.4179,-264.9538 1254.5371,-261.13 1259.8767,-270.2809 1264.4179,-264.9538\"/>\n</g>\n<!-- 17 -->\n<g id=\"node18\" class=\"node\">\n<title>17</title>\n<polygon fill=\"none\" stroke=\"#000000\" points=\"1582.5,-261 1352.5,-261 1352.5,-193 1582.5,-193 1582.5,-261\"/>\n<text text-anchor=\"middle\" x=\"1467.5\" y=\"-245.8\" font-family=\"Times,serif\" font-size=\"14.00\" fill=\"#000000\">fill_교육기간 &lt;= 166.0</text>\n<text text-anchor=\"middle\" x=\"1467.5\" y=\"-230.8\" font-family=\"Times,serif\" font-size=\"14.00\" fill=\"#000000\">gini = 0.693</text>\n<text text-anchor=\"middle\" x=\"1467.5\" y=\"-215.8\" font-family=\"Times,serif\" font-size=\"14.00\" fill=\"#000000\">samples = 124</text>\n<text text-anchor=\"middle\" x=\"1467.5\" y=\"-200.8\" font-family=\"Times,serif\" font-size=\"14.00\" fill=\"#000000\">value = [0, 5, 43, 1, 42, 33, 0]</text>\n</g>\n<!-- 11&#45;&gt;17 -->\n<g id=\"edge17\" class=\"edge\">\n<title>11&#45;&gt;17</title>\n<path fill=\"none\" stroke=\"#000000\" d=\"M1379.3943,-296.9465C1391.2693,-287.519 1404.2741,-277.1946 1416.5593,-267.4415\"/>\n<polygon fill=\"#000000\" stroke=\"#000000\" points=\"1418.8536,-270.089 1424.5093,-261.13 1414.5011,-264.6066 1418.8536,-270.089\"/>\n</g>\n<!-- 13 -->\n<g id=\"node14\" class=\"node\">\n<title>13</title>\n<polygon fill=\"none\" stroke=\"#000000\" points=\"1108.5,-157 878.5,-157 878.5,-89 1108.5,-89 1108.5,-157\"/>\n<text text-anchor=\"middle\" x=\"993.5\" y=\"-141.8\" font-family=\"Times,serif\" font-size=\"14.00\" fill=\"#000000\">fill_교육기간 &lt;= 0.5</text>\n<text text-anchor=\"middle\" x=\"993.5\" y=\"-126.8\" font-family=\"Times,serif\" font-size=\"14.00\" fill=\"#000000\">gini = 0.791</text>\n<text text-anchor=\"middle\" x=\"993.5\" y=\"-111.8\" font-family=\"Times,serif\" font-size=\"14.00\" fill=\"#000000\">samples = 85</text>\n<text text-anchor=\"middle\" x=\"993.5\" y=\"-96.8\" font-family=\"Times,serif\" font-size=\"14.00\" fill=\"#000000\">value = [6, 13, 25, 3, 24, 7, 7]</text>\n</g>\n<!-- 12&#45;&gt;13 -->\n<g id=\"edge13\" class=\"edge\">\n<title>12&#45;&gt;13</title>\n<path fill=\"none\" stroke=\"#000000\" d=\"M1142.1363,-192.9465C1120.7674,-182.8906 1097.2297,-171.814 1075.3102,-161.4989\"/>\n<polygon fill=\"#000000\" stroke=\"#000000\" points=\"1076.5647,-158.2212 1066.0262,-157.13 1073.5841,-164.5549 1076.5647,-158.2212\"/>\n</g>\n<!-- 16 -->\n<g id=\"node17\" class=\"node\">\n<title>16</title>\n<polygon fill=\"none\" stroke=\"#000000\" points=\"1330,-149.5 1127,-149.5 1127,-96.5 1330,-96.5 1330,-149.5\"/>\n<text text-anchor=\"middle\" x=\"1228.5\" y=\"-134.3\" font-family=\"Times,serif\" font-size=\"14.00\" fill=\"#000000\">gini = 0.0</text>\n<text text-anchor=\"middle\" x=\"1228.5\" y=\"-119.3\" font-family=\"Times,serif\" font-size=\"14.00\" fill=\"#000000\">samples = 4</text>\n<text text-anchor=\"middle\" x=\"1228.5\" y=\"-104.3\" font-family=\"Times,serif\" font-size=\"14.00\" fill=\"#000000\">value = [0, 0, 0, 0, 0, 0, 4]</text>\n</g>\n<!-- 12&#45;&gt;16 -->\n<g id=\"edge16\" class=\"edge\">\n<title>12&#45;&gt;16</title>\n<path fill=\"none\" stroke=\"#000000\" d=\"M1219.0841,-192.9465C1220.5224,-182.2621 1222.1158,-170.4254 1223.5765,-159.5742\"/>\n<polygon fill=\"#000000\" stroke=\"#000000\" points=\"1227.0615,-159.9197 1224.927,-149.5422 1220.1241,-158.9858 1227.0615,-159.9197\"/>\n</g>\n<!-- 14 -->\n<g id=\"node15\" class=\"node\">\n<title>14</title>\n<polygon fill=\"none\" stroke=\"#000000\" points=\"1095.5,-53 883.5,-53 883.5,0 1095.5,0 1095.5,-53\"/>\n<text text-anchor=\"middle\" x=\"989.5\" y=\"-37.8\" font-family=\"Times,serif\" font-size=\"14.00\" fill=\"#000000\">gini = 0.656</text>\n<text text-anchor=\"middle\" x=\"989.5\" y=\"-22.8\" font-family=\"Times,serif\" font-size=\"14.00\" fill=\"#000000\">samples = 32</text>\n<text text-anchor=\"middle\" x=\"989.5\" y=\"-7.8\" font-family=\"Times,serif\" font-size=\"14.00\" fill=\"#000000\">value = [1, 3, 16, 2, 9, 1, 0]</text>\n</g>\n<!-- 13&#45;&gt;14 -->\n<g id=\"edge14\" class=\"edge\">\n<title>13&#45;&gt;14</title>\n<path fill=\"none\" stroke=\"#000000\" d=\"M992.0897,-88.9777C991.7481,-80.7364 991.3813,-71.887 991.0343,-63.5153\"/>\n<polygon fill=\"#000000\" stroke=\"#000000\" points=\"994.52,-63.0949 990.6087,-53.2485 987.526,-63.3849 994.52,-63.0949\"/>\n</g>\n<!-- 15 -->\n<g id=\"node16\" class=\"node\">\n<title>15</title>\n<polygon fill=\"none\" stroke=\"#000000\" points=\"1334,-53 1113,-53 1113,0 1334,0 1334,-53\"/>\n<text text-anchor=\"middle\" x=\"1223.5\" y=\"-37.8\" font-family=\"Times,serif\" font-size=\"14.00\" fill=\"#000000\">gini = 0.816</text>\n<text text-anchor=\"middle\" x=\"1223.5\" y=\"-22.8\" font-family=\"Times,serif\" font-size=\"14.00\" fill=\"#000000\">samples = 53</text>\n<text text-anchor=\"middle\" x=\"1223.5\" y=\"-7.8\" font-family=\"Times,serif\" font-size=\"14.00\" fill=\"#000000\">value = [5, 10, 9, 1, 15, 6, 7]</text>\n</g>\n<!-- 13&#45;&gt;15 -->\n<g id=\"edge15\" class=\"edge\">\n<title>13&#45;&gt;15</title>\n<path fill=\"none\" stroke=\"#000000\" d=\"M1074.5894,-88.9777C1099.3657,-78.5824 1126.4483,-67.2195 1150.6428,-57.0684\"/>\n<polygon fill=\"#000000\" stroke=\"#000000\" points=\"1152.2458,-60.1914 1160.1129,-53.095 1149.5375,-53.7366 1152.2458,-60.1914\"/>\n</g>\n<!-- 18 -->\n<g id=\"node19\" class=\"node\">\n<title>18</title>\n<polygon fill=\"none\" stroke=\"#000000\" points=\"1582.5,-157 1352.5,-157 1352.5,-89 1582.5,-89 1582.5,-157\"/>\n<text text-anchor=\"middle\" x=\"1467.5\" y=\"-141.8\" font-family=\"Times,serif\" font-size=\"14.00\" fill=\"#000000\">fill_교육기간 &lt;= 137.5</text>\n<text text-anchor=\"middle\" x=\"1467.5\" y=\"-126.8\" font-family=\"Times,serif\" font-size=\"14.00\" fill=\"#000000\">gini = 0.691</text>\n<text text-anchor=\"middle\" x=\"1467.5\" y=\"-111.8\" font-family=\"Times,serif\" font-size=\"14.00\" fill=\"#000000\">samples = 122</text>\n<text text-anchor=\"middle\" x=\"1467.5\" y=\"-96.8\" font-family=\"Times,serif\" font-size=\"14.00\" fill=\"#000000\">value = [0, 5, 43, 1, 42, 31, 0]</text>\n</g>\n<!-- 17&#45;&gt;18 -->\n<g id=\"edge18\" class=\"edge\">\n<title>17&#45;&gt;18</title>\n<path fill=\"none\" stroke=\"#000000\" d=\"M1467.5,-192.9465C1467.5,-184.776 1467.5,-175.9318 1467.5,-167.3697\"/>\n<polygon fill=\"#000000\" stroke=\"#000000\" points=\"1471.0001,-167.13 1467.5,-157.13 1464.0001,-167.13 1471.0001,-167.13\"/>\n</g>\n<!-- 21 -->\n<g id=\"node22\" class=\"node\">\n<title>21</title>\n<polygon fill=\"none\" stroke=\"#000000\" points=\"1804,-149.5 1601,-149.5 1601,-96.5 1804,-96.5 1804,-149.5\"/>\n<text text-anchor=\"middle\" x=\"1702.5\" y=\"-134.3\" font-family=\"Times,serif\" font-size=\"14.00\" fill=\"#000000\">gini = 0.0</text>\n<text text-anchor=\"middle\" x=\"1702.5\" y=\"-119.3\" font-family=\"Times,serif\" font-size=\"14.00\" fill=\"#000000\">samples = 2</text>\n<text text-anchor=\"middle\" x=\"1702.5\" y=\"-104.3\" font-family=\"Times,serif\" font-size=\"14.00\" fill=\"#000000\">value = [0, 0, 0, 0, 0, 2, 0]</text>\n</g>\n<!-- 17&#45;&gt;21 -->\n<g id=\"edge21\" class=\"edge\">\n<title>17&#45;&gt;21</title>\n<path fill=\"none\" stroke=\"#000000\" d=\"M1544.4478,-192.9465C1573.0707,-180.2794 1605.3529,-165.9928 1633.2456,-153.6488\"/>\n<polygon fill=\"#000000\" stroke=\"#000000\" points=\"1634.7968,-156.7897 1642.5249,-149.5422 1631.9639,-150.3886 1634.7968,-156.7897\"/>\n</g>\n<!-- 19 -->\n<g id=\"node20\" class=\"node\">\n<title>19</title>\n<polygon fill=\"none\" stroke=\"#000000\" points=\"1582.5,-53 1352.5,-53 1352.5,0 1582.5,0 1582.5,-53\"/>\n<text text-anchor=\"middle\" x=\"1467.5\" y=\"-37.8\" font-family=\"Times,serif\" font-size=\"14.00\" fill=\"#000000\">gini = 0.693</text>\n<text text-anchor=\"middle\" x=\"1467.5\" y=\"-22.8\" font-family=\"Times,serif\" font-size=\"14.00\" fill=\"#000000\">samples = 119</text>\n<text text-anchor=\"middle\" x=\"1467.5\" y=\"-7.8\" font-family=\"Times,serif\" font-size=\"14.00\" fill=\"#000000\">value = [0, 5, 40, 1, 42, 31, 0]</text>\n</g>\n<!-- 18&#45;&gt;19 -->\n<g id=\"edge19\" class=\"edge\">\n<title>18&#45;&gt;19</title>\n<path fill=\"none\" stroke=\"#000000\" d=\"M1467.5,-88.9777C1467.5,-80.7364 1467.5,-71.887 1467.5,-63.5153\"/>\n<polygon fill=\"#000000\" stroke=\"#000000\" points=\"1471.0001,-63.2484 1467.5,-53.2485 1464.0001,-63.2485 1471.0001,-63.2484\"/>\n</g>\n<!-- 20 -->\n<g id=\"node21\" class=\"node\">\n<title>20</title>\n<polygon fill=\"none\" stroke=\"#000000\" points=\"1804,-53 1601,-53 1601,0 1804,0 1804,-53\"/>\n<text text-anchor=\"middle\" x=\"1702.5\" y=\"-37.8\" font-family=\"Times,serif\" font-size=\"14.00\" fill=\"#000000\">gini = 0.0</text>\n<text text-anchor=\"middle\" x=\"1702.5\" y=\"-22.8\" font-family=\"Times,serif\" font-size=\"14.00\" fill=\"#000000\">samples = 3</text>\n<text text-anchor=\"middle\" x=\"1702.5\" y=\"-7.8\" font-family=\"Times,serif\" font-size=\"14.00\" fill=\"#000000\">value = [0, 0, 3, 0, 0, 0, 0]</text>\n</g>\n<!-- 18&#45;&gt;20 -->\n<g id=\"edge20\" class=\"edge\">\n<title>18&#45;&gt;20</title>\n<path fill=\"none\" stroke=\"#000000\" d=\"M1550.3522,-88.9777C1575.7792,-78.5364 1603.5834,-67.1189 1628.3869,-56.9337\"/>\n<polygon fill=\"#000000\" stroke=\"#000000\" points=\"1629.814,-60.1313 1637.7349,-53.095 1627.1549,-53.656 1629.814,-60.1313\"/>\n</g>\n<!-- 23 -->\n<g id=\"node24\" class=\"node\">\n<title>23</title>\n<polygon fill=\"none\" stroke=\"#000000\" points=\"1804,-365 1601,-365 1601,-297 1804,-297 1804,-365\"/>\n<text text-anchor=\"middle\" x=\"1702.5\" y=\"-349.8\" font-family=\"Times,serif\" font-size=\"14.00\" fill=\"#000000\">fill_교육기간 &lt;= 25.5</text>\n<text text-anchor=\"middle\" x=\"1702.5\" y=\"-334.8\" font-family=\"Times,serif\" font-size=\"14.00\" fill=\"#000000\">gini = 0.5</text>\n<text text-anchor=\"middle\" x=\"1702.5\" y=\"-319.8\" font-family=\"Times,serif\" font-size=\"14.00\" fill=\"#000000\">samples = 4</text>\n<text text-anchor=\"middle\" x=\"1702.5\" y=\"-304.8\" font-family=\"Times,serif\" font-size=\"14.00\" fill=\"#000000\">value = [0, 0, 2, 0, 2, 0, 0]</text>\n</g>\n<!-- 22&#45;&gt;23 -->\n<g id=\"edge23\" class=\"edge\">\n<title>22&#45;&gt;23</title>\n<path fill=\"none\" stroke=\"#000000\" d=\"M1702.5,-400.9465C1702.5,-392.776 1702.5,-383.9318 1702.5,-375.3697\"/>\n<polygon fill=\"#000000\" stroke=\"#000000\" points=\"1706.0001,-375.13 1702.5,-365.13 1699.0001,-375.13 1706.0001,-375.13\"/>\n</g>\n<!-- 26 -->\n<g id=\"node27\" class=\"node\">\n<title>26</title>\n<polygon fill=\"none\" stroke=\"#000000\" points=\"2025,-357.5 1822,-357.5 1822,-304.5 2025,-304.5 2025,-357.5\"/>\n<text text-anchor=\"middle\" x=\"1923.5\" y=\"-342.3\" font-family=\"Times,serif\" font-size=\"14.00\" fill=\"#000000\">gini = 0.0</text>\n<text text-anchor=\"middle\" x=\"1923.5\" y=\"-327.3\" font-family=\"Times,serif\" font-size=\"14.00\" fill=\"#000000\">samples = 8</text>\n<text text-anchor=\"middle\" x=\"1923.5\" y=\"-312.3\" font-family=\"Times,serif\" font-size=\"14.00\" fill=\"#000000\">value = [0, 0, 0, 0, 0, 0, 8]</text>\n</g>\n<!-- 22&#45;&gt;26 -->\n<g id=\"edge26\" class=\"edge\">\n<title>22&#45;&gt;26</title>\n<path fill=\"none\" stroke=\"#000000\" d=\"M1774.8637,-400.9465C1801.6643,-388.3344 1831.8764,-374.117 1858.029,-361.8099\"/>\n<polygon fill=\"#000000\" stroke=\"#000000\" points=\"1859.54,-364.9671 1867.0979,-357.5422 1856.5594,-358.6333 1859.54,-364.9671\"/>\n</g>\n<!-- 24 -->\n<g id=\"node25\" class=\"node\">\n<title>24</title>\n<polygon fill=\"none\" stroke=\"#000000\" points=\"1804,-253.5 1601,-253.5 1601,-200.5 1804,-200.5 1804,-253.5\"/>\n<text text-anchor=\"middle\" x=\"1702.5\" y=\"-238.3\" font-family=\"Times,serif\" font-size=\"14.00\" fill=\"#000000\">gini = 0.0</text>\n<text text-anchor=\"middle\" x=\"1702.5\" y=\"-223.3\" font-family=\"Times,serif\" font-size=\"14.00\" fill=\"#000000\">samples = 2</text>\n<text text-anchor=\"middle\" x=\"1702.5\" y=\"-208.3\" font-family=\"Times,serif\" font-size=\"14.00\" fill=\"#000000\">value = [0, 0, 2, 0, 0, 0, 0]</text>\n</g>\n<!-- 23&#45;&gt;24 -->\n<g id=\"edge24\" class=\"edge\">\n<title>23&#45;&gt;24</title>\n<path fill=\"none\" stroke=\"#000000\" d=\"M1702.5,-296.9465C1702.5,-286.2621 1702.5,-274.4254 1702.5,-263.5742\"/>\n<polygon fill=\"#000000\" stroke=\"#000000\" points=\"1706.0001,-263.5421 1702.5,-253.5422 1699.0001,-263.5422 1706.0001,-263.5421\"/>\n</g>\n<!-- 25 -->\n<g id=\"node26\" class=\"node\">\n<title>25</title>\n<polygon fill=\"none\" stroke=\"#000000\" points=\"2025,-253.5 1822,-253.5 1822,-200.5 2025,-200.5 2025,-253.5\"/>\n<text text-anchor=\"middle\" x=\"1923.5\" y=\"-238.3\" font-family=\"Times,serif\" font-size=\"14.00\" fill=\"#000000\">gini = 0.0</text>\n<text text-anchor=\"middle\" x=\"1923.5\" y=\"-223.3\" font-family=\"Times,serif\" font-size=\"14.00\" fill=\"#000000\">samples = 2</text>\n<text text-anchor=\"middle\" x=\"1923.5\" y=\"-208.3\" font-family=\"Times,serif\" font-size=\"14.00\" fill=\"#000000\">value = [0, 0, 0, 0, 2, 0, 0]</text>\n</g>\n<!-- 23&#45;&gt;25 -->\n<g id=\"edge25\" class=\"edge\">\n<title>23&#45;&gt;25</title>\n<path fill=\"none\" stroke=\"#000000\" d=\"M1774.8637,-296.9465C1801.6643,-284.3344 1831.8764,-270.117 1858.029,-257.8099\"/>\n<polygon fill=\"#000000\" stroke=\"#000000\" points=\"1859.54,-260.9671 1867.0979,-253.5422 1856.5594,-254.6333 1859.54,-260.9671\"/>\n</g>\n</g>\n</svg>\n"
          },
          "metadata": {
            "tags": []
          },
          "execution_count": 141
        }
      ]
    },
    {
      "cell_type": "code",
      "metadata": {
        "id": "uxvricl_tkxG",
        "outputId": "56ba67ae-71b9-4a12-c024-4e7484e686f4",
        "colab": {
          "base_uri": "https://localhost:8080/"
        }
      },
      "source": [
        "model.predict(X_train), y_train"
      ],
      "execution_count": 144,
      "outputs": [
        {
          "output_type": "execute_result",
          "data": {
            "text/plain": [
              "(array(['학력보완', '학력보완', '인문교양', '인문교양', '문화예술', '인문교양', '인문교양', '인문교양',\n",
              "        '인문교양', '문화예술', '인문교양', '인문교양', '기타', '인문교양', '인문교양', '인문교양',\n",
              "        '학력보완', '인문교양', '인문교양', '인문교양', '인문교양', '인문교양', '인문교양', '인문교양',\n",
              "        '인문교양', '인문교양', '인문교양', '인문교양', '인문교양', '인문교양', '인문교양', '문화예술',\n",
              "        '인문교양', '인문교양', '인문교양', '인문교양', '문화예술', '인문교양', '인문교양', '학력보완',\n",
              "        '인문교양', '인문교양', '기타', '직업교육', '직업교육', '인문교양', '인문교양', '인문교양',\n",
              "        '인문교양', '인문교양', '인문교양', '인문교양', '인문교양', '인문교양', '인문교양', '문화예술',\n",
              "        '인문교양', '인문교양', '인문교양', '인문교양', '문화예술', '인문교양', '인문교양', '인문교양',\n",
              "        '인문교양', '인문교양', '인문교양', '인문교양', '직업교육', '인문교양', '인문교양', '인문교양',\n",
              "        '문화예술', '인문교양', '문화예술', '문화예술', '인문교양', '문화예술', '문화예술', '인문교양',\n",
              "        '인문교양', '인문교양', '문화예술', '인문교양', '인문교양', '인문교양', '인문교양', '인문교양',\n",
              "        '인문교양', '인문교양', '인문교양', '문화예술', '인문교양', '인문교양', '인문교양', '인문교양',\n",
              "        '인문교양', '인문교양', '인문교양', '직업교육', '인문교양', '문화예술', '문화예술', '문화예술',\n",
              "        '인문교양', '인문교양', '인문교양', '학력보완', '문화예술', '인문교양', '인문교양', '인문교양',\n",
              "        '직업교육', '인문교양', '인문교양', '인문교양', '학력보완', '인문교양', '인문교양', '직업교육',\n",
              "        '인문교양', '문화예술', '인문교양', '인문교양', '문화예술', '인문교양', '인문교양', '인문교양',\n",
              "        '학력보완', '인문교양', '인문교양', '문화예술', '인문교양', '인문교양', '인문교양', '인문교양',\n",
              "        '인문교양', '인문교양', '문화예술', '직업교육', '인문교양', '인문교양', '인문교양', '인문교양',\n",
              "        '인문교양', '학력보완', '인문교양', '인문교양', '인문교양', '인문교양', '인문교양', '인문교양',\n",
              "        '인문교양', '직업교육', '인문교양', '인문교양', '인문교양', '인문교양', '문화예술', '인문교양',\n",
              "        '인문교양', '인문교양', '인문교양', '직업교육', '문화예술', '인문교양', '인문교양', '문화예술',\n",
              "        '인문교양', '인문교양', '인문교양', '인문교양', '문화예술', '인문교양', '문화예술', '문화예술',\n",
              "        '인문교양', '기타', '인문교양', '인문교양', '인문교양', '문화예술', '인문교양', '학력보완',\n",
              "        '인문교양', '문화예술', '인문교양', '인문교양', '인문교양', '인문교양', '인문교양', '인문교양',\n",
              "        '인문교양', '인문교양', '인문교양', '인문교양', '학력보완', '인문교양', '인문교양', '인문교양',\n",
              "        '인문교양', '인문교양', '문화예술', '인문교양', '인문교양', '기타', '문화예술', '학력보완',\n",
              "        '문화예술', '인문교양', '인문교양', '직업교육', '인문교양', '인문교양', '인문교양', '인문교양',\n",
              "        '인문교양', '인문교양', '인문교양', '인문교양', '인문교양', '인문교양', '문화예술', '문화예술',\n",
              "        '인문교양', '인문교양', '인문교양', '인문교양', '학력보완', '인문교양', '인문교양', '인문교양',\n",
              "        '문화예술', '인문교양', '직업교육', '인문교양', '인문교양', '문화예술', '인문교양', '문화예술'],\n",
              "       dtype=object), 216     학력보완\n",
              " 193     학력보완\n",
              " 978     시민참여\n",
              " 2801    문화예술\n",
              " 4672    인문교양\n",
              "         ... \n",
              " 4110    직업교육\n",
              " 6179    인문교양\n",
              " 1100    문화예술\n",
              " 4600      기타\n",
              " 353     인문교양\n",
              " Name: 분류, Length: 240, dtype: object)"
            ]
          },
          "metadata": {
            "tags": []
          },
          "execution_count": 144
        }
      ]
    },
    {
      "cell_type": "code",
      "metadata": {
        "id": "Bd2pqf_ctoGr",
        "outputId": "8ec74816-5a51-4ef7-afc0-50c3dcc99c0a",
        "colab": {
          "base_uri": "https://localhost:8080/"
        }
      },
      "source": [
        "score=0\n",
        "for i in range(len(y_train)):\n",
        "  if model.predict(X_train)[i] == y_train.iloc[i]:\n",
        "    score+=1\n",
        "print(score/len(y_train))  "
      ],
      "execution_count": 150,
      "outputs": [
        {
          "output_type": "stream",
          "text": [
            "0.44583333333333336\n"
          ],
          "name": "stdout"
        }
      ]
    }
  ]
}