{
  "nbformat": 4,
  "nbformat_minor": 0,
  "metadata": {
    "colab": {
      "name": "산공데분대회ver1.4.ipynb",
      "provenance": [],
      "collapsed_sections": [],
      "include_colab_link": true
    },
    "kernelspec": {
      "name": "python3",
      "display_name": "Python 3"
    }
  },
  "cells": [
    {
      "cell_type": "markdown",
      "metadata": {
        "id": "view-in-github",
        "colab_type": "text"
      },
      "source": [
        "<a href=\"https://colab.research.google.com/github/HWANG-HOE-SUN/BigSound/blob/master/%EC%82%B0%EA%B3%B5%EB%8D%B0%EB%B6%84%EB%8C%80%ED%9A%8Cver1_4.ipynb\" target=\"_parent\"><img src=\"https://colab.research.google.com/assets/colab-badge.svg\" alt=\"Open In Colab\"/></a>"
      ]
    },
    {
      "cell_type": "code",
      "metadata": {
        "id": "_M-1ZtcJqoBp",
        "outputId": "63b33b64-534c-4ffd-9ccc-0068ad820e73",
        "colab": {
          "base_uri": "https://localhost:8080/",
          "height": 70
        }
      },
      "source": [
        "!pip3 install wordcloud"
      ],
      "execution_count": null,
      "outputs": [
        {
          "output_type": "stream",
          "text": [
            "Requirement already satisfied: wordcloud in /usr/local/lib/python3.6/dist-packages (1.5.0)\n",
            "Requirement already satisfied: numpy>=1.6.1 in /usr/local/lib/python3.6/dist-packages (from wordcloud) (1.18.5)\n",
            "Requirement already satisfied: pillow in /usr/local/lib/python3.6/dist-packages (from wordcloud) (7.0.0)\n"
          ],
          "name": "stdout"
        }
      ]
    },
    {
      "cell_type": "code",
      "metadata": {
        "id": "O2be9RR62cwM"
      },
      "source": [
        "import pandas as pd\n",
        "import matplotlib.pyplot as plt\n",
        "import seaborn as sns\n",
        "import matplotlib as mlp\n",
        "import numpy as np\n",
        "from wordcloud import WordCloud"
      ],
      "execution_count": null,
      "outputs": []
    },
    {
      "cell_type": "code",
      "metadata": {
        "id": "BWcXXdXotrbx"
      },
      "source": [
        "import matplotlib.font_manager as fm"
      ],
      "execution_count": null,
      "outputs": []
    },
    {
      "cell_type": "code",
      "metadata": {
        "id": "vmjxdA6ottoh",
        "outputId": "d87f805d-7220-431d-f2db-f140fbaeb482",
        "colab": {
          "base_uri": "https://localhost:8080/"
        }
      },
      "source": [
        "!sudo apt-get install -y fonts-nanum\n",
        "!sudo fc-cache -fv\n",
        "!rm ~/.cache/matplotlib -rf"
      ],
      "execution_count": null,
      "outputs": [
        {
          "output_type": "stream",
          "text": [
            "Reading package lists... Done\n",
            "Building dependency tree       \n",
            "Reading state information... Done\n",
            "fonts-nanum is already the newest version (20170925-1).\n",
            "0 upgraded, 0 newly installed, 0 to remove and 11 not upgraded.\n",
            "/usr/share/fonts: caching, new cache contents: 0 fonts, 1 dirs\n",
            "/usr/share/fonts/truetype: caching, new cache contents: 0 fonts, 3 dirs\n",
            "/usr/share/fonts/truetype/humor-sans: caching, new cache contents: 1 fonts, 0 dirs\n",
            "/usr/share/fonts/truetype/liberation: caching, new cache contents: 16 fonts, 0 dirs\n",
            "/usr/share/fonts/truetype/nanum: caching, new cache contents: 10 fonts, 0 dirs\n",
            "/usr/local/share/fonts: caching, new cache contents: 0 fonts, 0 dirs\n",
            "/root/.local/share/fonts: skipping, no such directory\n",
            "/root/.fonts: skipping, no such directory\n",
            "/var/cache/fontconfig: cleaning cache directory\n",
            "/root/.cache/fontconfig: not cleaning non-existent cache directory\n",
            "/root/.fontconfig: not cleaning non-existent cache directory\n",
            "fc-cache: succeeded\n"
          ],
          "name": "stdout"
        }
      ]
    },
    {
      "cell_type": "code",
      "metadata": {
        "id": "XSI13o8RuoGH"
      },
      "source": [
        "import matplotlib.pyplot as plt\n",
        "\n",
        "plt.rc('font', family='NanumBarunGothic') "
      ],
      "execution_count": null,
      "outputs": []
    },
    {
      "cell_type": "markdown",
      "metadata": {
        "id": "oaxISR2GZwei"
      },
      "source": [
        "# konlpy환경설정"
      ]
    },
    {
      "cell_type": "code",
      "metadata": {
        "id": "2LB9P32EO7ZE",
        "outputId": "0703ff15-7a2a-4178-f110-495504c95f17",
        "colab": {
          "base_uri": "https://localhost:8080/",
          "height": 1000
        }
      },
      "source": [
        "!apt-get update \n",
        "!apt-get install g++ openjdk-8-jdk python-dev python3-dev \n",
        "!pip3 install JPype1-py3 \n",
        "!pip3 install konlpy \n",
        "!JAVA_HOME=\"E:\\jdk\""
      ],
      "execution_count": null,
      "outputs": [
        {
          "output_type": "stream",
          "text": [
            "Ign:1 https://developer.download.nvidia.com/compute/cuda/repos/ubuntu1804/x86_64  InRelease\n",
            "Ign:2 https://developer.download.nvidia.com/compute/machine-learning/repos/ubuntu1804/x86_64  InRelease\n",
            "Get:3 https://developer.download.nvidia.com/compute/cuda/repos/ubuntu1804/x86_64  Release [697 B]\n",
            "Get:4 https://developer.download.nvidia.com/compute/machine-learning/repos/ubuntu1804/x86_64  Release [564 B]\n",
            "Get:5 https://developer.download.nvidia.com/compute/cuda/repos/ubuntu1804/x86_64  Release.gpg [836 B]\n",
            "Get:6 http://ppa.launchpad.net/c2d4u.team/c2d4u4.0+/ubuntu bionic InRelease [15.9 kB]\n",
            "Get:7 https://developer.download.nvidia.com/compute/machine-learning/repos/ubuntu1804/x86_64  Release.gpg [833 B]\n",
            "Get:8 http://security.ubuntu.com/ubuntu bionic-security InRelease [88.7 kB]\n",
            "Hit:9 http://archive.ubuntu.com/ubuntu bionic InRelease\n",
            "Ign:10 https://developer.download.nvidia.com/compute/cuda/repos/ubuntu1804/x86_64  Packages\n",
            "Get:10 https://developer.download.nvidia.com/compute/cuda/repos/ubuntu1804/x86_64  Packages [370 kB]\n",
            "Get:11 http://archive.ubuntu.com/ubuntu bionic-updates InRelease [88.7 kB]\n",
            "Get:12 https://developer.download.nvidia.com/compute/machine-learning/repos/ubuntu1804/x86_64  Packages [57.0 kB]\n",
            "Hit:13 http://ppa.launchpad.net/graphics-drivers/ppa/ubuntu bionic InRelease\n",
            "Get:14 http://archive.ubuntu.com/ubuntu bionic-backports InRelease [74.6 kB]\n",
            "Get:15 http://ppa.launchpad.net/c2d4u.team/c2d4u4.0+/ubuntu bionic/main Sources [1,685 kB]\n",
            "Get:16 http://security.ubuntu.com/ubuntu bionic-security/multiverse amd64 Packages [15.4 kB]\n",
            "Get:17 http://security.ubuntu.com/ubuntu bionic-security/restricted amd64 Packages [211 kB]\n",
            "Get:18 http://archive.ubuntu.com/ubuntu bionic-updates/multiverse amd64 Packages [45.9 kB]\n",
            "Get:19 http://security.ubuntu.com/ubuntu bionic-security/main amd64 Packages [1,745 kB]\n",
            "Get:20 https://cloud.r-project.org/bin/linux/ubuntu bionic-cran40/ InRelease [3,626 B]\n",
            "Get:21 http://archive.ubuntu.com/ubuntu bionic-updates/main amd64 Packages [2,162 kB]\n",
            "Get:22 https://cloud.r-project.org/bin/linux/ubuntu bionic-cran40/ Packages [39.3 kB]\n",
            "Get:23 http://security.ubuntu.com/ubuntu bionic-security/universe amd64 Packages [1,352 kB]\n",
            "Get:24 http://archive.ubuntu.com/ubuntu bionic-updates/universe amd64 Packages [2,115 kB]\n",
            "Get:25 http://ppa.launchpad.net/c2d4u.team/c2d4u4.0+/ubuntu bionic/main amd64 Packages [863 kB]\n",
            "Get:26 http://archive.ubuntu.com/ubuntu bionic-updates/restricted amd64 Packages [238 kB]\n",
            "Fetched 11.2 MB in 5s (2,092 kB/s)\n",
            "Reading package lists... Done\n",
            "Reading package lists... Done\n",
            "Building dependency tree       \n",
            "Reading state information... Done\n",
            "python-dev is already the newest version (2.7.15~rc1-1).\n",
            "g++ is already the newest version (4:7.4.0-1ubuntu2.3).\n",
            "g++ set to manually installed.\n",
            "python3-dev is already the newest version (3.6.7-1~18.04).\n",
            "The following additional packages will be installed:\n",
            "  fonts-dejavu-core fonts-dejavu-extra libatk-wrapper-java\n",
            "  libatk-wrapper-java-jni libgail-common libgail18 libgtk2.0-0 libgtk2.0-bin\n",
            "  libgtk2.0-common libxxf86dga1 openjdk-8-jdk-headless openjdk-8-jre\n",
            "  openjdk-8-jre-headless x11-utils\n",
            "Suggested packages:\n",
            "  gvfs openjdk-8-demo openjdk-8-source visualvm icedtea-8-plugin libnss-mdns\n",
            "  fonts-ipafont-gothic fonts-ipafont-mincho fonts-wqy-microhei\n",
            "  fonts-wqy-zenhei fonts-indic mesa-utils\n",
            "The following NEW packages will be installed:\n",
            "  fonts-dejavu-core fonts-dejavu-extra libatk-wrapper-java\n",
            "  libatk-wrapper-java-jni libgail-common libgail18 libgtk2.0-0 libgtk2.0-bin\n",
            "  libgtk2.0-common libxxf86dga1 openjdk-8-jdk openjdk-8-jdk-headless\n",
            "  openjdk-8-jre openjdk-8-jre-headless x11-utils\n",
            "0 upgraded, 15 newly installed, 0 to remove and 52 not upgraded.\n",
            "Need to get 42.8 MB of archives.\n",
            "After this operation, 160 MB of additional disk space will be used.\n",
            "Get:1 http://archive.ubuntu.com/ubuntu bionic/main amd64 libxxf86dga1 amd64 2:1.1.4-1 [13.7 kB]\n",
            "Get:2 http://archive.ubuntu.com/ubuntu bionic/main amd64 fonts-dejavu-core all 2.37-1 [1,041 kB]\n",
            "Get:3 http://archive.ubuntu.com/ubuntu bionic/main amd64 fonts-dejavu-extra all 2.37-1 [1,953 kB]\n",
            "Get:4 http://archive.ubuntu.com/ubuntu bionic/main amd64 x11-utils amd64 7.7+3build1 [196 kB]\n",
            "Get:5 http://archive.ubuntu.com/ubuntu bionic/main amd64 libatk-wrapper-java all 0.33.3-20ubuntu0.1 [34.7 kB]\n",
            "Get:6 http://archive.ubuntu.com/ubuntu bionic/main amd64 libatk-wrapper-java-jni amd64 0.33.3-20ubuntu0.1 [28.3 kB]\n",
            "Get:7 http://archive.ubuntu.com/ubuntu bionic/main amd64 libgtk2.0-common all 2.24.32-1ubuntu1 [125 kB]\n",
            "Get:8 http://archive.ubuntu.com/ubuntu bionic/main amd64 libgtk2.0-0 amd64 2.24.32-1ubuntu1 [1,769 kB]\n",
            "Get:9 http://archive.ubuntu.com/ubuntu bionic/main amd64 libgail18 amd64 2.24.32-1ubuntu1 [14.2 kB]\n",
            "Get:10 http://archive.ubuntu.com/ubuntu bionic/main amd64 libgail-common amd64 2.24.32-1ubuntu1 [112 kB]\n",
            "Get:11 http://archive.ubuntu.com/ubuntu bionic/main amd64 libgtk2.0-bin amd64 2.24.32-1ubuntu1 [7,536 B]\n",
            "Get:12 http://archive.ubuntu.com/ubuntu bionic-updates/universe amd64 openjdk-8-jre-headless amd64 8u265-b01-0ubuntu2~18.04 [27.5 MB]\n",
            "Get:13 http://archive.ubuntu.com/ubuntu bionic-updates/universe amd64 openjdk-8-jre amd64 8u265-b01-0ubuntu2~18.04 [69.6 kB]\n",
            "Get:14 http://archive.ubuntu.com/ubuntu bionic-updates/universe amd64 openjdk-8-jdk-headless amd64 8u265-b01-0ubuntu2~18.04 [8,262 kB]\n",
            "Get:15 http://archive.ubuntu.com/ubuntu bionic-updates/universe amd64 openjdk-8-jdk amd64 8u265-b01-0ubuntu2~18.04 [1,610 kB]\n",
            "Fetched 42.8 MB in 6s (7,446 kB/s)\n",
            "Selecting previously unselected package libxxf86dga1:amd64.\n",
            "(Reading database ... 144629 files and directories currently installed.)\n",
            "Preparing to unpack .../00-libxxf86dga1_2%3a1.1.4-1_amd64.deb ...\n",
            "Unpacking libxxf86dga1:amd64 (2:1.1.4-1) ...\n",
            "Selecting previously unselected package fonts-dejavu-core.\n",
            "Preparing to unpack .../01-fonts-dejavu-core_2.37-1_all.deb ...\n",
            "Unpacking fonts-dejavu-core (2.37-1) ...\n",
            "Selecting previously unselected package fonts-dejavu-extra.\n",
            "Preparing to unpack .../02-fonts-dejavu-extra_2.37-1_all.deb ...\n",
            "Unpacking fonts-dejavu-extra (2.37-1) ...\n",
            "Selecting previously unselected package x11-utils.\n",
            "Preparing to unpack .../03-x11-utils_7.7+3build1_amd64.deb ...\n",
            "Unpacking x11-utils (7.7+3build1) ...\n",
            "Selecting previously unselected package libatk-wrapper-java.\n",
            "Preparing to unpack .../04-libatk-wrapper-java_0.33.3-20ubuntu0.1_all.deb ...\n",
            "Unpacking libatk-wrapper-java (0.33.3-20ubuntu0.1) ...\n",
            "Selecting previously unselected package libatk-wrapper-java-jni:amd64.\n",
            "Preparing to unpack .../05-libatk-wrapper-java-jni_0.33.3-20ubuntu0.1_amd64.deb ...\n",
            "Unpacking libatk-wrapper-java-jni:amd64 (0.33.3-20ubuntu0.1) ...\n",
            "Selecting previously unselected package libgtk2.0-common.\n",
            "Preparing to unpack .../06-libgtk2.0-common_2.24.32-1ubuntu1_all.deb ...\n",
            "Unpacking libgtk2.0-common (2.24.32-1ubuntu1) ...\n",
            "Selecting previously unselected package libgtk2.0-0:amd64.\n",
            "Preparing to unpack .../07-libgtk2.0-0_2.24.32-1ubuntu1_amd64.deb ...\n",
            "Unpacking libgtk2.0-0:amd64 (2.24.32-1ubuntu1) ...\n",
            "Selecting previously unselected package libgail18:amd64.\n",
            "Preparing to unpack .../08-libgail18_2.24.32-1ubuntu1_amd64.deb ...\n",
            "Unpacking libgail18:amd64 (2.24.32-1ubuntu1) ...\n",
            "Selecting previously unselected package libgail-common:amd64.\n",
            "Preparing to unpack .../09-libgail-common_2.24.32-1ubuntu1_amd64.deb ...\n",
            "Unpacking libgail-common:amd64 (2.24.32-1ubuntu1) ...\n",
            "Selecting previously unselected package libgtk2.0-bin.\n",
            "Preparing to unpack .../10-libgtk2.0-bin_2.24.32-1ubuntu1_amd64.deb ...\n",
            "Unpacking libgtk2.0-bin (2.24.32-1ubuntu1) ...\n",
            "Selecting previously unselected package openjdk-8-jre-headless:amd64.\n",
            "Preparing to unpack .../11-openjdk-8-jre-headless_8u265-b01-0ubuntu2~18.04_amd64.deb ...\n",
            "Unpacking openjdk-8-jre-headless:amd64 (8u265-b01-0ubuntu2~18.04) ...\n",
            "Selecting previously unselected package openjdk-8-jre:amd64.\n",
            "Preparing to unpack .../12-openjdk-8-jre_8u265-b01-0ubuntu2~18.04_amd64.deb ...\n",
            "Unpacking openjdk-8-jre:amd64 (8u265-b01-0ubuntu2~18.04) ...\n",
            "Selecting previously unselected package openjdk-8-jdk-headless:amd64.\n",
            "Preparing to unpack .../13-openjdk-8-jdk-headless_8u265-b01-0ubuntu2~18.04_amd64.deb ...\n",
            "Unpacking openjdk-8-jdk-headless:amd64 (8u265-b01-0ubuntu2~18.04) ...\n",
            "Selecting previously unselected package openjdk-8-jdk:amd64.\n",
            "Preparing to unpack .../14-openjdk-8-jdk_8u265-b01-0ubuntu2~18.04_amd64.deb ...\n",
            "Unpacking openjdk-8-jdk:amd64 (8u265-b01-0ubuntu2~18.04) ...\n",
            "Setting up libgtk2.0-common (2.24.32-1ubuntu1) ...\n",
            "Setting up fonts-dejavu-core (2.37-1) ...\n",
            "Setting up libxxf86dga1:amd64 (2:1.1.4-1) ...\n",
            "Setting up fonts-dejavu-extra (2.37-1) ...\n",
            "Setting up openjdk-8-jre-headless:amd64 (8u265-b01-0ubuntu2~18.04) ...\n",
            "update-alternatives: using /usr/lib/jvm/java-8-openjdk-amd64/jre/bin/orbd to provide /usr/bin/orbd (orbd) in auto mode\n",
            "update-alternatives: using /usr/lib/jvm/java-8-openjdk-amd64/jre/bin/servertool to provide /usr/bin/servertool (servertool) in auto mode\n",
            "update-alternatives: using /usr/lib/jvm/java-8-openjdk-amd64/jre/bin/tnameserv to provide /usr/bin/tnameserv (tnameserv) in auto mode\n",
            "Setting up libgtk2.0-0:amd64 (2.24.32-1ubuntu1) ...\n",
            "Setting up libgail18:amd64 (2.24.32-1ubuntu1) ...\n",
            "Setting up openjdk-8-jdk-headless:amd64 (8u265-b01-0ubuntu2~18.04) ...\n",
            "update-alternatives: using /usr/lib/jvm/java-8-openjdk-amd64/bin/idlj to provide /usr/bin/idlj (idlj) in auto mode\n",
            "update-alternatives: using /usr/lib/jvm/java-8-openjdk-amd64/bin/wsimport to provide /usr/bin/wsimport (wsimport) in auto mode\n",
            "update-alternatives: using /usr/lib/jvm/java-8-openjdk-amd64/bin/jsadebugd to provide /usr/bin/jsadebugd (jsadebugd) in auto mode\n",
            "update-alternatives: using /usr/lib/jvm/java-8-openjdk-amd64/bin/native2ascii to provide /usr/bin/native2ascii (native2ascii) in auto mode\n",
            "update-alternatives: using /usr/lib/jvm/java-8-openjdk-amd64/bin/javah to provide /usr/bin/javah (javah) in auto mode\n",
            "update-alternatives: using /usr/lib/jvm/java-8-openjdk-amd64/bin/clhsdb to provide /usr/bin/clhsdb (clhsdb) in auto mode\n",
            "update-alternatives: using /usr/lib/jvm/java-8-openjdk-amd64/bin/jhat to provide /usr/bin/jhat (jhat) in auto mode\n",
            "update-alternatives: using /usr/lib/jvm/java-8-openjdk-amd64/bin/extcheck to provide /usr/bin/extcheck (extcheck) in auto mode\n",
            "update-alternatives: using /usr/lib/jvm/java-8-openjdk-amd64/bin/hsdb to provide /usr/bin/hsdb (hsdb) in auto mode\n",
            "update-alternatives: using /usr/lib/jvm/java-8-openjdk-amd64/bin/schemagen to provide /usr/bin/schemagen (schemagen) in auto mode\n",
            "update-alternatives: using /usr/lib/jvm/java-8-openjdk-amd64/bin/xjc to provide /usr/bin/xjc (xjc) in auto mode\n",
            "update-alternatives: using /usr/lib/jvm/java-8-openjdk-amd64/bin/wsgen to provide /usr/bin/wsgen (wsgen) in auto mode\n",
            "Setting up x11-utils (7.7+3build1) ...\n",
            "Setting up libgail-common:amd64 (2.24.32-1ubuntu1) ...\n",
            "Setting up libatk-wrapper-java (0.33.3-20ubuntu0.1) ...\n",
            "Setting up libgtk2.0-bin (2.24.32-1ubuntu1) ...\n",
            "Setting up libatk-wrapper-java-jni:amd64 (0.33.3-20ubuntu0.1) ...\n",
            "Setting up openjdk-8-jre:amd64 (8u265-b01-0ubuntu2~18.04) ...\n",
            "update-alternatives: using /usr/lib/jvm/java-8-openjdk-amd64/jre/bin/policytool to provide /usr/bin/policytool (policytool) in auto mode\n",
            "Setting up openjdk-8-jdk:amd64 (8u265-b01-0ubuntu2~18.04) ...\n",
            "update-alternatives: using /usr/lib/jvm/java-8-openjdk-amd64/bin/appletviewer to provide /usr/bin/appletviewer (appletviewer) in auto mode\n",
            "update-alternatives: using /usr/lib/jvm/java-8-openjdk-amd64/bin/jconsole to provide /usr/bin/jconsole (jconsole) in auto mode\n",
            "Processing triggers for man-db (2.8.3-2ubuntu0.1) ...\n",
            "Processing triggers for hicolor-icon-theme (0.17-2) ...\n",
            "Processing triggers for fontconfig (2.12.6-0ubuntu2) ...\n",
            "Processing triggers for mime-support (3.60ubuntu1) ...\n",
            "Processing triggers for libc-bin (2.27-3ubuntu1.2) ...\n",
            "/sbin/ldconfig.real: /usr/local/lib/python3.6/dist-packages/ideep4py/lib/libmkldnn.so.0 is not a symbolic link\n",
            "\n",
            "Collecting JPype1-py3\n",
            "\u001b[?25l  Downloading https://files.pythonhosted.org/packages/9b/81/63f5e4202c598f362ee4684b41890f993d6e58309c5d90703f570ab85f62/JPype1-py3-0.5.5.4.tar.gz (88kB)\n",
            "\u001b[K     |████████████████████████████████| 92kB 2.3MB/s \n",
            "\u001b[?25hBuilding wheels for collected packages: JPype1-py3\n",
            "  Building wheel for JPype1-py3 (setup.py) ... \u001b[?25l\u001b[?25hdone\n",
            "  Created wheel for JPype1-py3: filename=JPype1_py3-0.5.5.4-cp36-cp36m-linux_x86_64.whl size=2669409 sha256=523615e32c366c2cdcc40985a96dc511518c7459d67d0400d7b81f39e4c31364\n",
            "  Stored in directory: /root/.cache/pip/wheels/52/37/1f/1015d908d12a0e9b239543d031fda0cded9823aa1306939541\n",
            "Successfully built JPype1-py3\n",
            "Installing collected packages: JPype1-py3\n",
            "Successfully installed JPype1-py3-0.5.5.4\n",
            "Collecting konlpy\n",
            "\u001b[?25l  Downloading https://files.pythonhosted.org/packages/85/0e/f385566fec837c0b83f216b2da65db9997b35dd675e107752005b7d392b1/konlpy-0.5.2-py2.py3-none-any.whl (19.4MB)\n",
            "\u001b[K     |████████████████████████████████| 19.4MB 1.3MB/s \n",
            "\u001b[?25hCollecting beautifulsoup4==4.6.0\n",
            "\u001b[?25l  Downloading https://files.pythonhosted.org/packages/9e/d4/10f46e5cfac773e22707237bfcd51bbffeaf0a576b0a847ec7ab15bd7ace/beautifulsoup4-4.6.0-py3-none-any.whl (86kB)\n",
            "\u001b[K     |████████████████████████████████| 92kB 7.0MB/s \n",
            "\u001b[?25hCollecting colorama\n",
            "  Downloading https://files.pythonhosted.org/packages/44/98/5b86278fbbf250d239ae0ecb724f8572af1c91f4a11edf4d36a206189440/colorama-0.4.4-py2.py3-none-any.whl\n",
            "Collecting tweepy>=3.7.0\n",
            "  Downloading https://files.pythonhosted.org/packages/bb/7c/99d51f80f3b77b107ebae2634108717362c059a41384a1810d13e2429a81/tweepy-3.9.0-py2.py3-none-any.whl\n",
            "Collecting JPype1>=0.7.0\n",
            "\u001b[?25l  Downloading https://files.pythonhosted.org/packages/fd/96/1030895dea70855a2e1078e3fe0d6a63dcb7c212309e07dc9ee39d33af54/JPype1-1.1.2-cp36-cp36m-manylinux2010_x86_64.whl (450kB)\n",
            "\u001b[K     |████████████████████████████████| 460kB 41.2MB/s \n",
            "\u001b[?25hRequirement already satisfied: lxml>=4.1.0 in /usr/local/lib/python3.6/dist-packages (from konlpy) (4.2.6)\n",
            "Requirement already satisfied: numpy>=1.6 in /usr/local/lib/python3.6/dist-packages (from konlpy) (1.18.5)\n",
            "Requirement already satisfied: requests-oauthlib>=0.7.0 in /usr/local/lib/python3.6/dist-packages (from tweepy>=3.7.0->konlpy) (1.3.0)\n",
            "Requirement already satisfied: six>=1.10.0 in /usr/local/lib/python3.6/dist-packages (from tweepy>=3.7.0->konlpy) (1.15.0)\n",
            "Requirement already satisfied: requests[socks]>=2.11.1 in /usr/local/lib/python3.6/dist-packages (from tweepy>=3.7.0->konlpy) (2.23.0)\n",
            "Requirement already satisfied: typing-extensions; python_version < \"3.8\" in /usr/local/lib/python3.6/dist-packages (from JPype1>=0.7.0->konlpy) (3.7.4.3)\n",
            "Requirement already satisfied: oauthlib>=3.0.0 in /usr/local/lib/python3.6/dist-packages (from requests-oauthlib>=0.7.0->tweepy>=3.7.0->konlpy) (3.1.0)\n",
            "Requirement already satisfied: chardet<4,>=3.0.2 in /usr/local/lib/python3.6/dist-packages (from requests[socks]>=2.11.1->tweepy>=3.7.0->konlpy) (3.0.4)\n",
            "Requirement already satisfied: idna<3,>=2.5 in /usr/local/lib/python3.6/dist-packages (from requests[socks]>=2.11.1->tweepy>=3.7.0->konlpy) (2.10)\n",
            "Requirement already satisfied: urllib3!=1.25.0,!=1.25.1,<1.26,>=1.21.1 in /usr/local/lib/python3.6/dist-packages (from requests[socks]>=2.11.1->tweepy>=3.7.0->konlpy) (1.24.3)\n",
            "Requirement already satisfied: certifi>=2017.4.17 in /usr/local/lib/python3.6/dist-packages (from requests[socks]>=2.11.1->tweepy>=3.7.0->konlpy) (2020.6.20)\n",
            "Requirement already satisfied: PySocks!=1.5.7,>=1.5.6; extra == \"socks\" in /usr/local/lib/python3.6/dist-packages (from requests[socks]>=2.11.1->tweepy>=3.7.0->konlpy) (1.7.1)\n",
            "Installing collected packages: beautifulsoup4, colorama, tweepy, JPype1, konlpy\n",
            "  Found existing installation: beautifulsoup4 4.6.3\n",
            "    Uninstalling beautifulsoup4-4.6.3:\n",
            "      Successfully uninstalled beautifulsoup4-4.6.3\n",
            "  Found existing installation: tweepy 3.6.0\n",
            "    Uninstalling tweepy-3.6.0:\n",
            "      Successfully uninstalled tweepy-3.6.0\n",
            "Successfully installed JPype1-1.1.2 beautifulsoup4-4.6.0 colorama-0.4.4 konlpy-0.5.2 tweepy-3.9.0\n"
          ],
          "name": "stdout"
        }
      ]
    },
    {
      "cell_type": "code",
      "metadata": {
        "id": "n7VGoJcrZODK"
      },
      "source": [
        "from konlpy.tag import Okt\n",
        "okt = Okt()"
      ],
      "execution_count": null,
      "outputs": []
    },
    {
      "cell_type": "code",
      "metadata": {
        "id": "ixNgbPxpjQFt",
        "outputId": "e3a71c38-2719-4750-ccee-83b940cf3141",
        "colab": {
          "base_uri": "https://localhost:8080/",
          "height": 35
        }
      },
      "source": [
        "from google.colab import drive\n",
        "drive.mount('/content/drive')"
      ],
      "execution_count": null,
      "outputs": [
        {
          "output_type": "stream",
          "text": [
            "Mounted at /content/drive\n"
          ],
          "name": "stdout"
        }
      ]
    },
    {
      "cell_type": "code",
      "metadata": {
        "id": "39dOmNppNK13"
      },
      "source": [
        "Data = pd.read_excel('/content/drive/My Drive/2020산공데분대회/데이터셋/수도권평생학습/수도권평생학습.xlsx')"
      ],
      "execution_count": null,
      "outputs": []
    },
    {
      "cell_type": "markdown",
      "metadata": {
        "id": "JKoQDOWGiBXS"
      },
      "source": [
        "# 서울과 Not서울로 나누기"
      ]
    },
    {
      "cell_type": "code",
      "metadata": {
        "id": "3jVQ0QhDiCZh"
      },
      "source": [
        "Seoul = Data[Data['제공기관명'].str.contains('서울')]\n",
        "Gyungi = Data.iloc[Seoul.index[-1]+1:]"
      ],
      "execution_count": null,
      "outputs": []
    },
    {
      "cell_type": "code",
      "metadata": {
        "id": "HOPIB9Svi5u2",
        "outputId": "60f3356d-4a96-48fd-d429-87f3ff40a26e",
        "colab": {
          "base_uri": "https://localhost:8080/",
          "height": 35
        }
      },
      "source": [
        "len(Data),len(Seoul),len(Gyungi)"
      ],
      "execution_count": null,
      "outputs": [
        {
          "output_type": "execute_result",
          "data": {
            "text/plain": [
              "(6963, 1474, 5489)"
            ]
          },
          "metadata": {
            "tags": []
          },
          "execution_count": 11
        }
      ]
    },
    {
      "cell_type": "markdown",
      "metadata": {
        "id": "k0qs0G-A6s0V"
      },
      "source": [
        "# 워딩"
      ]
    },
    {
      "cell_type": "code",
      "metadata": {
        "id": "lGuDu7Wu6ttq"
      },
      "source": [
        "# 논문 중심 키워딩\n",
        "문화예술 = ['문화예술','예술','미술','레저','생활스포츠','수영','골프','밸리댄스','풍선','아트','사진','염색',\n",
        "        '공예','노래','음악','무용','서예','관람','도자기','연극','영화'] \n",
        "인문교양 = ['인문교양','인문','교양','상담','종교','식생활','의료','의료','보건','역할','예절','정보','인터넷',\n",
        "        '생활','가정','부모','문학','과학','역사','전통','철학','행복학','독서'] \n",
        "기초문해 = ['기초문해','문해','한글교실','한국어']\n",
        "학력보완 = ['학력보완','학력','검정고시','학점']  \n",
        "시민참여 = ['시민참여','인권','양성평등','다문화','주민자치','환경생태','지역리더','평생학습','상담자','NPO','지역문화',\n",
        "        '자원봉사','환경실천'] \n",
        "직업교육 = ['직업교육','직업','창업','취업','자격증','자격인증','토익','토플','직무','연수','지도사'] "
      ],
      "execution_count": null,
      "outputs": []
    },
    {
      "cell_type": "code",
      "metadata": {
        "id": "Rlr7keIWqy_g"
      },
      "source": [
        "if '야' in (['아아','헤헤']) or '야' in ['엥']:\n",
        "  print('굳')"
      ],
      "execution_count": null,
      "outputs": []
    },
    {
      "cell_type": "code",
      "metadata": {
        "id": "GlNVMpGjFd9-"
      },
      "source": [
        "def to_cat(df):\n",
        "  i=0\n",
        "  result=[]\n",
        "  while(i<len(df)):\n",
        "    item_name = df.iloc[i].강좌명\n",
        "    item_contents = df.iloc[i].강좌내용\n",
        "    append_count = 0\n",
        "    for c in range(len(기초문해)):\n",
        "      if append_count==1:\n",
        "        break\n",
        "      if 기초문해[c] in item_name or 기초문해[c] in item_contents:\n",
        "        result.append('기초문해')\n",
        "        i+=1\n",
        "        append_count+=1\n",
        "        break\n",
        "    for d in range(len(학력보완)):\n",
        "      if append_count==1:\n",
        "        break\n",
        "      if 학력보완[d] in item_name or 학력보완[d] in item_contents:\n",
        "        result.append('학력보완')\n",
        "        i+=1\n",
        "        append_count+=1\n",
        "        break\n",
        "    for e in range(len(시민참여)):\n",
        "      if append_count==1:\n",
        "        break\n",
        "      if 시민참여[e] in item_name or 시민참여[e] in item_contents:\n",
        "        result.append('시민참여')\n",
        "        i+=1\n",
        "        append_count+=1\n",
        "        break\n",
        "    for f in range(len(직업교육)):\n",
        "      if append_count==1:\n",
        "        break\n",
        "      if 직업교육[f] in item_name or 직업교육[f] in item_contents:\n",
        "        result.append('직업교육')\n",
        "        i+=1\n",
        "        append_count+=1\n",
        "        break                          #break시 하위 반복문으로 들어감 append_count가 있어야 '네일컴퓨터교육' 이런게 중첩되서 append되지 않는다.\n",
        "    for b in range(len(인문교양)):\n",
        "      if append_count==1:\n",
        "        break\n",
        "      if 인문교양[b] in item_name or 인문교양[b] in item_contents:\n",
        "        result.append('인문교양')\n",
        "        i+=1\n",
        "        append_count+=1\n",
        "        break\n",
        "    for a in range(len(문화예술)):\n",
        "      if append_count==1:\n",
        "        break\n",
        "      if 문화예술[a] in item_name or 문화예술[a] in item_contents: #강좌명이나 내용에 위의 키워드가 포함되어 있다면 분류추가\n",
        "        result.append('문화예술') \n",
        "        i+=1\n",
        "        append_count+=1\n",
        "        break   \n",
        "    if append_count!=1:\n",
        "      result.append('기타')\n",
        "      append_count+=1\n",
        "      i+=1\n",
        "  return result"
      ],
      "execution_count": null,
      "outputs": []
    },
    {
      "cell_type": "code",
      "metadata": {
        "id": "FMWm9akGdxW8"
      },
      "source": [
        "Seoul['분류'] = to_cat(Seoul)\n",
        "Gyungi['분류'] = to_cat(Gyungi)"
      ],
      "execution_count": null,
      "outputs": []
    },
    {
      "cell_type": "code",
      "metadata": {
        "id": "O8KGebp7xHpx",
        "outputId": "bf044dd2-642a-469b-9511-b5c2ef98b2d3",
        "colab": {
          "base_uri": "https://localhost:8080/",
          "height": 284
        }
      },
      "source": [
        "Seoul['분류'].value_counts(), Gyungi['분류'].value_counts()"
      ],
      "execution_count": null,
      "outputs": [
        {
          "output_type": "execute_result",
          "data": {
            "text/plain": [
              "(기타      841\n",
              " 인문교양    265\n",
              " 문화예술    257\n",
              " 직업교육     43\n",
              " 기초문해     30\n",
              " 학력보완     23\n",
              " 시민참여     15\n",
              " Name: 분류, dtype: int64, 기타      3641\n",
              " 인문교양     657\n",
              " 직업교육     563\n",
              " 문화예술     536\n",
              " 시민참여      49\n",
              " 기초문해      38\n",
              " 학력보완       5\n",
              " Name: 분류, dtype: int64)"
            ]
          },
          "metadata": {
            "tags": []
          },
          "execution_count": 17
        }
      ]
    },
    {
      "cell_type": "markdown",
      "metadata": {
        "id": "z-LoUYDw4UCB"
      },
      "source": [
        "# 분류결과 내보내기(논문 기준)"
      ]
    },
    {
      "cell_type": "code",
      "metadata": {
        "id": "ZoAm55P8g_LL"
      },
      "source": [
        "My_Gyungi = Gyungi[Gyungi['분류']=='기타']\n",
        "My_Gyungi.to_excel('my_gyungi.xlsx')"
      ],
      "execution_count": null,
      "outputs": []
    },
    {
      "cell_type": "code",
      "metadata": {
        "id": "-LK4V9fEgSCi"
      },
      "source": [
        "My_Seoul = Seoul[Seoul['분류']=='기타']\n",
        "My_Seoul.to_excel('my_data1.xlsx')"
      ],
      "execution_count": null,
      "outputs": []
    },
    {
      "cell_type": "code",
      "metadata": {
        "id": "hflt0Kd1tv3s"
      },
      "source": [
        "# 분류 잘된거 내보내기\n",
        "Good_Gyungi = Gyungi[Gyungi['분류']!='기타']\n",
        "Good_Gyungi.to_excel('good_gyungi.xlsx')"
      ],
      "execution_count": null,
      "outputs": []
    },
    {
      "cell_type": "code",
      "metadata": {
        "id": "_WMwJJebud1U"
      },
      "source": [
        "Seoul.to_excel('Seoul.xlsx') # 첫번쨰로 분류한 결과 내보내기(잘된거,안된거 다 포함)\n",
        "Gyungi.to_excel('Gyungi.xlsx') # 첫번쨰로 분류한 결과 내보내기(잘된거,안된거 다 포함)"
      ],
      "execution_count": null,
      "outputs": []
    },
    {
      "cell_type": "markdown",
      "metadata": {
        "id": "DOlWxVVbhCVs"
      },
      "source": [
        "# konlpy 이용, 강좌명 처리"
      ]
    },
    {
      "cell_type": "code",
      "metadata": {
        "id": "0ZmNd-NfbAco",
        "outputId": "8795bb77-e0d0-4d8f-f79c-f824ae0bf0d5",
        "colab": {
          "base_uri": "https://localhost:8080/",
          "height": 35
        }
      },
      "source": [
        "Data.iloc[0]['강좌명']"
      ],
      "execution_count": null,
      "outputs": [
        {
          "output_type": "execute_result",
          "data": {
            "application/vnd.google.colaboratory.intrinsic+json": {
              "type": "string"
            },
            "text/plain": [
              "'사진작품연구반'"
            ]
          },
          "metadata": {
            "tags": []
          },
          "execution_count": 22
        }
      ]
    },
    {
      "cell_type": "code",
      "metadata": {
        "id": "1mKf-A3fatq9",
        "outputId": "0648a11b-156b-4c50-98ae-64bc01224de1",
        "colab": {
          "base_uri": "https://localhost:8080/",
          "height": 35
        }
      },
      "source": [
        "okt.nouns(Data.iloc[0]['강좌명'])"
      ],
      "execution_count": null,
      "outputs": [
        {
          "output_type": "execute_result",
          "data": {
            "text/plain": [
              "['사진', '작품', '연구', '반']"
            ]
          },
          "metadata": {
            "tags": []
          },
          "execution_count": 23
        }
      ]
    },
    {
      "cell_type": "code",
      "metadata": {
        "id": "40yQJGs5mVlC",
        "outputId": "a636e05d-a748-4dff-9312-26ff1e999914",
        "colab": {
          "base_uri": "https://localhost:8080/",
          "height": 284
        }
      },
      "source": [
        "for i in range(15):\n",
        "  print(okt.nouns(My_Gyungi.iloc[i]['강좌명']))"
      ],
      "execution_count": null,
      "outputs": [
        {
          "output_type": "stream",
          "text": [
            "['통기타', '야간']\n",
            "['클래식기타']\n",
            "['직장인', '위', '오피스', '야간']\n",
            "['유튜브', '인', '방송']\n",
            "['콘', '테츠', '크리에이터']\n",
            "['엑셀', '파워포인트']\n",
            "['나', '꽃', '선물', '야간']\n",
            "['스', '피치', '리더십', '야간']\n",
            "['수채화', '일러스트']\n",
            "['소묘', '드로잉']\n",
            "['캘리그라피']\n",
            "['현대', '수묵', '담채화']\n",
            "['홈', '패션']\n",
            "['재봉틀', '기초', '홈웨어']\n",
            "['중국어', '신', '대비']\n"
          ],
          "name": "stdout"
        }
      ]
    },
    {
      "cell_type": "markdown",
      "metadata": {
        "id": "5J-KhURU4YDt"
      },
      "source": [
        "#두번쨰 분류"
      ]
    },
    {
      "cell_type": "code",
      "metadata": {
        "id": "_eVKa2Qwn-j5"
      },
      "source": [
        "My_Gyungi = My_Gyungi.reset_index() # 인덱스 0부터로 재설정 해야함."
      ],
      "execution_count": null,
      "outputs": []
    },
    {
      "cell_type": "code",
      "metadata": {
        "id": "wjGWOj2Hbi8q"
      },
      "source": [
        "My_Seoul = My_Seoul.reset_index()"
      ],
      "execution_count": null,
      "outputs": []
    },
    {
      "cell_type": "code",
      "metadata": {
        "id": "sm9Ntr00mlrD",
        "outputId": "962b970a-3c8b-46c7-b36a-2f10e56b8c9c",
        "colab": {
          "base_uri": "https://localhost:8080/",
          "height": 106
        }
      },
      "source": [
        "# 기타로 나온 항목에 대해, 추가 분류 작업.(예전에 워딩했던 키워드 응용)\n",
        "new직업교육 = ['HSK','기능사','대비반','영어','일본어','외국어','번역','회화','문해','프리토킹','문법','한문'\n",
        ",'엑셀','파워포인트','컴퓨터','인터넷','스마트폰','ITQ','복지사','자격','전산회계','네일리스트','심리학','심리통계',\n",
        "'평생교육강사','실무','쉐프','직장인','실무','전문가','중국어','작가','관리사','코딩','PPT','C언어','자격','전직지원',\n",
        "'플로리스트','행동교정사','바리스타']\n",
        "new인문교양 = ['리더십','크리에이터','유튜브','구기','헬스','요가','필라테스','무용','에어로빅',\n",
        "           '요리','음식','차','김치','샌드위치','떡','브런치','제과','제빵','베이커리','베이킹',\n",
        "           '케이크','고추장','한식','양식','가정식','디저트','건강식','약초','슬로푸드','운동',\n",
        "           '지도방법','맥주','훌라','동양고전','마사지','물리학','논어','테니스','그릇','스트레칭',\n",
        "           '과일','근력','다이어트','건강','게이트볼','국선도','고려수지침','명심보감','단전호흡','간식',\n",
        "           '한복','전산회계','피부','반찬','근현대사','명상','스피치','북트레일러','심리','식습관',\n",
        "           '킥복싱','삼국시대','책놀이','암산','주산','체조','워킹','수어','마케팅','세계사','슬로우리딩',\n",
        "           '커뮤니케이션','니체','수납정리','글쓰기','가짜뉴스','추리','약용식물','에세이','진로','수학여행',\n",
        "           '산책','북바인딩','체조','신화','체형','환경보호','안전교육','소통','스포츠','줌바','행정법률','경제',\n",
        "           '양육','고사성어','비누','와인','공모전','탁구','채소','보험','이유식','레시피','카페','글쓰기','헤어',\n",
        "           '피부','인성','시','세계사','수화','명화','명상','상식','커뮤니케이션','사마천','블로그','미용','머리','초콜릿',\n",
        "           '파스타','리조또','옷','태극권','재무','한국사','빵','푸드','간식','호신술','정리','발레','의류','산책','니체',\n",
        "           '관상학','커피']\n",
        "new문화예술 = ['미술','일러스트','수채화','기타','드럼','해금','하모니카','오카리나','색소폰','플루트','드로잉','pop','캘리그라피','합창',\n",
        "       '가곡','가요','민요','서양화','수묵화','소묘','그리기','스케치','손글씨','캐리커쳐','노래','댄스','풍물','아트','오케스트라',\n",
        "       '뮤지컬','바이올린','우쿨렐레','도자기','인물화','악기','서예','페인팅','포토','사군자','꽃','공예','DIY','목공','섬유','의상','꽃꽂이',\n",
        "       '화훼','도예','자수','퀼트','보컬','가죽소품','카메라','춤','성악','우크렐레','하프앙상블','연필화','수채캘리','장고','SNS','수납함',\n",
        "       '미니어처','캔들','가야금','홈메이드','향기','피아노','첼로','쉐도우박스','카메라','루브르','샹송','문화체험','농악','유화','동화',\n",
        "       '3D펜','그림책','애니메이션','명화','마크라메','클레이','바둑','체스','문화유적','LED','마술','현악','보드게임','3D프린터','아코디언',\n",
        "       '앙상블','원예','난타','사물놀이','선율','대금','엽서','크로키','타로카드','RC카','드론','명소','로봇블럭','장난감','골드버그','세마대',\n",
        "       '민화','재봉틀','플룻','컬러링','가락','민화','타로카드','심리검사','프라모델','체형','문화체험','리코더','화장품','아로마테라피','목판화',\n",
        "       '팝송','드론','약용식물','피아노']\n",
        "new기초문해 = ['한국말','한글']\n",
        "new학력보완 = ['검정고시']\n",
        "new시민참여 = ['시민교육','아빠','엄마','아이']\n"
      ],
      "execution_count": null,
      "outputs": [
        {
          "output_type": "stream",
          "text": [
            "/usr/local/lib/python3.6/dist-packages/pandas/core/indexing.py:670: SettingWithCopyWarning: \n",
            "A value is trying to be set on a copy of a slice from a DataFrame\n",
            "\n",
            "See the caveats in the documentation: https://pandas.pydata.org/pandas-docs/stable/user_guide/indexing.html#returning-a-view-versus-a-copy\n",
            "  iloc._setitem_with_indexer(indexer, value)\n"
          ],
          "name": "stderr"
        }
      ]
    },
    {
      "cell_type": "code",
      "metadata": {
        "id": "1-gpzF1ra0U_"
      },
      "source": [
        "def to_cat2(data):\n",
        "  for i in range(len(data)):\n",
        "    for a in new직업교육:\n",
        "      if a in data.iloc[i]['강좌명'] or a in data.iloc[i]['강좌내용']:\n",
        "        data['분류'].iloc[i] = '직업교육'\n",
        "    for b in new인문교양:\n",
        "      if b in data.iloc[i]['강좌명'] or b in data.iloc[i]['강좌내용']:\n",
        "        data['분류'].iloc[i] = '인문교양'\n",
        "    for c in new문화예술:\n",
        "      if c in data.iloc[i]['강좌명'] or c in data.iloc[i]['강좌내용']:\n",
        "        data['분류'].iloc[i] = '문화예술'\n",
        "    for d in new기초문해:\n",
        "      if d in data.iloc[i]['강좌명'] or d in data.iloc[i]['강좌내용']:\n",
        "        data['분류'].iloc[i] = '기초문해'\n",
        "    for e in new학력보완:\n",
        "      if e in data.iloc[i]['강좌명'] or e in data.iloc[i]['강좌내용']:\n",
        "        data['분류'].iloc[i] = '학력보완'\n",
        "    for f in new시민참여:\n",
        "      if f in data.iloc[i]['강좌명'] or f in data.iloc[i]['강좌내용']:\n",
        "        data['분류'].iloc[i] = '시민참여'\n",
        "  return data"
      ],
      "execution_count": null,
      "outputs": []
    },
    {
      "cell_type": "code",
      "metadata": {
        "id": "VGwKibt3bW3O",
        "outputId": "c4690a22-df3e-4532-91fa-a8c81a4d402d",
        "colab": {
          "base_uri": "https://localhost:8080/",
          "height": 106
        }
      },
      "source": [
        "My_Gyungi = to_cat2(My_Gyungi)\n",
        "My_Seoul = to_cat2(My_Seoul)"
      ],
      "execution_count": null,
      "outputs": [
        {
          "output_type": "stream",
          "text": [
            "/usr/local/lib/python3.6/dist-packages/pandas/core/indexing.py:670: SettingWithCopyWarning: \n",
            "A value is trying to be set on a copy of a slice from a DataFrame\n",
            "\n",
            "See the caveats in the documentation: https://pandas.pydata.org/pandas-docs/stable/user_guide/indexing.html#returning-a-view-versus-a-copy\n",
            "  iloc._setitem_with_indexer(indexer, value)\n"
          ],
          "name": "stderr"
        }
      ]
    },
    {
      "cell_type": "code",
      "metadata": {
        "id": "FRHnSj9pncyv",
        "outputId": "08286133-0e91-4450-c9fd-64776f2a5ca3",
        "colab": {
          "base_uri": "https://localhost:8080/",
          "height": 248
        }
      },
      "source": [
        "My_Seoul['분류'].value_counts() , My_Gyungi['분류'].value_counts()"
      ],
      "execution_count": null,
      "outputs": [
        {
          "output_type": "execute_result",
          "data": {
            "text/plain": [
              "(인문교양    296\n",
              " 문화예술    245\n",
              " 기타      181\n",
              " 직업교육     91\n",
              " 시민참여     18\n",
              " 기초문해     10\n",
              " Name: 분류, dtype: int64, 문화예술    1369\n",
              " 인문교양    1140\n",
              " 기타       569\n",
              " 직업교육     458\n",
              " 시민참여      81\n",
              " 기초문해      24\n",
              " Name: 분류, dtype: int64)"
            ]
          },
          "metadata": {
            "tags": []
          },
          "execution_count": 50
        }
      ]
    },
    {
      "cell_type": "code",
      "metadata": {
        "id": "_abcoO_8C9rP"
      },
      "source": [
        "ang = My_Gyungi[My_Gyungi['분류']=='기타']\n",
        "ang.to_excel(\"ang.xlsx\")\n",
        "ang_s = My_Seoul[My_Seoul['분류']=='기타']\n",
        "ang_s.to_excel(\"ang_s.xlsx\")"
      ],
      "execution_count": null,
      "outputs": []
    },
    {
      "cell_type": "code",
      "metadata": {
        "id": "de3dW0GB4Jpr"
      },
      "source": [
        "My_Seoul.to_excel('Seoul2.xlsx') # 두번째로 분류한 서울 data set(된거, 안된거 다 포함)\n",
        "My_Gyungi.to_excel('Gyungi2.xlsx') # 두번째로 분류한 경기도 data set(된거, 안된거 다 포함)"
      ],
      "execution_count": null,
      "outputs": []
    },
    {
      "cell_type": "markdown",
      "metadata": {
        "id": "SwvAPxUf4sBX"
      },
      "source": [
        "# 주요 엑셀 시각화"
      ]
    },
    {
      "cell_type": "code",
      "metadata": {
        "id": "eGhbSVSElYua",
        "outputId": "0285213f-3112-4cc5-a034-cd8a131ff15e",
        "colab": {
          "base_uri": "https://localhost:8080/",
          "height": 35
        }
      },
      "source": [
        "#크롤링 코드\n",
        "\"\"\"\n",
        "from bs4 import BeautifulSoup\n",
        "from urllib.request import urlopen\n",
        "path= (\"\")\n",
        "response = urlopen(path)\n",
        "soup = BeautifulSoup(response,'html.parser')\n",
        "for author in soup.find_all('a'):\n",
        "  print(anchor.get('href','/'))\n",
        "\"\"\""
      ],
      "execution_count": null,
      "outputs": [
        {
          "output_type": "execute_result",
          "data": {
            "application/vnd.google.colaboratory.intrinsic+json": {
              "type": "string"
            },
            "text/plain": [
              "'\\npath= (\"\")\\nresponse = urlopen(path)\\nsoup = BeautifulSoup(response,\\'html.parser\\')\\nfor author in soup.find_all(\\'a\\'):\\n  print(anchor.get(\\'href\\',\\'/\\'))\\n'"
            ]
          },
          "metadata": {
            "tags": []
          },
          "execution_count": 2
        }
      ]
    },
    {
      "cell_type": "code",
      "metadata": {
        "id": "JiwicIb5lX3X",
        "outputId": "deb11186-ce0e-47ec-d973-d58eb1bc5324",
        "colab": {
          "base_uri": "https://localhost:8080/",
          "height": 194
        }
      },
      "source": [
        "pivot = pd.read_excel(\"수도권피벗테이블.xlsx\")\n",
        "pivot.head()"
      ],
      "execution_count": null,
      "outputs": [
        {
          "output_type": "execute_result",
          "data": {
            "text/html": [
              "<div>\n",
              "<style scoped>\n",
              "    .dataframe tbody tr th:only-of-type {\n",
              "        vertical-align: middle;\n",
              "    }\n",
              "\n",
              "    .dataframe tbody tr th {\n",
              "        vertical-align: top;\n",
              "    }\n",
              "\n",
              "    .dataframe thead th {\n",
              "        text-align: right;\n",
              "    }\n",
              "</style>\n",
              "<table border=\"1\" class=\"dataframe\">\n",
              "  <thead>\n",
              "    <tr style=\"text-align: right;\">\n",
              "      <th></th>\n",
              "      <th>지역</th>\n",
              "      <th>기초문해</th>\n",
              "      <th>기타</th>\n",
              "      <th>문화예술</th>\n",
              "      <th>시민참여</th>\n",
              "      <th>인문교양</th>\n",
              "      <th>직업교육</th>\n",
              "      <th>총합계</th>\n",
              "    </tr>\n",
              "  </thead>\n",
              "  <tbody>\n",
              "    <tr>\n",
              "      <th>0</th>\n",
              "      <td>경기도 가평군</td>\n",
              "      <td>0</td>\n",
              "      <td>1</td>\n",
              "      <td>9</td>\n",
              "      <td>0</td>\n",
              "      <td>1</td>\n",
              "      <td>0</td>\n",
              "      <td>11</td>\n",
              "    </tr>\n",
              "    <tr>\n",
              "      <th>1</th>\n",
              "      <td>경기도 고양시</td>\n",
              "      <td>0</td>\n",
              "      <td>2</td>\n",
              "      <td>42</td>\n",
              "      <td>0</td>\n",
              "      <td>30</td>\n",
              "      <td>13</td>\n",
              "      <td>87</td>\n",
              "    </tr>\n",
              "    <tr>\n",
              "      <th>2</th>\n",
              "      <td>경기도 과천시</td>\n",
              "      <td>0</td>\n",
              "      <td>26</td>\n",
              "      <td>85</td>\n",
              "      <td>2</td>\n",
              "      <td>107</td>\n",
              "      <td>23</td>\n",
              "      <td>243</td>\n",
              "    </tr>\n",
              "    <tr>\n",
              "      <th>3</th>\n",
              "      <td>경기도 광명시</td>\n",
              "      <td>0</td>\n",
              "      <td>38</td>\n",
              "      <td>127</td>\n",
              "      <td>3</td>\n",
              "      <td>159</td>\n",
              "      <td>51</td>\n",
              "      <td>378</td>\n",
              "    </tr>\n",
              "    <tr>\n",
              "      <th>4</th>\n",
              "      <td>경기도 구리시</td>\n",
              "      <td>0</td>\n",
              "      <td>0</td>\n",
              "      <td>7</td>\n",
              "      <td>0</td>\n",
              "      <td>4</td>\n",
              "      <td>2</td>\n",
              "      <td>13</td>\n",
              "    </tr>\n",
              "  </tbody>\n",
              "</table>\n",
              "</div>"
            ],
            "text/plain": [
              "        지역  기초문해  기타  문화예술  시민참여  인문교양  직업교육  총합계\n",
              "0  경기도 가평군     0   1     9     0     1     0   11\n",
              "1  경기도 고양시     0   2    42     0    30    13   87\n",
              "2  경기도 과천시     0  26    85     2   107    23  243\n",
              "3  경기도 광명시     0  38   127     3   159    51  378\n",
              "4  경기도 구리시     0   0     7     0     4     2   13"
            ]
          },
          "metadata": {
            "tags": []
          },
          "execution_count": 122
        }
      ]
    },
    {
      "cell_type": "code",
      "metadata": {
        "id": "wZ0gW3MA4-b0",
        "outputId": "f02512aa-5248-4081-8c6e-295ea21ebdae",
        "colab": {
          "base_uri": "https://localhost:8080/"
        }
      },
      "source": [
        "import json\n",
        "import folium\n",
        "import platform\n",
        "import matplotlib.pyplot as plt\n",
        "\n",
        "%matplotlib inline"
      ],
      "execution_count": null,
      "outputs": [
        {
          "output_type": "stream",
          "text": [
            "Unknown system... sorry~~~~\n"
          ],
          "name": "stdout"
        }
      ]
    },
    {
      "cell_type": "code",
      "metadata": {
        "id": "qudJeBiAGOrA",
        "outputId": "3a7b232f-518a-4f69-869d-611452d6c266",
        "colab": {
          "base_uri": "https://localhost:8080/"
        }
      },
      "source": [
        "pivot['행정구역'] = np.nan\n",
        "pivot['광역시도'] = np.nan\n",
        "for i in range(len(pivot)):\n",
        "  pivot['광역시도'][i] = pivot['지역'][i].split(' ')[0] # 광역시도(text)을 따로 저장하겠음\n",
        "  pivot['행정구역'][i] = pivot['지역'][i].split(' ')[-1] # 행정구역(text)을 따로 저장하겠음"
      ],
      "execution_count": null,
      "outputs": [
        {
          "output_type": "stream",
          "text": [
            "/usr/local/lib/python3.6/dist-packages/ipykernel_launcher.py:4: SettingWithCopyWarning: \n",
            "A value is trying to be set on a copy of a slice from a DataFrame\n",
            "\n",
            "See the caveats in the documentation: https://pandas.pydata.org/pandas-docs/stable/user_guide/indexing.html#returning-a-view-versus-a-copy\n",
            "  after removing the cwd from sys.path.\n",
            "/usr/local/lib/python3.6/dist-packages/pandas/core/indexing.py:670: SettingWithCopyWarning: \n",
            "A value is trying to be set on a copy of a slice from a DataFrame\n",
            "\n",
            "See the caveats in the documentation: https://pandas.pydata.org/pandas-docs/stable/user_guide/indexing.html#returning-a-view-versus-a-copy\n",
            "  iloc._setitem_with_indexer(indexer, value)\n",
            "/usr/local/lib/python3.6/dist-packages/ipykernel_launcher.py:5: SettingWithCopyWarning: \n",
            "A value is trying to be set on a copy of a slice from a DataFrame\n",
            "\n",
            "See the caveats in the documentation: https://pandas.pydata.org/pandas-docs/stable/user_guide/indexing.html#returning-a-view-versus-a-copy\n",
            "  \"\"\"\n"
          ],
          "name": "stderr"
        }
      ]
    },
    {
      "cell_type": "code",
      "metadata": {
        "id": "3wvak9W8HSkP",
        "outputId": "6636102e-7d45-450c-f6bc-0a058ba34859",
        "colab": {
          "base_uri": "https://localhost:8080/"
        }
      },
      "source": [
        "pivot['행정구역'].head(),pivot['광역시도'].head()"
      ],
      "execution_count": null,
      "outputs": [
        {
          "output_type": "execute_result",
          "data": {
            "text/plain": [
              "(0    가평군\n",
              " 1    고양시\n",
              " 2    과천시\n",
              " 3    광명시\n",
              " 4    구리시\n",
              " Name: 행정구역, dtype: object, 0    경기도\n",
              " 1    경기도\n",
              " 2    경기도\n",
              " 3    경기도\n",
              " 4    경기도\n",
              " Name: 광역시도, dtype: object)"
            ]
          },
          "metadata": {
            "tags": []
          },
          "execution_count": 161
        }
      ]
    },
    {
      "cell_type": "code",
      "metadata": {
        "id": "cqdRsu3w6jRu",
        "outputId": "d1d8d732-7316-4983-f83f-6cd05668447b",
        "colab": {
          "base_uri": "https://localhost:8080/",
          "height": 194
        }
      },
      "source": [
        "data_draw_korea = pd.read_csv('data_draw_korea.csv',index_col=0,encoding='UTF-8')\n",
        "data_draw_korea.head()"
      ],
      "execution_count": null,
      "outputs": [
        {
          "output_type": "execute_result",
          "data": {
            "text/html": [
              "<div>\n",
              "<style scoped>\n",
              "    .dataframe tbody tr th:only-of-type {\n",
              "        vertical-align: middle;\n",
              "    }\n",
              "\n",
              "    .dataframe tbody tr th {\n",
              "        vertical-align: top;\n",
              "    }\n",
              "\n",
              "    .dataframe thead th {\n",
              "        text-align: right;\n",
              "    }\n",
              "</style>\n",
              "<table border=\"1\" class=\"dataframe\">\n",
              "  <thead>\n",
              "    <tr style=\"text-align: right;\">\n",
              "      <th></th>\n",
              "      <th>인구수</th>\n",
              "      <th>shortName</th>\n",
              "      <th>x</th>\n",
              "      <th>y</th>\n",
              "      <th>면적</th>\n",
              "      <th>광역시도</th>\n",
              "      <th>행정구역</th>\n",
              "    </tr>\n",
              "  </thead>\n",
              "  <tbody>\n",
              "    <tr>\n",
              "      <th>0</th>\n",
              "      <td>202520</td>\n",
              "      <td>강릉</td>\n",
              "      <td>11</td>\n",
              "      <td>4</td>\n",
              "      <td>1040.07</td>\n",
              "      <td>강원도</td>\n",
              "      <td>강릉시</td>\n",
              "    </tr>\n",
              "    <tr>\n",
              "      <th>1</th>\n",
              "      <td>25589</td>\n",
              "      <td>고성(강원)</td>\n",
              "      <td>9</td>\n",
              "      <td>0</td>\n",
              "      <td>664.19</td>\n",
              "      <td>강원도</td>\n",
              "      <td>고성군</td>\n",
              "    </tr>\n",
              "    <tr>\n",
              "      <th>2</th>\n",
              "      <td>86747</td>\n",
              "      <td>동해</td>\n",
              "      <td>11</td>\n",
              "      <td>5</td>\n",
              "      <td>180.01</td>\n",
              "      <td>강원도</td>\n",
              "      <td>동해시</td>\n",
              "    </tr>\n",
              "    <tr>\n",
              "      <th>3</th>\n",
              "      <td>63986</td>\n",
              "      <td>삼척</td>\n",
              "      <td>11</td>\n",
              "      <td>8</td>\n",
              "      <td>1185.80</td>\n",
              "      <td>강원도</td>\n",
              "      <td>삼척시</td>\n",
              "    </tr>\n",
              "    <tr>\n",
              "      <th>4</th>\n",
              "      <td>76733</td>\n",
              "      <td>속초</td>\n",
              "      <td>9</td>\n",
              "      <td>1</td>\n",
              "      <td>105.25</td>\n",
              "      <td>강원도</td>\n",
              "      <td>속초시</td>\n",
              "    </tr>\n",
              "  </tbody>\n",
              "</table>\n",
              "</div>"
            ],
            "text/plain": [
              "      인구수 shortName   x  y       면적 광역시도 행정구역\n",
              "0  202520        강릉  11  4  1040.07  강원도  강릉시\n",
              "1   25589    고성(강원)   9  0   664.19  강원도  고성군\n",
              "2   86747        동해  11  5   180.01  강원도  동해시\n",
              "3   63986        삼척  11  8  1185.80  강원도  삼척시\n",
              "4   76733        속초   9  1   105.25  강원도  속초시"
            ]
          },
          "metadata": {
            "tags": []
          },
          "execution_count": 143
        }
      ]
    },
    {
      "cell_type": "code",
      "metadata": {
        "id": "TU0QCCyU-xLx"
      },
      "source": [
        "sudogwan = data_draw_korea[(data_draw_korea['광역시도']=='경기도') | (data_draw_korea['광역시도']=='서울특별시')]"
      ],
      "execution_count": null,
      "outputs": []
    },
    {
      "cell_type": "code",
      "metadata": {
        "id": "wg-r3Wx2GFTf",
        "outputId": "5d2132dc-0063-4f51-824b-581fcaa414fb",
        "colab": {
          "base_uri": "https://localhost:8080/",
          "height": 194
        }
      },
      "source": [
        "sudogwan_geo = sudogwan.loc[:,['x','y','행정구역']]\n",
        "new_df = pd.merge(pivot,sudogwan_geo,on='행정구역')\n",
        "new_df.head()"
      ],
      "execution_count": null,
      "outputs": [
        {
          "output_type": "execute_result",
          "data": {
            "text/html": [
              "<div>\n",
              "<style scoped>\n",
              "    .dataframe tbody tr th:only-of-type {\n",
              "        vertical-align: middle;\n",
              "    }\n",
              "\n",
              "    .dataframe tbody tr th {\n",
              "        vertical-align: top;\n",
              "    }\n",
              "\n",
              "    .dataframe thead th {\n",
              "        text-align: right;\n",
              "    }\n",
              "</style>\n",
              "<table border=\"1\" class=\"dataframe\">\n",
              "  <thead>\n",
              "    <tr style=\"text-align: right;\">\n",
              "      <th></th>\n",
              "      <th>지역</th>\n",
              "      <th>기초문해</th>\n",
              "      <th>기타</th>\n",
              "      <th>문화예술</th>\n",
              "      <th>시민참여</th>\n",
              "      <th>인문교양</th>\n",
              "      <th>직업교육</th>\n",
              "      <th>총합계</th>\n",
              "      <th>행정구역</th>\n",
              "      <th>광역시도</th>\n",
              "      <th>x</th>\n",
              "      <th>y</th>\n",
              "    </tr>\n",
              "  </thead>\n",
              "  <tbody>\n",
              "    <tr>\n",
              "      <th>0</th>\n",
              "      <td>경기도 가평군</td>\n",
              "      <td>0</td>\n",
              "      <td>1</td>\n",
              "      <td>9</td>\n",
              "      <td>0</td>\n",
              "      <td>1</td>\n",
              "      <td>0</td>\n",
              "      <td>11</td>\n",
              "      <td>가평군</td>\n",
              "      <td>경기도</td>\n",
              "      <td>9</td>\n",
              "      <td>3</td>\n",
              "    </tr>\n",
              "    <tr>\n",
              "      <th>1</th>\n",
              "      <td>경기도 고양시</td>\n",
              "      <td>0</td>\n",
              "      <td>2</td>\n",
              "      <td>42</td>\n",
              "      <td>0</td>\n",
              "      <td>30</td>\n",
              "      <td>13</td>\n",
              "      <td>87</td>\n",
              "      <td>고양시</td>\n",
              "      <td>경기도</td>\n",
              "      <td>4</td>\n",
              "      <td>2</td>\n",
              "    </tr>\n",
              "    <tr>\n",
              "      <th>2</th>\n",
              "      <td>경기도 과천시</td>\n",
              "      <td>0</td>\n",
              "      <td>26</td>\n",
              "      <td>85</td>\n",
              "      <td>2</td>\n",
              "      <td>107</td>\n",
              "      <td>23</td>\n",
              "      <td>243</td>\n",
              "      <td>과천시</td>\n",
              "      <td>경기도</td>\n",
              "      <td>7</td>\n",
              "      <td>7</td>\n",
              "    </tr>\n",
              "    <tr>\n",
              "      <th>3</th>\n",
              "      <td>경기도 광명시</td>\n",
              "      <td>0</td>\n",
              "      <td>38</td>\n",
              "      <td>127</td>\n",
              "      <td>3</td>\n",
              "      <td>159</td>\n",
              "      <td>51</td>\n",
              "      <td>378</td>\n",
              "      <td>광명시</td>\n",
              "      <td>경기도</td>\n",
              "      <td>3</td>\n",
              "      <td>3</td>\n",
              "    </tr>\n",
              "    <tr>\n",
              "      <th>4</th>\n",
              "      <td>경기도 구리시</td>\n",
              "      <td>0</td>\n",
              "      <td>0</td>\n",
              "      <td>7</td>\n",
              "      <td>0</td>\n",
              "      <td>4</td>\n",
              "      <td>2</td>\n",
              "      <td>13</td>\n",
              "      <td>구리시</td>\n",
              "      <td>경기도</td>\n",
              "      <td>9</td>\n",
              "      <td>4</td>\n",
              "    </tr>\n",
              "  </tbody>\n",
              "</table>\n",
              "</div>"
            ],
            "text/plain": [
              "        지역  기초문해  기타  문화예술  시민참여  인문교양  직업교육  총합계 행정구역 광역시도  x  y\n",
              "0  경기도 가평군     0   1     9     0     1     0   11  가평군  경기도  9  3\n",
              "1  경기도 고양시     0   2    42     0    30    13   87  고양시  경기도  4  2\n",
              "2  경기도 과천시     0  26    85     2   107    23  243  과천시  경기도  7  7\n",
              "3  경기도 광명시     0  38   127     3   159    51  378  광명시  경기도  3  3\n",
              "4  경기도 구리시     0   0     7     0     4     2   13  구리시  경기도  9  4"
            ]
          },
          "metadata": {
            "tags": []
          },
          "execution_count": 162
        }
      ]
    },
    {
      "cell_type": "code",
      "metadata": {
        "id": "ioC2ADTV8r-_",
        "outputId": "118b9a77-ca3b-4c3d-f0ca-2684488e3669",
        "colab": {
          "base_uri": "https://localhost:8080/",
          "height": 945
        }
      },
      "source": [
        "# 다른사람 코드 참고해서 plot (기대한 대로 깔끔하게 안나옴->R에서 다시 시도!)\n",
        "\n",
        "BORDER_LINES = [\n",
        "                [(3, 2), (5, 2), (5, 3), (9, 3), (9, 1)], #인천\n",
        "    [(2, 5), (3, 5), (3, 4), (8, 4), (8, 7), (7, 7), (7, 9), (4, 9), (4, 7), (1, 7)], # 서울\n",
        "    [(1, 6), (1, 9), (3, 9), (3, 10), (8, 10), (8, 9),\n",
        "     (9, 9), (9, 8), (10, 8), (10, 5), (9, 5), (9, 3)]] # 경기도\n",
        "\n",
        "\n",
        "blockedMap = new_df\n",
        "targetData = '총합계'\n",
        "\n",
        "whitelabelmin = blockedMap[targetData].mean()\n",
        "\n",
        "datalabel = targetData\n",
        "\n",
        "vmin = min(blockedMap[targetData])\n",
        "vmax = max(blockedMap[targetData])\n",
        "\n",
        "mapdata = blockedMap.pivot(index='y', columns='x', values=targetData)\n",
        "masked_mapdata = np.ma.masked_where(np.isnan(mapdata), mapdata)\n",
        "\n",
        "plt.figure(figsize=(8, 13))\n",
        "plt.pcolor(masked_mapdata, vmin=vmin, vmax=vmax, cmap=cmapname, edgecolor='#aaaaaa', linewidth=0.5)\n",
        "\n",
        "    # 지역 이름 표시\n",
        "for idx, row in blockedMap.iterrows():\n",
        "    annocolor = 'red' if row[targetData] > whitelabelmin else 'black'\n",
        "    dispname = '{}\\n{}'.format(row['광역시도'][:2], row['행정구역'][:])\n",
        "    if len(dispname.splitlines()[-1]) >= 3:\n",
        "        fontsize, linespacing = 9.5, 1.5\n",
        "    else:\n",
        "        fontsize, linespacing = 11, 1.2\n",
        "    plt.annotate(dispname, (row['x']+0.5, row['y']+0.5), weight='bold',\n",
        "                     fontsize=fontsize, ha='center', va='center', color=annocolor,\n",
        "                     linespacing=linespacing)\n",
        "        \n",
        "    # 시도 경계 그린다.\n",
        "for path in BORDER_LINES:\n",
        "    ys, xs = zip(*path)\n",
        "    plt.plot(xs, ys, c='black', lw=4)\n",
        "\n",
        "plt.gca().invert_yaxis()\n",
        "#plt.gca().set_aspect(1)\n",
        "\n",
        "plt.axis('off')\n",
        "\n",
        "cb = plt.colorbar(shrink=.1, aspect=10)\n",
        "cb.set_label(datalabel)\n",
        "\n",
        "plt.tight_layout()\n",
        "plt.show()"
      ],
      "execution_count": null,
      "outputs": [
        {
          "output_type": "display_data",
          "data": {
            "image/png": "[encoded data removed]",
            "text/plain": [
              "<Figure size 576x936 with 2 Axes>"
            ]
          },
          "metadata": {
            "tags": [],
            "needs_background": "light"
          }
        }
      ]
    },
    {
      "cell_type": "code",
      "metadata": {
        "id": "zgGjREo1rGlL"
      },
      "source": [
        "new_df.to_excel(\"수도권_지도.xlsx\")"
      ],
      "execution_count": null,
      "outputs": []
    }
  ]
}